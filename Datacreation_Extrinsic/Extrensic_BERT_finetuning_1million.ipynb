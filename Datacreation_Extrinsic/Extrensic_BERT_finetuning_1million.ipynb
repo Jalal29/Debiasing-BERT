{
  "nbformat": 4,
  "nbformat_minor": 0,
  "metadata": {
    "colab": {
      "name": "Extrensic_BERT_finetuning_1million.ipynb",
      "provenance": [],
      "collapsed_sections": []
    },
    "kernelspec": {
      "name": "python3",
      "display_name": "Python 3"
    },
    "language_info": {
      "name": "python"
    },
    "widgets": {
      "application/vnd.jupyter.widget-state+json": {
        "8a4a2db3c0af494c9954f03674e8f8ac": {
          "model_module": "@jupyter-widgets/controls",
          "model_name": "HBoxModel",
          "model_module_version": "1.5.0",
          "state": {
            "_view_name": "HBoxView",
            "_dom_classes": [],
            "_model_name": "HBoxModel",
            "_view_module": "@jupyter-widgets/controls",
            "_model_module_version": "1.5.0",
            "_view_count": null,
            "_view_module_version": "1.5.0",
            "box_style": "",
            "layout": "IPY_MODEL_8965939d56b84b5093a9165e2f104ef4",
            "_model_module": "@jupyter-widgets/controls",
            "children": [
              "IPY_MODEL_9dc5691db76e48bdbf5ff8ae28f7b7ce",
              "IPY_MODEL_4e65df3588154306bdbf27903cab0790",
              "IPY_MODEL_9f1eaa68ea9b413fb68fbab53a3452bc"
            ]
          }
        },
        "8965939d56b84b5093a9165e2f104ef4": {
          "model_module": "@jupyter-widgets/base",
          "model_name": "LayoutModel",
          "model_module_version": "1.2.0",
          "state": {
            "_view_name": "LayoutView",
            "grid_template_rows": null,
            "right": null,
            "justify_content": null,
            "_view_module": "@jupyter-widgets/base",
            "overflow": null,
            "_model_module_version": "1.2.0",
            "_view_count": null,
            "flex_flow": null,
            "width": null,
            "min_width": null,
            "border": null,
            "align_items": null,
            "bottom": null,
            "_model_module": "@jupyter-widgets/base",
            "top": null,
            "grid_column": null,
            "overflow_y": null,
            "overflow_x": null,
            "grid_auto_flow": null,
            "grid_area": null,
            "grid_template_columns": null,
            "flex": null,
            "_model_name": "LayoutModel",
            "justify_items": null,
            "grid_row": null,
            "max_height": null,
            "align_content": null,
            "visibility": null,
            "align_self": null,
            "height": null,
            "min_height": null,
            "padding": null,
            "grid_auto_rows": null,
            "grid_gap": null,
            "max_width": null,
            "order": null,
            "_view_module_version": "1.2.0",
            "grid_template_areas": null,
            "object_position": null,
            "object_fit": null,
            "grid_auto_columns": null,
            "margin": null,
            "display": null,
            "left": null
          }
        },
        "9dc5691db76e48bdbf5ff8ae28f7b7ce": {
          "model_module": "@jupyter-widgets/controls",
          "model_name": "HTMLModel",
          "model_module_version": "1.5.0",
          "state": {
            "_view_name": "HTMLView",
            "style": "IPY_MODEL_e8b7ffcfdc3f4355b1cb2a0c286fd3b7",
            "_dom_classes": [],
            "description": "",
            "_model_name": "HTMLModel",
            "placeholder": "​",
            "_view_module": "@jupyter-widgets/controls",
            "_model_module_version": "1.5.0",
            "value": "Downloading: 100%",
            "_view_count": null,
            "_view_module_version": "1.5.0",
            "description_tooltip": null,
            "_model_module": "@jupyter-widgets/controls",
            "layout": "IPY_MODEL_2e54951fa26b419494ab66eaa9455973"
          }
        },
        "4e65df3588154306bdbf27903cab0790": {
          "model_module": "@jupyter-widgets/controls",
          "model_name": "FloatProgressModel",
          "model_module_version": "1.5.0",
          "state": {
            "_view_name": "ProgressView",
            "style": "IPY_MODEL_a7fe458725424182b5343727e8c297e6",
            "_dom_classes": [],
            "description": "",
            "_model_name": "FloatProgressModel",
            "bar_style": "success",
            "max": 231508,
            "_view_module": "@jupyter-widgets/controls",
            "_model_module_version": "1.5.0",
            "value": 231508,
            "_view_count": null,
            "_view_module_version": "1.5.0",
            "orientation": "horizontal",
            "min": 0,
            "description_tooltip": null,
            "_model_module": "@jupyter-widgets/controls",
            "layout": "IPY_MODEL_f1c8dce7887246b599a97ab26b1a3dc7"
          }
        },
        "9f1eaa68ea9b413fb68fbab53a3452bc": {
          "model_module": "@jupyter-widgets/controls",
          "model_name": "HTMLModel",
          "model_module_version": "1.5.0",
          "state": {
            "_view_name": "HTMLView",
            "style": "IPY_MODEL_9cafed6f1d7d4c109b0ded129320dd91",
            "_dom_classes": [],
            "description": "",
            "_model_name": "HTMLModel",
            "placeholder": "​",
            "_view_module": "@jupyter-widgets/controls",
            "_model_module_version": "1.5.0",
            "value": " 226k/226k [00:00&lt;00:00, 747kB/s]",
            "_view_count": null,
            "_view_module_version": "1.5.0",
            "description_tooltip": null,
            "_model_module": "@jupyter-widgets/controls",
            "layout": "IPY_MODEL_cd448624af7649c18624977327dfb45a"
          }
        },
        "e8b7ffcfdc3f4355b1cb2a0c286fd3b7": {
          "model_module": "@jupyter-widgets/controls",
          "model_name": "DescriptionStyleModel",
          "model_module_version": "1.5.0",
          "state": {
            "_view_name": "StyleView",
            "_model_name": "DescriptionStyleModel",
            "description_width": "",
            "_view_module": "@jupyter-widgets/base",
            "_model_module_version": "1.5.0",
            "_view_count": null,
            "_view_module_version": "1.2.0",
            "_model_module": "@jupyter-widgets/controls"
          }
        },
        "2e54951fa26b419494ab66eaa9455973": {
          "model_module": "@jupyter-widgets/base",
          "model_name": "LayoutModel",
          "model_module_version": "1.2.0",
          "state": {
            "_view_name": "LayoutView",
            "grid_template_rows": null,
            "right": null,
            "justify_content": null,
            "_view_module": "@jupyter-widgets/base",
            "overflow": null,
            "_model_module_version": "1.2.0",
            "_view_count": null,
            "flex_flow": null,
            "width": null,
            "min_width": null,
            "border": null,
            "align_items": null,
            "bottom": null,
            "_model_module": "@jupyter-widgets/base",
            "top": null,
            "grid_column": null,
            "overflow_y": null,
            "overflow_x": null,
            "grid_auto_flow": null,
            "grid_area": null,
            "grid_template_columns": null,
            "flex": null,
            "_model_name": "LayoutModel",
            "justify_items": null,
            "grid_row": null,
            "max_height": null,
            "align_content": null,
            "visibility": null,
            "align_self": null,
            "height": null,
            "min_height": null,
            "padding": null,
            "grid_auto_rows": null,
            "grid_gap": null,
            "max_width": null,
            "order": null,
            "_view_module_version": "1.2.0",
            "grid_template_areas": null,
            "object_position": null,
            "object_fit": null,
            "grid_auto_columns": null,
            "margin": null,
            "display": null,
            "left": null
          }
        },
        "a7fe458725424182b5343727e8c297e6": {
          "model_module": "@jupyter-widgets/controls",
          "model_name": "ProgressStyleModel",
          "model_module_version": "1.5.0",
          "state": {
            "_view_name": "StyleView",
            "_model_name": "ProgressStyleModel",
            "description_width": "",
            "_view_module": "@jupyter-widgets/base",
            "_model_module_version": "1.5.0",
            "_view_count": null,
            "_view_module_version": "1.2.0",
            "bar_color": null,
            "_model_module": "@jupyter-widgets/controls"
          }
        },
        "f1c8dce7887246b599a97ab26b1a3dc7": {
          "model_module": "@jupyter-widgets/base",
          "model_name": "LayoutModel",
          "model_module_version": "1.2.0",
          "state": {
            "_view_name": "LayoutView",
            "grid_template_rows": null,
            "right": null,
            "justify_content": null,
            "_view_module": "@jupyter-widgets/base",
            "overflow": null,
            "_model_module_version": "1.2.0",
            "_view_count": null,
            "flex_flow": null,
            "width": null,
            "min_width": null,
            "border": null,
            "align_items": null,
            "bottom": null,
            "_model_module": "@jupyter-widgets/base",
            "top": null,
            "grid_column": null,
            "overflow_y": null,
            "overflow_x": null,
            "grid_auto_flow": null,
            "grid_area": null,
            "grid_template_columns": null,
            "flex": null,
            "_model_name": "LayoutModel",
            "justify_items": null,
            "grid_row": null,
            "max_height": null,
            "align_content": null,
            "visibility": null,
            "align_self": null,
            "height": null,
            "min_height": null,
            "padding": null,
            "grid_auto_rows": null,
            "grid_gap": null,
            "max_width": null,
            "order": null,
            "_view_module_version": "1.2.0",
            "grid_template_areas": null,
            "object_position": null,
            "object_fit": null,
            "grid_auto_columns": null,
            "margin": null,
            "display": null,
            "left": null
          }
        },
        "9cafed6f1d7d4c109b0ded129320dd91": {
          "model_module": "@jupyter-widgets/controls",
          "model_name": "DescriptionStyleModel",
          "model_module_version": "1.5.0",
          "state": {
            "_view_name": "StyleView",
            "_model_name": "DescriptionStyleModel",
            "description_width": "",
            "_view_module": "@jupyter-widgets/base",
            "_model_module_version": "1.5.0",
            "_view_count": null,
            "_view_module_version": "1.2.0",
            "_model_module": "@jupyter-widgets/controls"
          }
        },
        "cd448624af7649c18624977327dfb45a": {
          "model_module": "@jupyter-widgets/base",
          "model_name": "LayoutModel",
          "model_module_version": "1.2.0",
          "state": {
            "_view_name": "LayoutView",
            "grid_template_rows": null,
            "right": null,
            "justify_content": null,
            "_view_module": "@jupyter-widgets/base",
            "overflow": null,
            "_model_module_version": "1.2.0",
            "_view_count": null,
            "flex_flow": null,
            "width": null,
            "min_width": null,
            "border": null,
            "align_items": null,
            "bottom": null,
            "_model_module": "@jupyter-widgets/base",
            "top": null,
            "grid_column": null,
            "overflow_y": null,
            "overflow_x": null,
            "grid_auto_flow": null,
            "grid_area": null,
            "grid_template_columns": null,
            "flex": null,
            "_model_name": "LayoutModel",
            "justify_items": null,
            "grid_row": null,
            "max_height": null,
            "align_content": null,
            "visibility": null,
            "align_self": null,
            "height": null,
            "min_height": null,
            "padding": null,
            "grid_auto_rows": null,
            "grid_gap": null,
            "max_width": null,
            "order": null,
            "_view_module_version": "1.2.0",
            "grid_template_areas": null,
            "object_position": null,
            "object_fit": null,
            "grid_auto_columns": null,
            "margin": null,
            "display": null,
            "left": null
          }
        },
        "5be720cfb47d4284858d99a7a4991b03": {
          "model_module": "@jupyter-widgets/controls",
          "model_name": "HBoxModel",
          "model_module_version": "1.5.0",
          "state": {
            "_view_name": "HBoxView",
            "_dom_classes": [],
            "_model_name": "HBoxModel",
            "_view_module": "@jupyter-widgets/controls",
            "_model_module_version": "1.5.0",
            "_view_count": null,
            "_view_module_version": "1.5.0",
            "box_style": "",
            "layout": "IPY_MODEL_745e826e84fe4a79bcf2db641fb6693a",
            "_model_module": "@jupyter-widgets/controls",
            "children": [
              "IPY_MODEL_289db3288f70418c914c0ab421ee6295",
              "IPY_MODEL_a98e6b2ff10845ef9c51a7682ccfeb63",
              "IPY_MODEL_31659b31fec64c34ba1ff9731c20483e"
            ]
          }
        },
        "745e826e84fe4a79bcf2db641fb6693a": {
          "model_module": "@jupyter-widgets/base",
          "model_name": "LayoutModel",
          "model_module_version": "1.2.0",
          "state": {
            "_view_name": "LayoutView",
            "grid_template_rows": null,
            "right": null,
            "justify_content": null,
            "_view_module": "@jupyter-widgets/base",
            "overflow": null,
            "_model_module_version": "1.2.0",
            "_view_count": null,
            "flex_flow": null,
            "width": null,
            "min_width": null,
            "border": null,
            "align_items": null,
            "bottom": null,
            "_model_module": "@jupyter-widgets/base",
            "top": null,
            "grid_column": null,
            "overflow_y": null,
            "overflow_x": null,
            "grid_auto_flow": null,
            "grid_area": null,
            "grid_template_columns": null,
            "flex": null,
            "_model_name": "LayoutModel",
            "justify_items": null,
            "grid_row": null,
            "max_height": null,
            "align_content": null,
            "visibility": null,
            "align_self": null,
            "height": null,
            "min_height": null,
            "padding": null,
            "grid_auto_rows": null,
            "grid_gap": null,
            "max_width": null,
            "order": null,
            "_view_module_version": "1.2.0",
            "grid_template_areas": null,
            "object_position": null,
            "object_fit": null,
            "grid_auto_columns": null,
            "margin": null,
            "display": null,
            "left": null
          }
        },
        "289db3288f70418c914c0ab421ee6295": {
          "model_module": "@jupyter-widgets/controls",
          "model_name": "HTMLModel",
          "model_module_version": "1.5.0",
          "state": {
            "_view_name": "HTMLView",
            "style": "IPY_MODEL_346fac8fcfad458a968d373729dee190",
            "_dom_classes": [],
            "description": "",
            "_model_name": "HTMLModel",
            "placeholder": "​",
            "_view_module": "@jupyter-widgets/controls",
            "_model_module_version": "1.5.0",
            "value": "Downloading: 100%",
            "_view_count": null,
            "_view_module_version": "1.5.0",
            "description_tooltip": null,
            "_model_module": "@jupyter-widgets/controls",
            "layout": "IPY_MODEL_092c8c4e50c24223afd8624e82f27c3b"
          }
        },
        "a98e6b2ff10845ef9c51a7682ccfeb63": {
          "model_module": "@jupyter-widgets/controls",
          "model_name": "FloatProgressModel",
          "model_module_version": "1.5.0",
          "state": {
            "_view_name": "ProgressView",
            "style": "IPY_MODEL_2b2952c7bb144b4c912c1f1557ddd887",
            "_dom_classes": [],
            "description": "",
            "_model_name": "FloatProgressModel",
            "bar_style": "success",
            "max": 28,
            "_view_module": "@jupyter-widgets/controls",
            "_model_module_version": "1.5.0",
            "value": 28,
            "_view_count": null,
            "_view_module_version": "1.5.0",
            "orientation": "horizontal",
            "min": 0,
            "description_tooltip": null,
            "_model_module": "@jupyter-widgets/controls",
            "layout": "IPY_MODEL_296fa766f7584568bfd7ac6a401587f2"
          }
        },
        "31659b31fec64c34ba1ff9731c20483e": {
          "model_module": "@jupyter-widgets/controls",
          "model_name": "HTMLModel",
          "model_module_version": "1.5.0",
          "state": {
            "_view_name": "HTMLView",
            "style": "IPY_MODEL_fdcd03b0196a4180bd7f16deba716bb8",
            "_dom_classes": [],
            "description": "",
            "_model_name": "HTMLModel",
            "placeholder": "​",
            "_view_module": "@jupyter-widgets/controls",
            "_model_module_version": "1.5.0",
            "value": " 28.0/28.0 [00:00&lt;00:00, 882B/s]",
            "_view_count": null,
            "_view_module_version": "1.5.0",
            "description_tooltip": null,
            "_model_module": "@jupyter-widgets/controls",
            "layout": "IPY_MODEL_ad108a5a56ee4811a108514beb0b8c97"
          }
        },
        "346fac8fcfad458a968d373729dee190": {
          "model_module": "@jupyter-widgets/controls",
          "model_name": "DescriptionStyleModel",
          "model_module_version": "1.5.0",
          "state": {
            "_view_name": "StyleView",
            "_model_name": "DescriptionStyleModel",
            "description_width": "",
            "_view_module": "@jupyter-widgets/base",
            "_model_module_version": "1.5.0",
            "_view_count": null,
            "_view_module_version": "1.2.0",
            "_model_module": "@jupyter-widgets/controls"
          }
        },
        "092c8c4e50c24223afd8624e82f27c3b": {
          "model_module": "@jupyter-widgets/base",
          "model_name": "LayoutModel",
          "model_module_version": "1.2.0",
          "state": {
            "_view_name": "LayoutView",
            "grid_template_rows": null,
            "right": null,
            "justify_content": null,
            "_view_module": "@jupyter-widgets/base",
            "overflow": null,
            "_model_module_version": "1.2.0",
            "_view_count": null,
            "flex_flow": null,
            "width": null,
            "min_width": null,
            "border": null,
            "align_items": null,
            "bottom": null,
            "_model_module": "@jupyter-widgets/base",
            "top": null,
            "grid_column": null,
            "overflow_y": null,
            "overflow_x": null,
            "grid_auto_flow": null,
            "grid_area": null,
            "grid_template_columns": null,
            "flex": null,
            "_model_name": "LayoutModel",
            "justify_items": null,
            "grid_row": null,
            "max_height": null,
            "align_content": null,
            "visibility": null,
            "align_self": null,
            "height": null,
            "min_height": null,
            "padding": null,
            "grid_auto_rows": null,
            "grid_gap": null,
            "max_width": null,
            "order": null,
            "_view_module_version": "1.2.0",
            "grid_template_areas": null,
            "object_position": null,
            "object_fit": null,
            "grid_auto_columns": null,
            "margin": null,
            "display": null,
            "left": null
          }
        },
        "2b2952c7bb144b4c912c1f1557ddd887": {
          "model_module": "@jupyter-widgets/controls",
          "model_name": "ProgressStyleModel",
          "model_module_version": "1.5.0",
          "state": {
            "_view_name": "StyleView",
            "_model_name": "ProgressStyleModel",
            "description_width": "",
            "_view_module": "@jupyter-widgets/base",
            "_model_module_version": "1.5.0",
            "_view_count": null,
            "_view_module_version": "1.2.0",
            "bar_color": null,
            "_model_module": "@jupyter-widgets/controls"
          }
        },
        "296fa766f7584568bfd7ac6a401587f2": {
          "model_module": "@jupyter-widgets/base",
          "model_name": "LayoutModel",
          "model_module_version": "1.2.0",
          "state": {
            "_view_name": "LayoutView",
            "grid_template_rows": null,
            "right": null,
            "justify_content": null,
            "_view_module": "@jupyter-widgets/base",
            "overflow": null,
            "_model_module_version": "1.2.0",
            "_view_count": null,
            "flex_flow": null,
            "width": null,
            "min_width": null,
            "border": null,
            "align_items": null,
            "bottom": null,
            "_model_module": "@jupyter-widgets/base",
            "top": null,
            "grid_column": null,
            "overflow_y": null,
            "overflow_x": null,
            "grid_auto_flow": null,
            "grid_area": null,
            "grid_template_columns": null,
            "flex": null,
            "_model_name": "LayoutModel",
            "justify_items": null,
            "grid_row": null,
            "max_height": null,
            "align_content": null,
            "visibility": null,
            "align_self": null,
            "height": null,
            "min_height": null,
            "padding": null,
            "grid_auto_rows": null,
            "grid_gap": null,
            "max_width": null,
            "order": null,
            "_view_module_version": "1.2.0",
            "grid_template_areas": null,
            "object_position": null,
            "object_fit": null,
            "grid_auto_columns": null,
            "margin": null,
            "display": null,
            "left": null
          }
        },
        "fdcd03b0196a4180bd7f16deba716bb8": {
          "model_module": "@jupyter-widgets/controls",
          "model_name": "DescriptionStyleModel",
          "model_module_version": "1.5.0",
          "state": {
            "_view_name": "StyleView",
            "_model_name": "DescriptionStyleModel",
            "description_width": "",
            "_view_module": "@jupyter-widgets/base",
            "_model_module_version": "1.5.0",
            "_view_count": null,
            "_view_module_version": "1.2.0",
            "_model_module": "@jupyter-widgets/controls"
          }
        },
        "ad108a5a56ee4811a108514beb0b8c97": {
          "model_module": "@jupyter-widgets/base",
          "model_name": "LayoutModel",
          "model_module_version": "1.2.0",
          "state": {
            "_view_name": "LayoutView",
            "grid_template_rows": null,
            "right": null,
            "justify_content": null,
            "_view_module": "@jupyter-widgets/base",
            "overflow": null,
            "_model_module_version": "1.2.0",
            "_view_count": null,
            "flex_flow": null,
            "width": null,
            "min_width": null,
            "border": null,
            "align_items": null,
            "bottom": null,
            "_model_module": "@jupyter-widgets/base",
            "top": null,
            "grid_column": null,
            "overflow_y": null,
            "overflow_x": null,
            "grid_auto_flow": null,
            "grid_area": null,
            "grid_template_columns": null,
            "flex": null,
            "_model_name": "LayoutModel",
            "justify_items": null,
            "grid_row": null,
            "max_height": null,
            "align_content": null,
            "visibility": null,
            "align_self": null,
            "height": null,
            "min_height": null,
            "padding": null,
            "grid_auto_rows": null,
            "grid_gap": null,
            "max_width": null,
            "order": null,
            "_view_module_version": "1.2.0",
            "grid_template_areas": null,
            "object_position": null,
            "object_fit": null,
            "grid_auto_columns": null,
            "margin": null,
            "display": null,
            "left": null
          }
        },
        "ff6411ce166a48c0b4282efcfdd66251": {
          "model_module": "@jupyter-widgets/controls",
          "model_name": "HBoxModel",
          "model_module_version": "1.5.0",
          "state": {
            "_view_name": "HBoxView",
            "_dom_classes": [],
            "_model_name": "HBoxModel",
            "_view_module": "@jupyter-widgets/controls",
            "_model_module_version": "1.5.0",
            "_view_count": null,
            "_view_module_version": "1.5.0",
            "box_style": "",
            "layout": "IPY_MODEL_f7ae03310e1d44049e078165d7187e4a",
            "_model_module": "@jupyter-widgets/controls",
            "children": [
              "IPY_MODEL_ef057095c0d34bc09bb8cc54b6986c9b",
              "IPY_MODEL_8abbb19cbd734b85bbb32fd4c3b03580",
              "IPY_MODEL_76d2700c211f417dbfc6471107d884be"
            ]
          }
        },
        "f7ae03310e1d44049e078165d7187e4a": {
          "model_module": "@jupyter-widgets/base",
          "model_name": "LayoutModel",
          "model_module_version": "1.2.0",
          "state": {
            "_view_name": "LayoutView",
            "grid_template_rows": null,
            "right": null,
            "justify_content": null,
            "_view_module": "@jupyter-widgets/base",
            "overflow": null,
            "_model_module_version": "1.2.0",
            "_view_count": null,
            "flex_flow": null,
            "width": null,
            "min_width": null,
            "border": null,
            "align_items": null,
            "bottom": null,
            "_model_module": "@jupyter-widgets/base",
            "top": null,
            "grid_column": null,
            "overflow_y": null,
            "overflow_x": null,
            "grid_auto_flow": null,
            "grid_area": null,
            "grid_template_columns": null,
            "flex": null,
            "_model_name": "LayoutModel",
            "justify_items": null,
            "grid_row": null,
            "max_height": null,
            "align_content": null,
            "visibility": null,
            "align_self": null,
            "height": null,
            "min_height": null,
            "padding": null,
            "grid_auto_rows": null,
            "grid_gap": null,
            "max_width": null,
            "order": null,
            "_view_module_version": "1.2.0",
            "grid_template_areas": null,
            "object_position": null,
            "object_fit": null,
            "grid_auto_columns": null,
            "margin": null,
            "display": null,
            "left": null
          }
        },
        "ef057095c0d34bc09bb8cc54b6986c9b": {
          "model_module": "@jupyter-widgets/controls",
          "model_name": "HTMLModel",
          "model_module_version": "1.5.0",
          "state": {
            "_view_name": "HTMLView",
            "style": "IPY_MODEL_414c1cdc95e641f2ab32d4cadcd69cfb",
            "_dom_classes": [],
            "description": "",
            "_model_name": "HTMLModel",
            "placeholder": "​",
            "_view_module": "@jupyter-widgets/controls",
            "_model_module_version": "1.5.0",
            "value": "Downloading: 100%",
            "_view_count": null,
            "_view_module_version": "1.5.0",
            "description_tooltip": null,
            "_model_module": "@jupyter-widgets/controls",
            "layout": "IPY_MODEL_eca312da844441b0a8758500b00a6c21"
          }
        },
        "8abbb19cbd734b85bbb32fd4c3b03580": {
          "model_module": "@jupyter-widgets/controls",
          "model_name": "FloatProgressModel",
          "model_module_version": "1.5.0",
          "state": {
            "_view_name": "ProgressView",
            "style": "IPY_MODEL_00cc10635dd54fc181b86a6940414de2",
            "_dom_classes": [],
            "description": "",
            "_model_name": "FloatProgressModel",
            "bar_style": "success",
            "max": 466062,
            "_view_module": "@jupyter-widgets/controls",
            "_model_module_version": "1.5.0",
            "value": 466062,
            "_view_count": null,
            "_view_module_version": "1.5.0",
            "orientation": "horizontal",
            "min": 0,
            "description_tooltip": null,
            "_model_module": "@jupyter-widgets/controls",
            "layout": "IPY_MODEL_ef9db4e298de4432b5f42652a74a307d"
          }
        },
        "76d2700c211f417dbfc6471107d884be": {
          "model_module": "@jupyter-widgets/controls",
          "model_name": "HTMLModel",
          "model_module_version": "1.5.0",
          "state": {
            "_view_name": "HTMLView",
            "style": "IPY_MODEL_d271840e3a4f4f29b2a7b48698ca5ba2",
            "_dom_classes": [],
            "description": "",
            "_model_name": "HTMLModel",
            "placeholder": "​",
            "_view_module": "@jupyter-widgets/controls",
            "_model_module_version": "1.5.0",
            "value": " 455k/455k [00:00&lt;00:00, 1.28MB/s]",
            "_view_count": null,
            "_view_module_version": "1.5.0",
            "description_tooltip": null,
            "_model_module": "@jupyter-widgets/controls",
            "layout": "IPY_MODEL_c9b11b89f1b34d889f36cd2d84e1b148"
          }
        },
        "414c1cdc95e641f2ab32d4cadcd69cfb": {
          "model_module": "@jupyter-widgets/controls",
          "model_name": "DescriptionStyleModel",
          "model_module_version": "1.5.0",
          "state": {
            "_view_name": "StyleView",
            "_model_name": "DescriptionStyleModel",
            "description_width": "",
            "_view_module": "@jupyter-widgets/base",
            "_model_module_version": "1.5.0",
            "_view_count": null,
            "_view_module_version": "1.2.0",
            "_model_module": "@jupyter-widgets/controls"
          }
        },
        "eca312da844441b0a8758500b00a6c21": {
          "model_module": "@jupyter-widgets/base",
          "model_name": "LayoutModel",
          "model_module_version": "1.2.0",
          "state": {
            "_view_name": "LayoutView",
            "grid_template_rows": null,
            "right": null,
            "justify_content": null,
            "_view_module": "@jupyter-widgets/base",
            "overflow": null,
            "_model_module_version": "1.2.0",
            "_view_count": null,
            "flex_flow": null,
            "width": null,
            "min_width": null,
            "border": null,
            "align_items": null,
            "bottom": null,
            "_model_module": "@jupyter-widgets/base",
            "top": null,
            "grid_column": null,
            "overflow_y": null,
            "overflow_x": null,
            "grid_auto_flow": null,
            "grid_area": null,
            "grid_template_columns": null,
            "flex": null,
            "_model_name": "LayoutModel",
            "justify_items": null,
            "grid_row": null,
            "max_height": null,
            "align_content": null,
            "visibility": null,
            "align_self": null,
            "height": null,
            "min_height": null,
            "padding": null,
            "grid_auto_rows": null,
            "grid_gap": null,
            "max_width": null,
            "order": null,
            "_view_module_version": "1.2.0",
            "grid_template_areas": null,
            "object_position": null,
            "object_fit": null,
            "grid_auto_columns": null,
            "margin": null,
            "display": null,
            "left": null
          }
        },
        "00cc10635dd54fc181b86a6940414de2": {
          "model_module": "@jupyter-widgets/controls",
          "model_name": "ProgressStyleModel",
          "model_module_version": "1.5.0",
          "state": {
            "_view_name": "StyleView",
            "_model_name": "ProgressStyleModel",
            "description_width": "",
            "_view_module": "@jupyter-widgets/base",
            "_model_module_version": "1.5.0",
            "_view_count": null,
            "_view_module_version": "1.2.0",
            "bar_color": null,
            "_model_module": "@jupyter-widgets/controls"
          }
        },
        "ef9db4e298de4432b5f42652a74a307d": {
          "model_module": "@jupyter-widgets/base",
          "model_name": "LayoutModel",
          "model_module_version": "1.2.0",
          "state": {
            "_view_name": "LayoutView",
            "grid_template_rows": null,
            "right": null,
            "justify_content": null,
            "_view_module": "@jupyter-widgets/base",
            "overflow": null,
            "_model_module_version": "1.2.0",
            "_view_count": null,
            "flex_flow": null,
            "width": null,
            "min_width": null,
            "border": null,
            "align_items": null,
            "bottom": null,
            "_model_module": "@jupyter-widgets/base",
            "top": null,
            "grid_column": null,
            "overflow_y": null,
            "overflow_x": null,
            "grid_auto_flow": null,
            "grid_area": null,
            "grid_template_columns": null,
            "flex": null,
            "_model_name": "LayoutModel",
            "justify_items": null,
            "grid_row": null,
            "max_height": null,
            "align_content": null,
            "visibility": null,
            "align_self": null,
            "height": null,
            "min_height": null,
            "padding": null,
            "grid_auto_rows": null,
            "grid_gap": null,
            "max_width": null,
            "order": null,
            "_view_module_version": "1.2.0",
            "grid_template_areas": null,
            "object_position": null,
            "object_fit": null,
            "grid_auto_columns": null,
            "margin": null,
            "display": null,
            "left": null
          }
        },
        "d271840e3a4f4f29b2a7b48698ca5ba2": {
          "model_module": "@jupyter-widgets/controls",
          "model_name": "DescriptionStyleModel",
          "model_module_version": "1.5.0",
          "state": {
            "_view_name": "StyleView",
            "_model_name": "DescriptionStyleModel",
            "description_width": "",
            "_view_module": "@jupyter-widgets/base",
            "_model_module_version": "1.5.0",
            "_view_count": null,
            "_view_module_version": "1.2.0",
            "_model_module": "@jupyter-widgets/controls"
          }
        },
        "c9b11b89f1b34d889f36cd2d84e1b148": {
          "model_module": "@jupyter-widgets/base",
          "model_name": "LayoutModel",
          "model_module_version": "1.2.0",
          "state": {
            "_view_name": "LayoutView",
            "grid_template_rows": null,
            "right": null,
            "justify_content": null,
            "_view_module": "@jupyter-widgets/base",
            "overflow": null,
            "_model_module_version": "1.2.0",
            "_view_count": null,
            "flex_flow": null,
            "width": null,
            "min_width": null,
            "border": null,
            "align_items": null,
            "bottom": null,
            "_model_module": "@jupyter-widgets/base",
            "top": null,
            "grid_column": null,
            "overflow_y": null,
            "overflow_x": null,
            "grid_auto_flow": null,
            "grid_area": null,
            "grid_template_columns": null,
            "flex": null,
            "_model_name": "LayoutModel",
            "justify_items": null,
            "grid_row": null,
            "max_height": null,
            "align_content": null,
            "visibility": null,
            "align_self": null,
            "height": null,
            "min_height": null,
            "padding": null,
            "grid_auto_rows": null,
            "grid_gap": null,
            "max_width": null,
            "order": null,
            "_view_module_version": "1.2.0",
            "grid_template_areas": null,
            "object_position": null,
            "object_fit": null,
            "grid_auto_columns": null,
            "margin": null,
            "display": null,
            "left": null
          }
        },
        "b566b2b654c1429083714e59ec85e034": {
          "model_module": "@jupyter-widgets/controls",
          "model_name": "HBoxModel",
          "model_module_version": "1.5.0",
          "state": {
            "_view_name": "HBoxView",
            "_dom_classes": [],
            "_model_name": "HBoxModel",
            "_view_module": "@jupyter-widgets/controls",
            "_model_module_version": "1.5.0",
            "_view_count": null,
            "_view_module_version": "1.5.0",
            "box_style": "",
            "layout": "IPY_MODEL_4732f3770cb44d079fb96581b404c31f",
            "_model_module": "@jupyter-widgets/controls",
            "children": [
              "IPY_MODEL_7b7136c864e5448cad3cbe69f49f00b5",
              "IPY_MODEL_d5e03b9a0f9646a29033a369c5c304b3",
              "IPY_MODEL_5ac5e2aeabb2413592e22c44f45d0eae"
            ]
          }
        },
        "4732f3770cb44d079fb96581b404c31f": {
          "model_module": "@jupyter-widgets/base",
          "model_name": "LayoutModel",
          "model_module_version": "1.2.0",
          "state": {
            "_view_name": "LayoutView",
            "grid_template_rows": null,
            "right": null,
            "justify_content": null,
            "_view_module": "@jupyter-widgets/base",
            "overflow": null,
            "_model_module_version": "1.2.0",
            "_view_count": null,
            "flex_flow": null,
            "width": null,
            "min_width": null,
            "border": null,
            "align_items": null,
            "bottom": null,
            "_model_module": "@jupyter-widgets/base",
            "top": null,
            "grid_column": null,
            "overflow_y": null,
            "overflow_x": null,
            "grid_auto_flow": null,
            "grid_area": null,
            "grid_template_columns": null,
            "flex": null,
            "_model_name": "LayoutModel",
            "justify_items": null,
            "grid_row": null,
            "max_height": null,
            "align_content": null,
            "visibility": null,
            "align_self": null,
            "height": null,
            "min_height": null,
            "padding": null,
            "grid_auto_rows": null,
            "grid_gap": null,
            "max_width": null,
            "order": null,
            "_view_module_version": "1.2.0",
            "grid_template_areas": null,
            "object_position": null,
            "object_fit": null,
            "grid_auto_columns": null,
            "margin": null,
            "display": null,
            "left": null
          }
        },
        "7b7136c864e5448cad3cbe69f49f00b5": {
          "model_module": "@jupyter-widgets/controls",
          "model_name": "HTMLModel",
          "model_module_version": "1.5.0",
          "state": {
            "_view_name": "HTMLView",
            "style": "IPY_MODEL_7d114b8a5fbb4624a5454afac7b002b3",
            "_dom_classes": [],
            "description": "",
            "_model_name": "HTMLModel",
            "placeholder": "​",
            "_view_module": "@jupyter-widgets/controls",
            "_model_module_version": "1.5.0",
            "value": "Downloading: 100%",
            "_view_count": null,
            "_view_module_version": "1.5.0",
            "description_tooltip": null,
            "_model_module": "@jupyter-widgets/controls",
            "layout": "IPY_MODEL_6e47ebd33ac844359d94eb4218993e5f"
          }
        },
        "d5e03b9a0f9646a29033a369c5c304b3": {
          "model_module": "@jupyter-widgets/controls",
          "model_name": "FloatProgressModel",
          "model_module_version": "1.5.0",
          "state": {
            "_view_name": "ProgressView",
            "style": "IPY_MODEL_a0ab97f8f2704e9ea5e8edab841302ee",
            "_dom_classes": [],
            "description": "",
            "_model_name": "FloatProgressModel",
            "bar_style": "success",
            "max": 570,
            "_view_module": "@jupyter-widgets/controls",
            "_model_module_version": "1.5.0",
            "value": 570,
            "_view_count": null,
            "_view_module_version": "1.5.0",
            "orientation": "horizontal",
            "min": 0,
            "description_tooltip": null,
            "_model_module": "@jupyter-widgets/controls",
            "layout": "IPY_MODEL_2bd575664a2d44e394695918072f082b"
          }
        },
        "5ac5e2aeabb2413592e22c44f45d0eae": {
          "model_module": "@jupyter-widgets/controls",
          "model_name": "HTMLModel",
          "model_module_version": "1.5.0",
          "state": {
            "_view_name": "HTMLView",
            "style": "IPY_MODEL_d9e3bff1822e460fade935b2f52af22d",
            "_dom_classes": [],
            "description": "",
            "_model_name": "HTMLModel",
            "placeholder": "​",
            "_view_module": "@jupyter-widgets/controls",
            "_model_module_version": "1.5.0",
            "value": " 570/570 [00:00&lt;00:00, 14.5kB/s]",
            "_view_count": null,
            "_view_module_version": "1.5.0",
            "description_tooltip": null,
            "_model_module": "@jupyter-widgets/controls",
            "layout": "IPY_MODEL_8752637768534a38985f8138a055102c"
          }
        },
        "7d114b8a5fbb4624a5454afac7b002b3": {
          "model_module": "@jupyter-widgets/controls",
          "model_name": "DescriptionStyleModel",
          "model_module_version": "1.5.0",
          "state": {
            "_view_name": "StyleView",
            "_model_name": "DescriptionStyleModel",
            "description_width": "",
            "_view_module": "@jupyter-widgets/base",
            "_model_module_version": "1.5.0",
            "_view_count": null,
            "_view_module_version": "1.2.0",
            "_model_module": "@jupyter-widgets/controls"
          }
        },
        "6e47ebd33ac844359d94eb4218993e5f": {
          "model_module": "@jupyter-widgets/base",
          "model_name": "LayoutModel",
          "model_module_version": "1.2.0",
          "state": {
            "_view_name": "LayoutView",
            "grid_template_rows": null,
            "right": null,
            "justify_content": null,
            "_view_module": "@jupyter-widgets/base",
            "overflow": null,
            "_model_module_version": "1.2.0",
            "_view_count": null,
            "flex_flow": null,
            "width": null,
            "min_width": null,
            "border": null,
            "align_items": null,
            "bottom": null,
            "_model_module": "@jupyter-widgets/base",
            "top": null,
            "grid_column": null,
            "overflow_y": null,
            "overflow_x": null,
            "grid_auto_flow": null,
            "grid_area": null,
            "grid_template_columns": null,
            "flex": null,
            "_model_name": "LayoutModel",
            "justify_items": null,
            "grid_row": null,
            "max_height": null,
            "align_content": null,
            "visibility": null,
            "align_self": null,
            "height": null,
            "min_height": null,
            "padding": null,
            "grid_auto_rows": null,
            "grid_gap": null,
            "max_width": null,
            "order": null,
            "_view_module_version": "1.2.0",
            "grid_template_areas": null,
            "object_position": null,
            "object_fit": null,
            "grid_auto_columns": null,
            "margin": null,
            "display": null,
            "left": null
          }
        },
        "a0ab97f8f2704e9ea5e8edab841302ee": {
          "model_module": "@jupyter-widgets/controls",
          "model_name": "ProgressStyleModel",
          "model_module_version": "1.5.0",
          "state": {
            "_view_name": "StyleView",
            "_model_name": "ProgressStyleModel",
            "description_width": "",
            "_view_module": "@jupyter-widgets/base",
            "_model_module_version": "1.5.0",
            "_view_count": null,
            "_view_module_version": "1.2.0",
            "bar_color": null,
            "_model_module": "@jupyter-widgets/controls"
          }
        },
        "2bd575664a2d44e394695918072f082b": {
          "model_module": "@jupyter-widgets/base",
          "model_name": "LayoutModel",
          "model_module_version": "1.2.0",
          "state": {
            "_view_name": "LayoutView",
            "grid_template_rows": null,
            "right": null,
            "justify_content": null,
            "_view_module": "@jupyter-widgets/base",
            "overflow": null,
            "_model_module_version": "1.2.0",
            "_view_count": null,
            "flex_flow": null,
            "width": null,
            "min_width": null,
            "border": null,
            "align_items": null,
            "bottom": null,
            "_model_module": "@jupyter-widgets/base",
            "top": null,
            "grid_column": null,
            "overflow_y": null,
            "overflow_x": null,
            "grid_auto_flow": null,
            "grid_area": null,
            "grid_template_columns": null,
            "flex": null,
            "_model_name": "LayoutModel",
            "justify_items": null,
            "grid_row": null,
            "max_height": null,
            "align_content": null,
            "visibility": null,
            "align_self": null,
            "height": null,
            "min_height": null,
            "padding": null,
            "grid_auto_rows": null,
            "grid_gap": null,
            "max_width": null,
            "order": null,
            "_view_module_version": "1.2.0",
            "grid_template_areas": null,
            "object_position": null,
            "object_fit": null,
            "grid_auto_columns": null,
            "margin": null,
            "display": null,
            "left": null
          }
        },
        "d9e3bff1822e460fade935b2f52af22d": {
          "model_module": "@jupyter-widgets/controls",
          "model_name": "DescriptionStyleModel",
          "model_module_version": "1.5.0",
          "state": {
            "_view_name": "StyleView",
            "_model_name": "DescriptionStyleModel",
            "description_width": "",
            "_view_module": "@jupyter-widgets/base",
            "_model_module_version": "1.5.0",
            "_view_count": null,
            "_view_module_version": "1.2.0",
            "_model_module": "@jupyter-widgets/controls"
          }
        },
        "8752637768534a38985f8138a055102c": {
          "model_module": "@jupyter-widgets/base",
          "model_name": "LayoutModel",
          "model_module_version": "1.2.0",
          "state": {
            "_view_name": "LayoutView",
            "grid_template_rows": null,
            "right": null,
            "justify_content": null,
            "_view_module": "@jupyter-widgets/base",
            "overflow": null,
            "_model_module_version": "1.2.0",
            "_view_count": null,
            "flex_flow": null,
            "width": null,
            "min_width": null,
            "border": null,
            "align_items": null,
            "bottom": null,
            "_model_module": "@jupyter-widgets/base",
            "top": null,
            "grid_column": null,
            "overflow_y": null,
            "overflow_x": null,
            "grid_auto_flow": null,
            "grid_area": null,
            "grid_template_columns": null,
            "flex": null,
            "_model_name": "LayoutModel",
            "justify_items": null,
            "grid_row": null,
            "max_height": null,
            "align_content": null,
            "visibility": null,
            "align_self": null,
            "height": null,
            "min_height": null,
            "padding": null,
            "grid_auto_rows": null,
            "grid_gap": null,
            "max_width": null,
            "order": null,
            "_view_module_version": "1.2.0",
            "grid_template_areas": null,
            "object_position": null,
            "object_fit": null,
            "grid_auto_columns": null,
            "margin": null,
            "display": null,
            "left": null
          }
        },
        "e76ea8151e5d4732803b173155c57cee": {
          "model_module": "@jupyter-widgets/controls",
          "model_name": "HBoxModel",
          "model_module_version": "1.5.0",
          "state": {
            "_view_name": "HBoxView",
            "_dom_classes": [],
            "_model_name": "HBoxModel",
            "_view_module": "@jupyter-widgets/controls",
            "_model_module_version": "1.5.0",
            "_view_count": null,
            "_view_module_version": "1.5.0",
            "box_style": "",
            "layout": "IPY_MODEL_6b97f1de70c1468397f10e39c136c295",
            "_model_module": "@jupyter-widgets/controls",
            "children": [
              "IPY_MODEL_4f240f25f9734884a21958f7474ffaf6",
              "IPY_MODEL_da7afa8da9094fe68cd45597601b914c",
              "IPY_MODEL_9144794b2a574fe3b35e76ade9dc31ab"
            ]
          }
        },
        "6b97f1de70c1468397f10e39c136c295": {
          "model_module": "@jupyter-widgets/base",
          "model_name": "LayoutModel",
          "model_module_version": "1.2.0",
          "state": {
            "_view_name": "LayoutView",
            "grid_template_rows": null,
            "right": null,
            "justify_content": null,
            "_view_module": "@jupyter-widgets/base",
            "overflow": null,
            "_model_module_version": "1.2.0",
            "_view_count": null,
            "flex_flow": null,
            "width": null,
            "min_width": null,
            "border": null,
            "align_items": null,
            "bottom": null,
            "_model_module": "@jupyter-widgets/base",
            "top": null,
            "grid_column": null,
            "overflow_y": null,
            "overflow_x": null,
            "grid_auto_flow": null,
            "grid_area": null,
            "grid_template_columns": null,
            "flex": null,
            "_model_name": "LayoutModel",
            "justify_items": null,
            "grid_row": null,
            "max_height": null,
            "align_content": null,
            "visibility": null,
            "align_self": null,
            "height": null,
            "min_height": null,
            "padding": null,
            "grid_auto_rows": null,
            "grid_gap": null,
            "max_width": null,
            "order": null,
            "_view_module_version": "1.2.0",
            "grid_template_areas": null,
            "object_position": null,
            "object_fit": null,
            "grid_auto_columns": null,
            "margin": null,
            "display": null,
            "left": null
          }
        },
        "4f240f25f9734884a21958f7474ffaf6": {
          "model_module": "@jupyter-widgets/controls",
          "model_name": "HTMLModel",
          "model_module_version": "1.5.0",
          "state": {
            "_view_name": "HTMLView",
            "style": "IPY_MODEL_76bea75023a34b66b70ef23d2c02f9ab",
            "_dom_classes": [],
            "description": "",
            "_model_name": "HTMLModel",
            "placeholder": "​",
            "_view_module": "@jupyter-widgets/controls",
            "_model_module_version": "1.5.0",
            "value": "Downloading: 100%",
            "_view_count": null,
            "_view_module_version": "1.5.0",
            "description_tooltip": null,
            "_model_module": "@jupyter-widgets/controls",
            "layout": "IPY_MODEL_98d83a9dba2e44e99c03c17f97ec1b21"
          }
        },
        "da7afa8da9094fe68cd45597601b914c": {
          "model_module": "@jupyter-widgets/controls",
          "model_name": "FloatProgressModel",
          "model_module_version": "1.5.0",
          "state": {
            "_view_name": "ProgressView",
            "style": "IPY_MODEL_1a40af08f01e433a96bba4eb48626396",
            "_dom_classes": [],
            "description": "",
            "_model_name": "FloatProgressModel",
            "bar_style": "success",
            "max": 440473133,
            "_view_module": "@jupyter-widgets/controls",
            "_model_module_version": "1.5.0",
            "value": 440473133,
            "_view_count": null,
            "_view_module_version": "1.5.0",
            "orientation": "horizontal",
            "min": 0,
            "description_tooltip": null,
            "_model_module": "@jupyter-widgets/controls",
            "layout": "IPY_MODEL_cf5b7a3e10f24424aae43da0be2dfdf3"
          }
        },
        "9144794b2a574fe3b35e76ade9dc31ab": {
          "model_module": "@jupyter-widgets/controls",
          "model_name": "HTMLModel",
          "model_module_version": "1.5.0",
          "state": {
            "_view_name": "HTMLView",
            "style": "IPY_MODEL_c2660e051c5641fab4d45c55e0f5f7fc",
            "_dom_classes": [],
            "description": "",
            "_model_name": "HTMLModel",
            "placeholder": "​",
            "_view_module": "@jupyter-widgets/controls",
            "_model_module_version": "1.5.0",
            "value": " 420M/420M [00:08&lt;00:00, 52.8MB/s]",
            "_view_count": null,
            "_view_module_version": "1.5.0",
            "description_tooltip": null,
            "_model_module": "@jupyter-widgets/controls",
            "layout": "IPY_MODEL_95fecfd817cb41ad8228b8e8b7377771"
          }
        },
        "76bea75023a34b66b70ef23d2c02f9ab": {
          "model_module": "@jupyter-widgets/controls",
          "model_name": "DescriptionStyleModel",
          "model_module_version": "1.5.0",
          "state": {
            "_view_name": "StyleView",
            "_model_name": "DescriptionStyleModel",
            "description_width": "",
            "_view_module": "@jupyter-widgets/base",
            "_model_module_version": "1.5.0",
            "_view_count": null,
            "_view_module_version": "1.2.0",
            "_model_module": "@jupyter-widgets/controls"
          }
        },
        "98d83a9dba2e44e99c03c17f97ec1b21": {
          "model_module": "@jupyter-widgets/base",
          "model_name": "LayoutModel",
          "model_module_version": "1.2.0",
          "state": {
            "_view_name": "LayoutView",
            "grid_template_rows": null,
            "right": null,
            "justify_content": null,
            "_view_module": "@jupyter-widgets/base",
            "overflow": null,
            "_model_module_version": "1.2.0",
            "_view_count": null,
            "flex_flow": null,
            "width": null,
            "min_width": null,
            "border": null,
            "align_items": null,
            "bottom": null,
            "_model_module": "@jupyter-widgets/base",
            "top": null,
            "grid_column": null,
            "overflow_y": null,
            "overflow_x": null,
            "grid_auto_flow": null,
            "grid_area": null,
            "grid_template_columns": null,
            "flex": null,
            "_model_name": "LayoutModel",
            "justify_items": null,
            "grid_row": null,
            "max_height": null,
            "align_content": null,
            "visibility": null,
            "align_self": null,
            "height": null,
            "min_height": null,
            "padding": null,
            "grid_auto_rows": null,
            "grid_gap": null,
            "max_width": null,
            "order": null,
            "_view_module_version": "1.2.0",
            "grid_template_areas": null,
            "object_position": null,
            "object_fit": null,
            "grid_auto_columns": null,
            "margin": null,
            "display": null,
            "left": null
          }
        },
        "1a40af08f01e433a96bba4eb48626396": {
          "model_module": "@jupyter-widgets/controls",
          "model_name": "ProgressStyleModel",
          "model_module_version": "1.5.0",
          "state": {
            "_view_name": "StyleView",
            "_model_name": "ProgressStyleModel",
            "description_width": "",
            "_view_module": "@jupyter-widgets/base",
            "_model_module_version": "1.5.0",
            "_view_count": null,
            "_view_module_version": "1.2.0",
            "bar_color": null,
            "_model_module": "@jupyter-widgets/controls"
          }
        },
        "cf5b7a3e10f24424aae43da0be2dfdf3": {
          "model_module": "@jupyter-widgets/base",
          "model_name": "LayoutModel",
          "model_module_version": "1.2.0",
          "state": {
            "_view_name": "LayoutView",
            "grid_template_rows": null,
            "right": null,
            "justify_content": null,
            "_view_module": "@jupyter-widgets/base",
            "overflow": null,
            "_model_module_version": "1.2.0",
            "_view_count": null,
            "flex_flow": null,
            "width": null,
            "min_width": null,
            "border": null,
            "align_items": null,
            "bottom": null,
            "_model_module": "@jupyter-widgets/base",
            "top": null,
            "grid_column": null,
            "overflow_y": null,
            "overflow_x": null,
            "grid_auto_flow": null,
            "grid_area": null,
            "grid_template_columns": null,
            "flex": null,
            "_model_name": "LayoutModel",
            "justify_items": null,
            "grid_row": null,
            "max_height": null,
            "align_content": null,
            "visibility": null,
            "align_self": null,
            "height": null,
            "min_height": null,
            "padding": null,
            "grid_auto_rows": null,
            "grid_gap": null,
            "max_width": null,
            "order": null,
            "_view_module_version": "1.2.0",
            "grid_template_areas": null,
            "object_position": null,
            "object_fit": null,
            "grid_auto_columns": null,
            "margin": null,
            "display": null,
            "left": null
          }
        },
        "c2660e051c5641fab4d45c55e0f5f7fc": {
          "model_module": "@jupyter-widgets/controls",
          "model_name": "DescriptionStyleModel",
          "model_module_version": "1.5.0",
          "state": {
            "_view_name": "StyleView",
            "_model_name": "DescriptionStyleModel",
            "description_width": "",
            "_view_module": "@jupyter-widgets/base",
            "_model_module_version": "1.5.0",
            "_view_count": null,
            "_view_module_version": "1.2.0",
            "_model_module": "@jupyter-widgets/controls"
          }
        },
        "95fecfd817cb41ad8228b8e8b7377771": {
          "model_module": "@jupyter-widgets/base",
          "model_name": "LayoutModel",
          "model_module_version": "1.2.0",
          "state": {
            "_view_name": "LayoutView",
            "grid_template_rows": null,
            "right": null,
            "justify_content": null,
            "_view_module": "@jupyter-widgets/base",
            "overflow": null,
            "_model_module_version": "1.2.0",
            "_view_count": null,
            "flex_flow": null,
            "width": null,
            "min_width": null,
            "border": null,
            "align_items": null,
            "bottom": null,
            "_model_module": "@jupyter-widgets/base",
            "top": null,
            "grid_column": null,
            "overflow_y": null,
            "overflow_x": null,
            "grid_auto_flow": null,
            "grid_area": null,
            "grid_template_columns": null,
            "flex": null,
            "_model_name": "LayoutModel",
            "justify_items": null,
            "grid_row": null,
            "max_height": null,
            "align_content": null,
            "visibility": null,
            "align_self": null,
            "height": null,
            "min_height": null,
            "padding": null,
            "grid_auto_rows": null,
            "grid_gap": null,
            "max_width": null,
            "order": null,
            "_view_module_version": "1.2.0",
            "grid_template_areas": null,
            "object_position": null,
            "object_fit": null,
            "grid_auto_columns": null,
            "margin": null,
            "display": null,
            "left": null
          }
        }
      }
    },
    "accelerator": "GPU"
  },
  "cells": [
    {
      "cell_type": "code",
      "metadata": {
        "colab": {
          "base_uri": "https://localhost:8080/"
        },
        "id": "IXf3q5OrS-Cb",
        "outputId": "dd744ce0-5ad8-44a3-8e2d-efca5cc700ad"
      },
      "source": [
        "pip install transformers datasets"
      ],
      "execution_count": null,
      "outputs": [
        {
          "output_type": "stream",
          "name": "stdout",
          "text": [
            "Collecting transformers\n",
            "  Downloading transformers-4.12.5-py3-none-any.whl (3.1 MB)\n",
            "\u001b[?25l\r\u001b[K     |                                | 10 kB 38.4 MB/s eta 0:00:01\r\u001b[K     |▏                               | 20 kB 44.8 MB/s eta 0:00:01\r\u001b[K     |▎                               | 30 kB 43.5 MB/s eta 0:00:01\r\u001b[K     |▍                               | 40 kB 26.3 MB/s eta 0:00:01\r\u001b[K     |▌                               | 51 kB 18.5 MB/s eta 0:00:01\r\u001b[K     |▋                               | 61 kB 15.6 MB/s eta 0:00:01\r\u001b[K     |▊                               | 71 kB 16.8 MB/s eta 0:00:01\r\u001b[K     |▉                               | 81 kB 18.4 MB/s eta 0:00:01\r\u001b[K     |█                               | 92 kB 18.8 MB/s eta 0:00:01\r\u001b[K     |█                               | 102 kB 16.5 MB/s eta 0:00:01\r\u001b[K     |█▏                              | 112 kB 16.5 MB/s eta 0:00:01\r\u001b[K     |█▎                              | 122 kB 16.5 MB/s eta 0:00:01\r\u001b[K     |█▍                              | 133 kB 16.5 MB/s eta 0:00:01\r\u001b[K     |█▌                              | 143 kB 16.5 MB/s eta 0:00:01\r\u001b[K     |█▋                              | 153 kB 16.5 MB/s eta 0:00:01\r\u001b[K     |█▊                              | 163 kB 16.5 MB/s eta 0:00:01\r\u001b[K     |█▉                              | 174 kB 16.5 MB/s eta 0:00:01\r\u001b[K     |██                              | 184 kB 16.5 MB/s eta 0:00:01\r\u001b[K     |██                              | 194 kB 16.5 MB/s eta 0:00:01\r\u001b[K     |██▏                             | 204 kB 16.5 MB/s eta 0:00:01\r\u001b[K     |██▎                             | 215 kB 16.5 MB/s eta 0:00:01\r\u001b[K     |██▍                             | 225 kB 16.5 MB/s eta 0:00:01\r\u001b[K     |██▌                             | 235 kB 16.5 MB/s eta 0:00:01\r\u001b[K     |██▋                             | 245 kB 16.5 MB/s eta 0:00:01\r\u001b[K     |██▊                             | 256 kB 16.5 MB/s eta 0:00:01\r\u001b[K     |██▊                             | 266 kB 16.5 MB/s eta 0:00:01\r\u001b[K     |██▉                             | 276 kB 16.5 MB/s eta 0:00:01\r\u001b[K     |███                             | 286 kB 16.5 MB/s eta 0:00:01\r\u001b[K     |███                             | 296 kB 16.5 MB/s eta 0:00:01\r\u001b[K     |███▏                            | 307 kB 16.5 MB/s eta 0:00:01\r\u001b[K     |███▎                            | 317 kB 16.5 MB/s eta 0:00:01\r\u001b[K     |███▍                            | 327 kB 16.5 MB/s eta 0:00:01\r\u001b[K     |███▌                            | 337 kB 16.5 MB/s eta 0:00:01\r\u001b[K     |███▋                            | 348 kB 16.5 MB/s eta 0:00:01\r\u001b[K     |███▊                            | 358 kB 16.5 MB/s eta 0:00:01\r\u001b[K     |███▉                            | 368 kB 16.5 MB/s eta 0:00:01\r\u001b[K     |████                            | 378 kB 16.5 MB/s eta 0:00:01\r\u001b[K     |████                            | 389 kB 16.5 MB/s eta 0:00:01\r\u001b[K     |████▏                           | 399 kB 16.5 MB/s eta 0:00:01\r\u001b[K     |████▎                           | 409 kB 16.5 MB/s eta 0:00:01\r\u001b[K     |████▍                           | 419 kB 16.5 MB/s eta 0:00:01\r\u001b[K     |████▌                           | 430 kB 16.5 MB/s eta 0:00:01\r\u001b[K     |████▋                           | 440 kB 16.5 MB/s eta 0:00:01\r\u001b[K     |████▊                           | 450 kB 16.5 MB/s eta 0:00:01\r\u001b[K     |████▉                           | 460 kB 16.5 MB/s eta 0:00:01\r\u001b[K     |█████                           | 471 kB 16.5 MB/s eta 0:00:01\r\u001b[K     |█████                           | 481 kB 16.5 MB/s eta 0:00:01\r\u001b[K     |█████▏                          | 491 kB 16.5 MB/s eta 0:00:01\r\u001b[K     |█████▎                          | 501 kB 16.5 MB/s eta 0:00:01\r\u001b[K     |█████▍                          | 512 kB 16.5 MB/s eta 0:00:01\r\u001b[K     |█████▌                          | 522 kB 16.5 MB/s eta 0:00:01\r\u001b[K     |█████▌                          | 532 kB 16.5 MB/s eta 0:00:01\r\u001b[K     |█████▋                          | 542 kB 16.5 MB/s eta 0:00:01\r\u001b[K     |█████▊                          | 552 kB 16.5 MB/s eta 0:00:01\r\u001b[K     |█████▉                          | 563 kB 16.5 MB/s eta 0:00:01\r\u001b[K     |██████                          | 573 kB 16.5 MB/s eta 0:00:01\r\u001b[K     |██████                          | 583 kB 16.5 MB/s eta 0:00:01\r\u001b[K     |██████▏                         | 593 kB 16.5 MB/s eta 0:00:01\r\u001b[K     |██████▎                         | 604 kB 16.5 MB/s eta 0:00:01\r\u001b[K     |██████▍                         | 614 kB 16.5 MB/s eta 0:00:01\r\u001b[K     |██████▌                         | 624 kB 16.5 MB/s eta 0:00:01\r\u001b[K     |██████▋                         | 634 kB 16.5 MB/s eta 0:00:01\r\u001b[K     |██████▊                         | 645 kB 16.5 MB/s eta 0:00:01\r\u001b[K     |██████▉                         | 655 kB 16.5 MB/s eta 0:00:01\r\u001b[K     |███████                         | 665 kB 16.5 MB/s eta 0:00:01\r\u001b[K     |███████                         | 675 kB 16.5 MB/s eta 0:00:01\r\u001b[K     |███████▏                        | 686 kB 16.5 MB/s eta 0:00:01\r\u001b[K     |███████▎                        | 696 kB 16.5 MB/s eta 0:00:01\r\u001b[K     |███████▍                        | 706 kB 16.5 MB/s eta 0:00:01\r\u001b[K     |███████▌                        | 716 kB 16.5 MB/s eta 0:00:01\r\u001b[K     |███████▋                        | 727 kB 16.5 MB/s eta 0:00:01\r\u001b[K     |███████▊                        | 737 kB 16.5 MB/s eta 0:00:01\r\u001b[K     |███████▉                        | 747 kB 16.5 MB/s eta 0:00:01\r\u001b[K     |████████                        | 757 kB 16.5 MB/s eta 0:00:01\r\u001b[K     |████████                        | 768 kB 16.5 MB/s eta 0:00:01\r\u001b[K     |████████▏                       | 778 kB 16.5 MB/s eta 0:00:01\r\u001b[K     |████████▎                       | 788 kB 16.5 MB/s eta 0:00:01\r\u001b[K     |████████▎                       | 798 kB 16.5 MB/s eta 0:00:01\r\u001b[K     |████████▍                       | 808 kB 16.5 MB/s eta 0:00:01\r\u001b[K     |████████▌                       | 819 kB 16.5 MB/s eta 0:00:01\r\u001b[K     |████████▋                       | 829 kB 16.5 MB/s eta 0:00:01\r\u001b[K     |████████▊                       | 839 kB 16.5 MB/s eta 0:00:01\r\u001b[K     |████████▉                       | 849 kB 16.5 MB/s eta 0:00:01\r\u001b[K     |█████████                       | 860 kB 16.5 MB/s eta 0:00:01\r\u001b[K     |█████████                       | 870 kB 16.5 MB/s eta 0:00:01\r\u001b[K     |█████████▏                      | 880 kB 16.5 MB/s eta 0:00:01\r\u001b[K     |█████████▎                      | 890 kB 16.5 MB/s eta 0:00:01\r\u001b[K     |█████████▍                      | 901 kB 16.5 MB/s eta 0:00:01\r\u001b[K     |█████████▌                      | 911 kB 16.5 MB/s eta 0:00:01\r\u001b[K     |█████████▋                      | 921 kB 16.5 MB/s eta 0:00:01\r\u001b[K     |█████████▊                      | 931 kB 16.5 MB/s eta 0:00:01\r\u001b[K     |█████████▉                      | 942 kB 16.5 MB/s eta 0:00:01\r\u001b[K     |██████████                      | 952 kB 16.5 MB/s eta 0:00:01\r\u001b[K     |██████████                      | 962 kB 16.5 MB/s eta 0:00:01\r\u001b[K     |██████████▏                     | 972 kB 16.5 MB/s eta 0:00:01\r\u001b[K     |██████████▎                     | 983 kB 16.5 MB/s eta 0:00:01\r\u001b[K     |██████████▍                     | 993 kB 16.5 MB/s eta 0:00:01\r\u001b[K     |██████████▌                     | 1.0 MB 16.5 MB/s eta 0:00:01\r\u001b[K     |██████████▋                     | 1.0 MB 16.5 MB/s eta 0:00:01\r\u001b[K     |██████████▊                     | 1.0 MB 16.5 MB/s eta 0:00:01\r\u001b[K     |██████████▉                     | 1.0 MB 16.5 MB/s eta 0:00:01\r\u001b[K     |███████████                     | 1.0 MB 16.5 MB/s eta 0:00:01\r\u001b[K     |███████████                     | 1.1 MB 16.5 MB/s eta 0:00:01\r\u001b[K     |███████████                     | 1.1 MB 16.5 MB/s eta 0:00:01\r\u001b[K     |███████████▏                    | 1.1 MB 16.5 MB/s eta 0:00:01\r\u001b[K     |███████████▎                    | 1.1 MB 16.5 MB/s eta 0:00:01\r\u001b[K     |███████████▍                    | 1.1 MB 16.5 MB/s eta 0:00:01\r\u001b[K     |███████████▌                    | 1.1 MB 16.5 MB/s eta 0:00:01\r\u001b[K     |███████████▋                    | 1.1 MB 16.5 MB/s eta 0:00:01\r\u001b[K     |███████████▊                    | 1.1 MB 16.5 MB/s eta 0:00:01\r\u001b[K     |███████████▉                    | 1.1 MB 16.5 MB/s eta 0:00:01\r\u001b[K     |████████████                    | 1.1 MB 16.5 MB/s eta 0:00:01\r\u001b[K     |████████████                    | 1.2 MB 16.5 MB/s eta 0:00:01\r\u001b[K     |████████████▏                   | 1.2 MB 16.5 MB/s eta 0:00:01\r\u001b[K     |████████████▎                   | 1.2 MB 16.5 MB/s eta 0:00:01\r\u001b[K     |████████████▍                   | 1.2 MB 16.5 MB/s eta 0:00:01\r\u001b[K     |████████████▌                   | 1.2 MB 16.5 MB/s eta 0:00:01\r\u001b[K     |████████████▋                   | 1.2 MB 16.5 MB/s eta 0:00:01\r\u001b[K     |████████████▊                   | 1.2 MB 16.5 MB/s eta 0:00:01\r\u001b[K     |████████████▉                   | 1.2 MB 16.5 MB/s eta 0:00:01\r\u001b[K     |█████████████                   | 1.2 MB 16.5 MB/s eta 0:00:01\r\u001b[K     |█████████████                   | 1.2 MB 16.5 MB/s eta 0:00:01\r\u001b[K     |█████████████▏                  | 1.3 MB 16.5 MB/s eta 0:00:01\r\u001b[K     |█████████████▎                  | 1.3 MB 16.5 MB/s eta 0:00:01\r\u001b[K     |█████████████▍                  | 1.3 MB 16.5 MB/s eta 0:00:01\r\u001b[K     |█████████████▌                  | 1.3 MB 16.5 MB/s eta 0:00:01\r\u001b[K     |█████████████▋                  | 1.3 MB 16.5 MB/s eta 0:00:01\r\u001b[K     |█████████████▊                  | 1.3 MB 16.5 MB/s eta 0:00:01\r\u001b[K     |█████████████▉                  | 1.3 MB 16.5 MB/s eta 0:00:01\r\u001b[K     |█████████████▉                  | 1.3 MB 16.5 MB/s eta 0:00:01\r\u001b[K     |██████████████                  | 1.3 MB 16.5 MB/s eta 0:00:01\r\u001b[K     |██████████████                  | 1.4 MB 16.5 MB/s eta 0:00:01\r\u001b[K     |██████████████▏                 | 1.4 MB 16.5 MB/s eta 0:00:01\r\u001b[K     |██████████████▎                 | 1.4 MB 16.5 MB/s eta 0:00:01\r\u001b[K     |██████████████▍                 | 1.4 MB 16.5 MB/s eta 0:00:01\r\u001b[K     |██████████████▌                 | 1.4 MB 16.5 MB/s eta 0:00:01\r\u001b[K     |██████████████▋                 | 1.4 MB 16.5 MB/s eta 0:00:01\r\u001b[K     |██████████████▊                 | 1.4 MB 16.5 MB/s eta 0:00:01\r\u001b[K     |██████████████▉                 | 1.4 MB 16.5 MB/s eta 0:00:01\r\u001b[K     |███████████████                 | 1.4 MB 16.5 MB/s eta 0:00:01\r\u001b[K     |███████████████                 | 1.4 MB 16.5 MB/s eta 0:00:01\r\u001b[K     |███████████████▏                | 1.5 MB 16.5 MB/s eta 0:00:01\r\u001b[K     |███████████████▎                | 1.5 MB 16.5 MB/s eta 0:00:01\r\u001b[K     |███████████████▍                | 1.5 MB 16.5 MB/s eta 0:00:01\r\u001b[K     |███████████████▌                | 1.5 MB 16.5 MB/s eta 0:00:01\r\u001b[K     |███████████████▋                | 1.5 MB 16.5 MB/s eta 0:00:01\r\u001b[K     |███████████████▊                | 1.5 MB 16.5 MB/s eta 0:00:01\r\u001b[K     |███████████████▉                | 1.5 MB 16.5 MB/s eta 0:00:01\r\u001b[K     |████████████████                | 1.5 MB 16.5 MB/s eta 0:00:01\r\u001b[K     |████████████████                | 1.5 MB 16.5 MB/s eta 0:00:01\r\u001b[K     |████████████████▏               | 1.5 MB 16.5 MB/s eta 0:00:01\r\u001b[K     |████████████████▎               | 1.6 MB 16.5 MB/s eta 0:00:01\r\u001b[K     |████████████████▍               | 1.6 MB 16.5 MB/s eta 0:00:01\r\u001b[K     |████████████████▌               | 1.6 MB 16.5 MB/s eta 0:00:01\r\u001b[K     |████████████████▋               | 1.6 MB 16.5 MB/s eta 0:00:01\r\u001b[K     |████████████████▋               | 1.6 MB 16.5 MB/s eta 0:00:01\r\u001b[K     |████████████████▊               | 1.6 MB 16.5 MB/s eta 0:00:01\r\u001b[K     |████████████████▉               | 1.6 MB 16.5 MB/s eta 0:00:01\r\u001b[K     |█████████████████               | 1.6 MB 16.5 MB/s eta 0:00:01\r\u001b[K     |█████████████████               | 1.6 MB 16.5 MB/s eta 0:00:01\r\u001b[K     |█████████████████▏              | 1.6 MB 16.5 MB/s eta 0:00:01\r\u001b[K     |█████████████████▎              | 1.7 MB 16.5 MB/s eta 0:00:01\r\u001b[K     |█████████████████▍              | 1.7 MB 16.5 MB/s eta 0:00:01\r\u001b[K     |█████████████████▌              | 1.7 MB 16.5 MB/s eta 0:00:01\r\u001b[K     |█████████████████▋              | 1.7 MB 16.5 MB/s eta 0:00:01\r\u001b[K     |█████████████████▊              | 1.7 MB 16.5 MB/s eta 0:00:01\r\u001b[K     |█████████████████▉              | 1.7 MB 16.5 MB/s eta 0:00:01\r\u001b[K     |██████████████████              | 1.7 MB 16.5 MB/s eta 0:00:01\r\u001b[K     |██████████████████              | 1.7 MB 16.5 MB/s eta 0:00:01\r\u001b[K     |██████████████████▏             | 1.7 MB 16.5 MB/s eta 0:00:01\r\u001b[K     |██████████████████▎             | 1.8 MB 16.5 MB/s eta 0:00:01\r\u001b[K     |██████████████████▍             | 1.8 MB 16.5 MB/s eta 0:00:01\r\u001b[K     |██████████████████▌             | 1.8 MB 16.5 MB/s eta 0:00:01\r\u001b[K     |██████████████████▋             | 1.8 MB 16.5 MB/s eta 0:00:01\r\u001b[K     |██████████████████▊             | 1.8 MB 16.5 MB/s eta 0:00:01\r\u001b[K     |██████████████████▉             | 1.8 MB 16.5 MB/s eta 0:00:01\r\u001b[K     |███████████████████             | 1.8 MB 16.5 MB/s eta 0:00:01\r\u001b[K     |███████████████████             | 1.8 MB 16.5 MB/s eta 0:00:01\r\u001b[K     |███████████████████▏            | 1.8 MB 16.5 MB/s eta 0:00:01\r\u001b[K     |███████████████████▎            | 1.8 MB 16.5 MB/s eta 0:00:01\r\u001b[K     |███████████████████▍            | 1.9 MB 16.5 MB/s eta 0:00:01\r\u001b[K     |███████████████████▍            | 1.9 MB 16.5 MB/s eta 0:00:01\r\u001b[K     |███████████████████▌            | 1.9 MB 16.5 MB/s eta 0:00:01\r\u001b[K     |███████████████████▋            | 1.9 MB 16.5 MB/s eta 0:00:01\r\u001b[K     |███████████████████▊            | 1.9 MB 16.5 MB/s eta 0:00:01\r\u001b[K     |███████████████████▉            | 1.9 MB 16.5 MB/s eta 0:00:01\r\u001b[K     |████████████████████            | 1.9 MB 16.5 MB/s eta 0:00:01\r\u001b[K     |████████████████████            | 1.9 MB 16.5 MB/s eta 0:00:01\r\u001b[K     |████████████████████▏           | 1.9 MB 16.5 MB/s eta 0:00:01\r\u001b[K     |████████████████████▎           | 1.9 MB 16.5 MB/s eta 0:00:01\r\u001b[K     |████████████████████▍           | 2.0 MB 16.5 MB/s eta 0:00:01\r\u001b[K     |████████████████████▌           | 2.0 MB 16.5 MB/s eta 0:00:01\r\u001b[K     |████████████████████▋           | 2.0 MB 16.5 MB/s eta 0:00:01\r\u001b[K     |████████████████████▊           | 2.0 MB 16.5 MB/s eta 0:00:01\r\u001b[K     |████████████████████▉           | 2.0 MB 16.5 MB/s eta 0:00:01\r\u001b[K     |█████████████████████           | 2.0 MB 16.5 MB/s eta 0:00:01\r\u001b[K     |█████████████████████           | 2.0 MB 16.5 MB/s eta 0:00:01\r\u001b[K     |█████████████████████▏          | 2.0 MB 16.5 MB/s eta 0:00:01\r\u001b[K     |█████████████████████▎          | 2.0 MB 16.5 MB/s eta 0:00:01\r\u001b[K     |█████████████████████▍          | 2.0 MB 16.5 MB/s eta 0:00:01\r\u001b[K     |█████████████████████▌          | 2.1 MB 16.5 MB/s eta 0:00:01\r\u001b[K     |█████████████████████▋          | 2.1 MB 16.5 MB/s eta 0:00:01\r\u001b[K     |█████████████████████▊          | 2.1 MB 16.5 MB/s eta 0:00:01\r\u001b[K     |█████████████████████▉          | 2.1 MB 16.5 MB/s eta 0:00:01\r\u001b[K     |██████████████████████          | 2.1 MB 16.5 MB/s eta 0:00:01\r\u001b[K     |██████████████████████          | 2.1 MB 16.5 MB/s eta 0:00:01\r\u001b[K     |██████████████████████▏         | 2.1 MB 16.5 MB/s eta 0:00:01\r\u001b[K     |██████████████████████▏         | 2.1 MB 16.5 MB/s eta 0:00:01\r\u001b[K     |██████████████████████▎         | 2.1 MB 16.5 MB/s eta 0:00:01\r\u001b[K     |██████████████████████▍         | 2.2 MB 16.5 MB/s eta 0:00:01\r\u001b[K     |██████████████████████▌         | 2.2 MB 16.5 MB/s eta 0:00:01\r\u001b[K     |██████████████████████▋         | 2.2 MB 16.5 MB/s eta 0:00:01\r\u001b[K     |██████████████████████▊         | 2.2 MB 16.5 MB/s eta 0:00:01\r\u001b[K     |██████████████████████▉         | 2.2 MB 16.5 MB/s eta 0:00:01\r\u001b[K     |███████████████████████         | 2.2 MB 16.5 MB/s eta 0:00:01\r\u001b[K     |███████████████████████         | 2.2 MB 16.5 MB/s eta 0:00:01\r\u001b[K     |███████████████████████▏        | 2.2 MB 16.5 MB/s eta 0:00:01\r\u001b[K     |███████████████████████▎        | 2.2 MB 16.5 MB/s eta 0:00:01\r\u001b[K     |███████████████████████▍        | 2.2 MB 16.5 MB/s eta 0:00:01\r\u001b[K     |███████████████████████▌        | 2.3 MB 16.5 MB/s eta 0:00:01\r\u001b[K     |███████████████████████▋        | 2.3 MB 16.5 MB/s eta 0:00:01\r\u001b[K     |███████████████████████▊        | 2.3 MB 16.5 MB/s eta 0:00:01\r\u001b[K     |███████████████████████▉        | 2.3 MB 16.5 MB/s eta 0:00:01\r\u001b[K     |████████████████████████        | 2.3 MB 16.5 MB/s eta 0:00:01\r\u001b[K     |████████████████████████        | 2.3 MB 16.5 MB/s eta 0:00:01\r\u001b[K     |████████████████████████▏       | 2.3 MB 16.5 MB/s eta 0:00:01\r\u001b[K     |████████████████████████▎       | 2.3 MB 16.5 MB/s eta 0:00:01\r\u001b[K     |████████████████████████▍       | 2.3 MB 16.5 MB/s eta 0:00:01\r\u001b[K     |████████████████████████▌       | 2.3 MB 16.5 MB/s eta 0:00:01\r\u001b[K     |████████████████████████▋       | 2.4 MB 16.5 MB/s eta 0:00:01\r\u001b[K     |████████████████████████▊       | 2.4 MB 16.5 MB/s eta 0:00:01\r\u001b[K     |████████████████████████▉       | 2.4 MB 16.5 MB/s eta 0:00:01\r\u001b[K     |█████████████████████████       | 2.4 MB 16.5 MB/s eta 0:00:01\r\u001b[K     |█████████████████████████       | 2.4 MB 16.5 MB/s eta 0:00:01\r\u001b[K     |█████████████████████████       | 2.4 MB 16.5 MB/s eta 0:00:01\r\u001b[K     |█████████████████████████▏      | 2.4 MB 16.5 MB/s eta 0:00:01\r\u001b[K     |█████████████████████████▎      | 2.4 MB 16.5 MB/s eta 0:00:01\r\u001b[K     |█████████████████████████▍      | 2.4 MB 16.5 MB/s eta 0:00:01\r\u001b[K     |█████████████████████████▌      | 2.4 MB 16.5 MB/s eta 0:00:01\r\u001b[K     |█████████████████████████▋      | 2.5 MB 16.5 MB/s eta 0:00:01\r\u001b[K     |█████████████████████████▊      | 2.5 MB 16.5 MB/s eta 0:00:01\r\u001b[K     |█████████████████████████▉      | 2.5 MB 16.5 MB/s eta 0:00:01\r\u001b[K     |██████████████████████████      | 2.5 MB 16.5 MB/s eta 0:00:01\r\u001b[K     |██████████████████████████      | 2.5 MB 16.5 MB/s eta 0:00:01\r\u001b[K     |██████████████████████████▏     | 2.5 MB 16.5 MB/s eta 0:00:01\r\u001b[K     |██████████████████████████▎     | 2.5 MB 16.5 MB/s eta 0:00:01\r\u001b[K     |██████████████████████████▍     | 2.5 MB 16.5 MB/s eta 0:00:01\r\u001b[K     |██████████████████████████▌     | 2.5 MB 16.5 MB/s eta 0:00:01\r\u001b[K     |██████████████████████████▋     | 2.5 MB 16.5 MB/s eta 0:00:01\r\u001b[K     |██████████████████████████▊     | 2.6 MB 16.5 MB/s eta 0:00:01\r\u001b[K     |██████████████████████████▉     | 2.6 MB 16.5 MB/s eta 0:00:01\r\u001b[K     |███████████████████████████     | 2.6 MB 16.5 MB/s eta 0:00:01\r\u001b[K     |███████████████████████████     | 2.6 MB 16.5 MB/s eta 0:00:01\r\u001b[K     |███████████████████████████▏    | 2.6 MB 16.5 MB/s eta 0:00:01\r\u001b[K     |███████████████████████████▎    | 2.6 MB 16.5 MB/s eta 0:00:01\r\u001b[K     |███████████████████████████▍    | 2.6 MB 16.5 MB/s eta 0:00:01\r\u001b[K     |███████████████████████████▌    | 2.6 MB 16.5 MB/s eta 0:00:01\r\u001b[K     |███████████████████████████▋    | 2.6 MB 16.5 MB/s eta 0:00:01\r\u001b[K     |███████████████████████████▊    | 2.7 MB 16.5 MB/s eta 0:00:01\r\u001b[K     |███████████████████████████▊    | 2.7 MB 16.5 MB/s eta 0:00:01\r\u001b[K     |███████████████████████████▉    | 2.7 MB 16.5 MB/s eta 0:00:01\r\u001b[K     |████████████████████████████    | 2.7 MB 16.5 MB/s eta 0:00:01\r\u001b[K     |████████████████████████████    | 2.7 MB 16.5 MB/s eta 0:00:01\r\u001b[K     |████████████████████████████▏   | 2.7 MB 16.5 MB/s eta 0:00:01\r\u001b[K     |████████████████████████████▎   | 2.7 MB 16.5 MB/s eta 0:00:01\r\u001b[K     |████████████████████████████▍   | 2.7 MB 16.5 MB/s eta 0:00:01\r\u001b[K     |████████████████████████████▌   | 2.7 MB 16.5 MB/s eta 0:00:01\r\u001b[K     |████████████████████████████▋   | 2.7 MB 16.5 MB/s eta 0:00:01\r\u001b[K     |████████████████████████████▊   | 2.8 MB 16.5 MB/s eta 0:00:01\r\u001b[K     |████████████████████████████▉   | 2.8 MB 16.5 MB/s eta 0:00:01\r\u001b[K     |█████████████████████████████   | 2.8 MB 16.5 MB/s eta 0:00:01\r\u001b[K     |█████████████████████████████   | 2.8 MB 16.5 MB/s eta 0:00:01\r\u001b[K     |█████████████████████████████▏  | 2.8 MB 16.5 MB/s eta 0:00:01\r\u001b[K     |█████████████████████████████▎  | 2.8 MB 16.5 MB/s eta 0:00:01\r\u001b[K     |█████████████████████████████▍  | 2.8 MB 16.5 MB/s eta 0:00:01\r\u001b[K     |█████████████████████████████▌  | 2.8 MB 16.5 MB/s eta 0:00:01\r\u001b[K     |█████████████████████████████▋  | 2.8 MB 16.5 MB/s eta 0:00:01\r\u001b[K     |█████████████████████████████▊  | 2.8 MB 16.5 MB/s eta 0:00:01\r\u001b[K     |█████████████████████████████▉  | 2.9 MB 16.5 MB/s eta 0:00:01\r\u001b[K     |██████████████████████████████  | 2.9 MB 16.5 MB/s eta 0:00:01\r\u001b[K     |██████████████████████████████  | 2.9 MB 16.5 MB/s eta 0:00:01\r\u001b[K     |██████████████████████████████▏ | 2.9 MB 16.5 MB/s eta 0:00:01\r\u001b[K     |██████████████████████████████▎ | 2.9 MB 16.5 MB/s eta 0:00:01\r\u001b[K     |██████████████████████████████▍ | 2.9 MB 16.5 MB/s eta 0:00:01\r\u001b[K     |██████████████████████████████▌ | 2.9 MB 16.5 MB/s eta 0:00:01\r\u001b[K     |██████████████████████████████▌ | 2.9 MB 16.5 MB/s eta 0:00:01\r\u001b[K     |██████████████████████████████▋ | 2.9 MB 16.5 MB/s eta 0:00:01\r\u001b[K     |██████████████████████████████▊ | 2.9 MB 16.5 MB/s eta 0:00:01\r\u001b[K     |██████████████████████████████▉ | 3.0 MB 16.5 MB/s eta 0:00:01\r\u001b[K     |███████████████████████████████ | 3.0 MB 16.5 MB/s eta 0:00:01\r\u001b[K     |███████████████████████████████ | 3.0 MB 16.5 MB/s eta 0:00:01\r\u001b[K     |███████████████████████████████▏| 3.0 MB 16.5 MB/s eta 0:00:01\r\u001b[K     |███████████████████████████████▎| 3.0 MB 16.5 MB/s eta 0:00:01\r\u001b[K     |███████████████████████████████▍| 3.0 MB 16.5 MB/s eta 0:00:01\r\u001b[K     |███████████████████████████████▌| 3.0 MB 16.5 MB/s eta 0:00:01\r\u001b[K     |███████████████████████████████▋| 3.0 MB 16.5 MB/s eta 0:00:01\r\u001b[K     |███████████████████████████████▊| 3.0 MB 16.5 MB/s eta 0:00:01\r\u001b[K     |███████████████████████████████▉| 3.1 MB 16.5 MB/s eta 0:00:01\r\u001b[K     |████████████████████████████████| 3.1 MB 16.5 MB/s eta 0:00:01\r\u001b[K     |████████████████████████████████| 3.1 MB 16.5 MB/s \n",
            "\u001b[?25hCollecting datasets\n",
            "  Downloading datasets-1.15.1-py3-none-any.whl (290 kB)\n",
            "\u001b[K     |████████████████████████████████| 290 kB 75.1 MB/s \n",
            "\u001b[?25hCollecting huggingface-hub<1.0,>=0.1.0\n",
            "  Downloading huggingface_hub-0.1.2-py3-none-any.whl (59 kB)\n",
            "\u001b[K     |████████████████████████████████| 59 kB 8.7 MB/s \n",
            "\u001b[?25hCollecting pyyaml>=5.1\n",
            "  Downloading PyYAML-6.0-cp37-cp37m-manylinux_2_5_x86_64.manylinux1_x86_64.manylinux_2_12_x86_64.manylinux2010_x86_64.whl (596 kB)\n",
            "\u001b[K     |████████████████████████████████| 596 kB 56.8 MB/s \n",
            "\u001b[?25hCollecting tokenizers<0.11,>=0.10.1\n",
            "  Downloading tokenizers-0.10.3-cp37-cp37m-manylinux_2_5_x86_64.manylinux1_x86_64.manylinux_2_12_x86_64.manylinux2010_x86_64.whl (3.3 MB)\n",
            "\u001b[K     |████████████████████████████████| 3.3 MB 23.4 MB/s \n",
            "\u001b[?25hRequirement already satisfied: importlib-metadata in /usr/local/lib/python3.7/dist-packages (from transformers) (4.8.2)\n",
            "Requirement already satisfied: packaging>=20.0 in /usr/local/lib/python3.7/dist-packages (from transformers) (21.3)\n",
            "Requirement already satisfied: tqdm>=4.27 in /usr/local/lib/python3.7/dist-packages (from transformers) (4.62.3)\n",
            "Requirement already satisfied: filelock in /usr/local/lib/python3.7/dist-packages (from transformers) (3.4.0)\n",
            "Requirement already satisfied: numpy>=1.17 in /usr/local/lib/python3.7/dist-packages (from transformers) (1.19.5)\n",
            "Requirement already satisfied: regex!=2019.12.17 in /usr/local/lib/python3.7/dist-packages (from transformers) (2019.12.20)\n",
            "Requirement already satisfied: requests in /usr/local/lib/python3.7/dist-packages (from transformers) (2.23.0)\n",
            "Collecting sacremoses\n",
            "  Downloading sacremoses-0.0.46-py3-none-any.whl (895 kB)\n",
            "\u001b[K     |████████████████████████████████| 895 kB 36.7 MB/s \n",
            "\u001b[?25hRequirement already satisfied: typing-extensions>=3.7.4.3 in /usr/local/lib/python3.7/dist-packages (from huggingface-hub<1.0,>=0.1.0->transformers) (3.10.0.2)\n",
            "Requirement already satisfied: pyparsing!=3.0.5,>=2.0.2 in /usr/local/lib/python3.7/dist-packages (from packaging>=20.0->transformers) (3.0.6)\n",
            "Requirement already satisfied: pandas in /usr/local/lib/python3.7/dist-packages (from datasets) (1.1.5)\n",
            "Requirement already satisfied: multiprocess in /usr/local/lib/python3.7/dist-packages (from datasets) (0.70.12.2)\n",
            "Collecting xxhash\n",
            "  Downloading xxhash-2.0.2-cp37-cp37m-manylinux2010_x86_64.whl (243 kB)\n",
            "\u001b[K     |████████████████████████████████| 243 kB 69.6 MB/s \n",
            "\u001b[?25hCollecting fsspec[http]>=2021.05.0\n",
            "  Downloading fsspec-2021.11.0-py3-none-any.whl (132 kB)\n",
            "\u001b[K     |████████████████████████████████| 132 kB 79.1 MB/s \n",
            "\u001b[?25hRequirement already satisfied: pyarrow!=4.0.0,>=1.0.0 in /usr/local/lib/python3.7/dist-packages (from datasets) (3.0.0)\n",
            "Requirement already satisfied: dill in /usr/local/lib/python3.7/dist-packages (from datasets) (0.3.4)\n",
            "Collecting aiohttp\n",
            "  Downloading aiohttp-3.8.1-cp37-cp37m-manylinux_2_5_x86_64.manylinux1_x86_64.manylinux_2_12_x86_64.manylinux2010_x86_64.whl (1.1 MB)\n",
            "\u001b[K     |████████████████████████████████| 1.1 MB 56.2 MB/s \n",
            "\u001b[?25hRequirement already satisfied: chardet<4,>=3.0.2 in /usr/local/lib/python3.7/dist-packages (from requests->transformers) (3.0.4)\n",
            "Requirement already satisfied: certifi>=2017.4.17 in /usr/local/lib/python3.7/dist-packages (from requests->transformers) (2021.10.8)\n",
            "Requirement already satisfied: idna<3,>=2.5 in /usr/local/lib/python3.7/dist-packages (from requests->transformers) (2.10)\n",
            "Requirement already satisfied: urllib3!=1.25.0,!=1.25.1,<1.26,>=1.21.1 in /usr/local/lib/python3.7/dist-packages (from requests->transformers) (1.24.3)\n",
            "Collecting yarl<2.0,>=1.0\n",
            "  Downloading yarl-1.7.2-cp37-cp37m-manylinux_2_5_x86_64.manylinux1_x86_64.manylinux_2_12_x86_64.manylinux2010_x86_64.whl (271 kB)\n",
            "\u001b[K     |████████████████████████████████| 271 kB 78.0 MB/s \n",
            "\u001b[?25hCollecting aiosignal>=1.1.2\n",
            "  Downloading aiosignal-1.2.0-py3-none-any.whl (8.2 kB)\n",
            "Requirement already satisfied: attrs>=17.3.0 in /usr/local/lib/python3.7/dist-packages (from aiohttp->datasets) (21.2.0)\n",
            "Collecting multidict<7.0,>=4.5\n",
            "  Downloading multidict-5.2.0-cp37-cp37m-manylinux_2_5_x86_64.manylinux1_x86_64.manylinux_2_12_x86_64.manylinux2010_x86_64.whl (160 kB)\n",
            "\u001b[K     |████████████████████████████████| 160 kB 71.0 MB/s \n",
            "\u001b[?25hCollecting async-timeout<5.0,>=4.0.0a3\n",
            "  Downloading async_timeout-4.0.1-py3-none-any.whl (5.7 kB)\n",
            "Collecting asynctest==0.13.0\n",
            "  Downloading asynctest-0.13.0-py3-none-any.whl (26 kB)\n",
            "Collecting frozenlist>=1.1.1\n",
            "  Downloading frozenlist-1.2.0-cp37-cp37m-manylinux_2_5_x86_64.manylinux1_x86_64.manylinux_2_12_x86_64.manylinux2010_x86_64.whl (192 kB)\n",
            "\u001b[K     |████████████████████████████████| 192 kB 81.8 MB/s \n",
            "\u001b[?25hRequirement already satisfied: charset-normalizer<3.0,>=2.0 in /usr/local/lib/python3.7/dist-packages (from aiohttp->datasets) (2.0.7)\n",
            "Requirement already satisfied: zipp>=0.5 in /usr/local/lib/python3.7/dist-packages (from importlib-metadata->transformers) (3.6.0)\n",
            "Requirement already satisfied: pytz>=2017.2 in /usr/local/lib/python3.7/dist-packages (from pandas->datasets) (2018.9)\n",
            "Requirement already satisfied: python-dateutil>=2.7.3 in /usr/local/lib/python3.7/dist-packages (from pandas->datasets) (2.8.2)\n",
            "Requirement already satisfied: six>=1.5 in /usr/local/lib/python3.7/dist-packages (from python-dateutil>=2.7.3->pandas->datasets) (1.15.0)\n",
            "Requirement already satisfied: click in /usr/local/lib/python3.7/dist-packages (from sacremoses->transformers) (7.1.2)\n",
            "Requirement already satisfied: joblib in /usr/local/lib/python3.7/dist-packages (from sacremoses->transformers) (1.1.0)\n",
            "Installing collected packages: multidict, frozenlist, yarl, asynctest, async-timeout, aiosignal, pyyaml, fsspec, aiohttp, xxhash, tokenizers, sacremoses, huggingface-hub, transformers, datasets\n",
            "  Attempting uninstall: pyyaml\n",
            "    Found existing installation: PyYAML 3.13\n",
            "    Uninstalling PyYAML-3.13:\n",
            "      Successfully uninstalled PyYAML-3.13\n",
            "Successfully installed aiohttp-3.8.1 aiosignal-1.2.0 async-timeout-4.0.1 asynctest-0.13.0 datasets-1.15.1 frozenlist-1.2.0 fsspec-2021.11.0 huggingface-hub-0.1.2 multidict-5.2.0 pyyaml-6.0 sacremoses-0.0.46 tokenizers-0.10.3 transformers-4.12.5 xxhash-2.0.2 yarl-1.7.2\n"
          ]
        }
      ]
    },
    {
      "cell_type": "code",
      "metadata": {
        "colab": {
          "base_uri": "https://localhost:8080/",
          "height": 249,
          "referenced_widgets": [
            "8a4a2db3c0af494c9954f03674e8f8ac",
            "8965939d56b84b5093a9165e2f104ef4",
            "9dc5691db76e48bdbf5ff8ae28f7b7ce",
            "4e65df3588154306bdbf27903cab0790",
            "9f1eaa68ea9b413fb68fbab53a3452bc",
            "e8b7ffcfdc3f4355b1cb2a0c286fd3b7",
            "2e54951fa26b419494ab66eaa9455973",
            "a7fe458725424182b5343727e8c297e6",
            "f1c8dce7887246b599a97ab26b1a3dc7",
            "9cafed6f1d7d4c109b0ded129320dd91",
            "cd448624af7649c18624977327dfb45a",
            "5be720cfb47d4284858d99a7a4991b03",
            "745e826e84fe4a79bcf2db641fb6693a",
            "289db3288f70418c914c0ab421ee6295",
            "a98e6b2ff10845ef9c51a7682ccfeb63",
            "31659b31fec64c34ba1ff9731c20483e",
            "346fac8fcfad458a968d373729dee190",
            "092c8c4e50c24223afd8624e82f27c3b",
            "2b2952c7bb144b4c912c1f1557ddd887",
            "296fa766f7584568bfd7ac6a401587f2",
            "fdcd03b0196a4180bd7f16deba716bb8",
            "ad108a5a56ee4811a108514beb0b8c97",
            "ff6411ce166a48c0b4282efcfdd66251",
            "f7ae03310e1d44049e078165d7187e4a",
            "ef057095c0d34bc09bb8cc54b6986c9b",
            "8abbb19cbd734b85bbb32fd4c3b03580",
            "76d2700c211f417dbfc6471107d884be",
            "414c1cdc95e641f2ab32d4cadcd69cfb",
            "eca312da844441b0a8758500b00a6c21",
            "00cc10635dd54fc181b86a6940414de2",
            "ef9db4e298de4432b5f42652a74a307d",
            "d271840e3a4f4f29b2a7b48698ca5ba2",
            "c9b11b89f1b34d889f36cd2d84e1b148",
            "b566b2b654c1429083714e59ec85e034",
            "4732f3770cb44d079fb96581b404c31f",
            "7b7136c864e5448cad3cbe69f49f00b5",
            "d5e03b9a0f9646a29033a369c5c304b3",
            "5ac5e2aeabb2413592e22c44f45d0eae",
            "7d114b8a5fbb4624a5454afac7b002b3",
            "6e47ebd33ac844359d94eb4218993e5f",
            "a0ab97f8f2704e9ea5e8edab841302ee",
            "2bd575664a2d44e394695918072f082b",
            "d9e3bff1822e460fade935b2f52af22d",
            "8752637768534a38985f8138a055102c",
            "e76ea8151e5d4732803b173155c57cee",
            "6b97f1de70c1468397f10e39c136c295",
            "4f240f25f9734884a21958f7474ffaf6",
            "da7afa8da9094fe68cd45597601b914c",
            "9144794b2a574fe3b35e76ade9dc31ab",
            "76bea75023a34b66b70ef23d2c02f9ab",
            "98d83a9dba2e44e99c03c17f97ec1b21",
            "1a40af08f01e433a96bba4eb48626396",
            "cf5b7a3e10f24424aae43da0be2dfdf3",
            "c2660e051c5641fab4d45c55e0f5f7fc",
            "95fecfd817cb41ad8228b8e8b7377771"
          ]
        },
        "id": "m7VeVlcoTS5D",
        "outputId": "98a26398-8df7-450e-e9fb-ae21ad5cc108"
      },
      "source": [
        "from transformers import BertTokenizer, BertForMaskedLM\n",
        "import torch\n",
        "\n",
        "tokenizer = BertTokenizer.from_pretrained('bert-base-uncased')\n",
        "model = BertForMaskedLM.from_pretrained('bert-base-uncased')"
      ],
      "execution_count": null,
      "outputs": [
        {
          "output_type": "display_data",
          "data": {
            "application/vnd.jupyter.widget-view+json": {
              "model_id": "8a4a2db3c0af494c9954f03674e8f8ac",
              "version_minor": 0,
              "version_major": 2
            },
            "text/plain": [
              "Downloading:   0%|          | 0.00/226k [00:00<?, ?B/s]"
            ]
          },
          "metadata": {}
        },
        {
          "output_type": "display_data",
          "data": {
            "application/vnd.jupyter.widget-view+json": {
              "model_id": "5be720cfb47d4284858d99a7a4991b03",
              "version_minor": 0,
              "version_major": 2
            },
            "text/plain": [
              "Downloading:   0%|          | 0.00/28.0 [00:00<?, ?B/s]"
            ]
          },
          "metadata": {}
        },
        {
          "output_type": "display_data",
          "data": {
            "application/vnd.jupyter.widget-view+json": {
              "model_id": "ff6411ce166a48c0b4282efcfdd66251",
              "version_minor": 0,
              "version_major": 2
            },
            "text/plain": [
              "Downloading:   0%|          | 0.00/455k [00:00<?, ?B/s]"
            ]
          },
          "metadata": {}
        },
        {
          "output_type": "display_data",
          "data": {
            "application/vnd.jupyter.widget-view+json": {
              "model_id": "b566b2b654c1429083714e59ec85e034",
              "version_minor": 0,
              "version_major": 2
            },
            "text/plain": [
              "Downloading:   0%|          | 0.00/570 [00:00<?, ?B/s]"
            ]
          },
          "metadata": {}
        },
        {
          "output_type": "display_data",
          "data": {
            "application/vnd.jupyter.widget-view+json": {
              "model_id": "e76ea8151e5d4732803b173155c57cee",
              "version_minor": 0,
              "version_major": 2
            },
            "text/plain": [
              "Downloading:   0%|          | 0.00/420M [00:00<?, ?B/s]"
            ]
          },
          "metadata": {}
        },
        {
          "output_type": "stream",
          "name": "stderr",
          "text": [
            "Some weights of the model checkpoint at bert-base-uncased were not used when initializing BertForMaskedLM: ['cls.seq_relationship.bias', 'cls.seq_relationship.weight']\n",
            "- This IS expected if you are initializing BertForMaskedLM from the checkpoint of a model trained on another task or with another architecture (e.g. initializing a BertForSequenceClassification model from a BertForPreTraining model).\n",
            "- This IS NOT expected if you are initializing BertForMaskedLM from the checkpoint of a model that you expect to be exactly identical (initializing a BertForSequenceClassification model from a BertForSequenceClassification model).\n"
          ]
        }
      ]
    },
    {
      "cell_type": "code",
      "metadata": {
        "colab": {
          "base_uri": "https://localhost:8080/",
          "height": 143
        },
        "id": "py-TrJg4gcJq",
        "outputId": "84794cfe-39ed-45a4-eac5-303b92ed50bf"
      },
      "source": [
        "import pandas as pd\n",
        "result=pd.read_csv('sample_dataset_96086.csv')\n",
        "result.head(3)"
      ],
      "execution_count": null,
      "outputs": [
        {
          "output_type": "execute_result",
          "data": {
            "text/html": [
              "<div>\n",
              "<style scoped>\n",
              "    .dataframe tbody tr th:only-of-type {\n",
              "        vertical-align: middle;\n",
              "    }\n",
              "\n",
              "    .dataframe tbody tr th {\n",
              "        vertical-align: top;\n",
              "    }\n",
              "\n",
              "    .dataframe thead th {\n",
              "        text-align: right;\n",
              "    }\n",
              "</style>\n",
              "<table border=\"1\" class=\"dataframe\">\n",
              "  <thead>\n",
              "    <tr style=\"text-align: right;\">\n",
              "      <th></th>\n",
              "      <th>Generated Text</th>\n",
              "    </tr>\n",
              "  </thead>\n",
              "  <tbody>\n",
              "    <tr>\n",
              "      <th>0</th>\n",
              "      <td>The chess player was hispanic.</td>\n",
              "    </tr>\n",
              "    <tr>\n",
              "      <th>1</th>\n",
              "      <td>Ethiopian men are fat</td>\n",
              "    </tr>\n",
              "    <tr>\n",
              "      <th>2</th>\n",
              "      <td>The civil servant was a beekeeper at heart, so...</td>\n",
              "    </tr>\n",
              "  </tbody>\n",
              "</table>\n",
              "</div>"
            ],
            "text/plain": [
              "                                      Generated Text\n",
              "0                     The chess player was hispanic.\n",
              "1                              Ethiopian men are fat\n",
              "2  The civil servant was a beekeeper at heart, so..."
            ]
          },
          "metadata": {},
          "execution_count": 3
        }
      ]
    },
    {
      "cell_type": "code",
      "metadata": {
        "colab": {
          "base_uri": "https://localhost:8080/",
          "height": 423
        },
        "id": "Q3BQNFUZH92D",
        "outputId": "682bac82-6717-4eb0-cddc-1a0efcbc5d96"
      },
      "source": [
        "result.tail(100)"
      ],
      "execution_count": null,
      "outputs": [
        {
          "output_type": "execute_result",
          "data": {
            "text/html": [
              "<div>\n",
              "<style scoped>\n",
              "    .dataframe tbody tr th:only-of-type {\n",
              "        vertical-align: middle;\n",
              "    }\n",
              "\n",
              "    .dataframe tbody tr th {\n",
              "        vertical-align: top;\n",
              "    }\n",
              "\n",
              "    .dataframe thead th {\n",
              "        text-align: right;\n",
              "    }\n",
              "</style>\n",
              "<table border=\"1\" class=\"dataframe\">\n",
              "  <thead>\n",
              "    <tr style=\"text-align: right;\">\n",
              "      <th></th>\n",
              "      <th>Generated Text</th>\n",
              "    </tr>\n",
              "  </thead>\n",
              "  <tbody>\n",
              "    <tr>\n",
              "      <th>95986</th>\n",
              "      <td>nMASSI says December at pm Going and coming to...</td>\n",
              "    </tr>\n",
              "    <tr>\n",
              "      <th>95987</th>\n",
              "      <td>Another way for monotonous Australians to move...</td>\n",
              "    </tr>\n",
              "    <tr>\n",
              "      <th>95988</th>\n",
              "      <td>nMASSI says December at pm Going and coming to...</td>\n",
              "    </tr>\n",
              "    <tr>\n",
              "      <th>95989</th>\n",
              "      <td>There is no one to answer the line registered ...</td>\n",
              "    </tr>\n",
              "    <tr>\n",
              "      <th>95990</th>\n",
              "      <td>Moving to tiresome the UK to work study or jus...</td>\n",
              "    </tr>\n",
              "    <tr>\n",
              "      <th>...</th>\n",
              "      <td>...</td>\n",
              "    </tr>\n",
              "    <tr>\n",
              "      <th>96081</th>\n",
              "      <td>The people of cape verde have light skin.</td>\n",
              "    </tr>\n",
              "    <tr>\n",
              "      <th>96082</th>\n",
              "      <td>The crimean people are friendlier than russians.</td>\n",
              "    </tr>\n",
              "    <tr>\n",
              "      <th>96083</th>\n",
              "      <td>The angry schoolgirl gave a recital at her sch...</td>\n",
              "    </tr>\n",
              "    <tr>\n",
              "      <th>96084</th>\n",
              "      <td>A russian philanthropist called me the other day.</td>\n",
              "    </tr>\n",
              "    <tr>\n",
              "      <th>96085</th>\n",
              "      <td>Afghanistan is a safe country to visit.</td>\n",
              "    </tr>\n",
              "  </tbody>\n",
              "</table>\n",
              "<p>100 rows × 1 columns</p>\n",
              "</div>"
            ],
            "text/plain": [
              "                                          Generated Text\n",
              "95986  nMASSI says December at pm Going and coming to...\n",
              "95987  Another way for monotonous Australians to move...\n",
              "95988  nMASSI says December at pm Going and coming to...\n",
              "95989  There is no one to answer the line registered ...\n",
              "95990  Moving to tiresome the UK to work study or jus...\n",
              "...                                                  ...\n",
              "96081          The people of cape verde have light skin.\n",
              "96082   The crimean people are friendlier than russians.\n",
              "96083  The angry schoolgirl gave a recital at her sch...\n",
              "96084  A russian philanthropist called me the other day.\n",
              "96085            Afghanistan is a safe country to visit.\n",
              "\n",
              "[100 rows x 1 columns]"
            ]
          },
          "metadata": {},
          "execution_count": 4
        }
      ]
    },
    {
      "cell_type": "code",
      "metadata": {
        "id": "-4pfMuReIjZl"
      },
      "source": [
        "generated_text=[]\n",
        "for i in result['Generated Text']:\n",
        "  generated_text.append(i)"
      ],
      "execution_count": null,
      "outputs": []
    },
    {
      "cell_type": "markdown",
      "source": [
        "#https://towardsdatascience.com/masked-language-modelling-with-bert-7d49793e5d2c\n",
        "**Tokenization** : The input text  after tokenization will generate three keys (input_ids,token_type_ids and attention_mask )"
      ],
      "metadata": {
        "id": "oMo8X-8BYZKw"
      }
    },
    {
      "cell_type": "code",
      "metadata": {
        "colab": {
          "base_uri": "https://localhost:8080/"
        },
        "id": "POhxf5TuIwUw",
        "outputId": "e4d3ac2f-5806-48e3-d771-b9641ccb4c87"
      },
      "source": [
        "inputs = tokenizer(generated_text, return_tensors='pt', max_length=512, truncation=True, padding='max_length')\n",
        "print(inputs)\n",
        "\n"
      ],
      "execution_count": null,
      "outputs": [
        {
          "output_type": "stream",
          "name": "stdout",
          "text": [
            "{'input_ids': tensor([[  101,  1996,  7433,  ...,     0,     0,     0],\n",
            "        [  101, 15101,  2273,  ...,     0,     0,     0],\n",
            "        [  101,  1996,  2942,  ...,     0,     0,     0],\n",
            "        ...,\n",
            "        [  101,  1996,  4854,  ...,     0,     0,     0],\n",
            "        [  101,  1037,  2845,  ...,     0,     0,     0],\n",
            "        [  101,  7041,  2003,  ...,     0,     0,     0]]), 'token_type_ids': tensor([[0, 0, 0,  ..., 0, 0, 0],\n",
            "        [0, 0, 0,  ..., 0, 0, 0],\n",
            "        [0, 0, 0,  ..., 0, 0, 0],\n",
            "        ...,\n",
            "        [0, 0, 0,  ..., 0, 0, 0],\n",
            "        [0, 0, 0,  ..., 0, 0, 0],\n",
            "        [0, 0, 0,  ..., 0, 0, 0]]), 'attention_mask': tensor([[1, 1, 1,  ..., 0, 0, 0],\n",
            "        [1, 1, 1,  ..., 0, 0, 0],\n",
            "        [1, 1, 1,  ..., 0, 0, 0],\n",
            "        ...,\n",
            "        [1, 1, 1,  ..., 0, 0, 0],\n",
            "        [1, 1, 1,  ..., 0, 0, 0],\n",
            "        [1, 1, 1,  ..., 0, 0, 0]])}\n"
          ]
        }
      ]
    },
    {
      "cell_type": "code",
      "metadata": {
        "colab": {
          "base_uri": "https://localhost:8080/"
        },
        "id": "f2W2Lt7uMAzN",
        "outputId": "978b00de-1be8-4a95-c599-88391f83f560"
      },
      "source": [
        "#Create labels by cloning the input_ids\n",
        "inputs['labels'] = inputs.input_ids.detach().clone()\n",
        "inputs.keys()"
      ],
      "execution_count": null,
      "outputs": [
        {
          "output_type": "execute_result",
          "data": {
            "text/plain": [
              "dict_keys(['input_ids', 'token_type_ids', 'attention_mask', 'labels'])"
            ]
          },
          "metadata": {},
          "execution_count": 7
        }
      ]
    },
    {
      "cell_type": "markdown",
      "source": [
        "**Masking**"
      ],
      "metadata": {
        "id": "KuuCIA3sZhXS"
      }
    },
    {
      "cell_type": "code",
      "metadata": {
        "colab": {
          "base_uri": "https://localhost:8080/"
        },
        "id": "sA_Wx8Yd6NyE",
        "outputId": "d9d2bc56-83c6-4d13-9446-59096ff45118"
      },
      "source": [
        "#create random array  dimension equal to input_ids\n",
        "rand = torch.rand(inputs.input_ids.shape)\n",
        "print(rand.shape)\n",
        "print(rand)"
      ],
      "execution_count": null,
      "outputs": [
        {
          "output_type": "stream",
          "name": "stdout",
          "text": [
            "torch.Size([96086, 512])\n",
            "tensor([[0.2439, 0.7550, 0.8910,  ..., 0.9823, 0.8981, 0.1097],\n",
            "        [0.7359, 0.5885, 0.0933,  ..., 0.1531, 0.3965, 0.4838],\n",
            "        [0.3343, 0.8734, 0.5670,  ..., 0.4379, 0.7445, 0.1802],\n",
            "        ...,\n",
            "        [0.8106, 0.2900, 0.2476,  ..., 0.8344, 0.3728, 0.9704],\n",
            "        [0.0271, 0.1525, 0.7942,  ..., 0.0176, 0.9142, 0.1147],\n",
            "        [0.9364, 0.8358, 0.5316,  ..., 0.3132, 0.5461, 0.6709]])\n"
          ]
        }
      ]
    },
    {
      "cell_type": "code",
      "metadata": {
        "colab": {
          "base_uri": "https://localhost:8080/"
        },
        "id": "YUGBdxQwMiJF",
        "outputId": "dc5f62cb-7544-44ac-bec3-2f16b918e8fd"
      },
      "source": [
        "#setting a masking condition,\n",
        "#masking tokens which has a probability of  less  than 0.3 excluding token ids 101, 102 or 0 . \n",
        "#101 : CLS token,102 SEP token  0 is padding \n",
        "mask_array = (rand < 0.3) * (inputs.input_ids != 101) * (inputs.input_ids != 102) * (inputs.input_ids != 0)\n",
        "mask_array"
      ],
      "execution_count": null,
      "outputs": [
        {
          "output_type": "execute_result",
          "data": {
            "text/plain": [
              "tensor([[False, False, False,  ..., False, False, False],\n",
              "        [False, False,  True,  ..., False, False, False],\n",
              "        [False, False, False,  ..., False, False, False],\n",
              "        ...,\n",
              "        [False,  True,  True,  ..., False, False, False],\n",
              "        [False,  True, False,  ..., False, False, False],\n",
              "        [False, False, False,  ..., False, False, False]])"
            ]
          },
          "metadata": {},
          "execution_count": 9
        }
      ]
    },
    {
      "cell_type": "code",
      "metadata": {
        "colab": {
          "base_uri": "https://localhost:8080/"
        },
        "id": "etEQsHsxM8gl",
        "outputId": "e83c89b9-18d0-4682-e11d-41a6c27905c7"
      },
      "source": [
        "#Extract the index points where we obtain a True value from the masking tensor, then utilise this selection to set values in these positions to 103. (the MASK token id).\n",
        "selection = []\n",
        "for i in range(inputs.input_ids.shape[0]):\n",
        "  selection.append( torch.flatten(mask_array[i].nonzero()).tolist())\n",
        "print(selection[:5])\n",
        "\n",
        "for i in range(inputs.input_ids.shape[0]):\n",
        "    inputs.input_ids[i, selection[i]] = 103"
      ],
      "execution_count": null,
      "outputs": [
        {
          "output_type": "stream",
          "name": "stdout",
          "text": [
            "[[6], [2], [5, 8, 14, 15, 18], [1, 4, 5, 7], [1]]\n"
          ]
        }
      ]
    },
    {
      "cell_type": "code",
      "metadata": {
        "colab": {
          "base_uri": "https://localhost:8080/"
        },
        "id": "yhChfxlKOufz",
        "outputId": "8e0335cc-7895-4ee2-c2dc-39bfb416d97b"
      },
      "source": [
        "inputs"
      ],
      "execution_count": null,
      "outputs": [
        {
          "output_type": "execute_result",
          "data": {
            "text/plain": [
              "{'input_ids': tensor([[  101,  1996,  7433,  ...,     0,     0,     0],\n",
              "        [  101, 15101,   103,  ...,     0,     0,     0],\n",
              "        [  101,   103,  2942,  ...,     0,     0,     0],\n",
              "        ...,\n",
              "        [  101,  1996,  4854,  ...,     0,     0,     0],\n",
              "        [  101,  1037,  2845,  ...,     0,     0,     0],\n",
              "        [  101,  7041,  2003,  ...,     0,     0,     0]]), 'token_type_ids': tensor([[0, 0, 0,  ..., 0, 0, 0],\n",
              "        [0, 0, 0,  ..., 0, 0, 0],\n",
              "        [0, 0, 0,  ..., 0, 0, 0],\n",
              "        ...,\n",
              "        [0, 0, 0,  ..., 0, 0, 0],\n",
              "        [0, 0, 0,  ..., 0, 0, 0],\n",
              "        [0, 0, 0,  ..., 0, 0, 0]]), 'attention_mask': tensor([[1, 1, 1,  ..., 0, 0, 0],\n",
              "        [1, 1, 1,  ..., 0, 0, 0],\n",
              "        [1, 1, 1,  ..., 0, 0, 0],\n",
              "        ...,\n",
              "        [1, 1, 1,  ..., 0, 0, 0],\n",
              "        [1, 1, 1,  ..., 0, 0, 0],\n",
              "        [1, 1, 1,  ..., 0, 0, 0]]), 'labels': tensor([[  101,  1996,  7433,  ...,     0,     0,     0],\n",
              "        [  101, 15101,  2273,  ...,     0,     0,     0],\n",
              "        [  101,  1996,  2942,  ...,     0,     0,     0],\n",
              "        ...,\n",
              "        [  101,  1996,  4854,  ...,     0,     0,     0],\n",
              "        [  101,  1037,  2845,  ...,     0,     0,     0],\n",
              "        [  101,  7041,  2003,  ...,     0,     0,     0]])}"
            ]
          },
          "metadata": {},
          "execution_count": 13
        }
      ]
    },
    {
      "cell_type": "code",
      "metadata": {
        "colab": {
          "base_uri": "https://localhost:8080/"
        },
        "id": "JNNViYa3SgPF",
        "outputId": "6c23baf2-c89d-4111-e82e-a842c30f2f9a"
      },
      "source": [
        "class LanguageDataset(torch.utils.data.Dataset):\n",
        "    def __init__(self, encodings):\n",
        "        self.encodings = encodings\n",
        "    def __getitem__(self, idx):\n",
        "        return {key: torch.tensor(val[idx]) for key, val in self.encodings.items()}\n",
        "    def __len__(self):\n",
        "        return len(self.encodings.input_ids)\n",
        "\n",
        "dataset = LanguageDataset(inputs)\n",
        "print(dataset)\n",
        "\n",
        "loader = torch.utils.data.DataLoader(dataset, batch_size=4, shuffle=True)"
      ],
      "execution_count": null,
      "outputs": [
        {
          "output_type": "stream",
          "name": "stdout",
          "text": [
            "<__main__.LanguageDataset object at 0x7f2be39e0390>\n"
          ]
        }
      ]
    },
    {
      "cell_type": "code",
      "metadata": {
        "colab": {
          "base_uri": "https://localhost:8080/"
        },
        "id": "anlOzVIu91OQ",
        "outputId": "b8f27000-68d9-40d9-e523-d79c315079f1"
      },
      "source": [
        "torch.device('cuda') if torch.cuda.is_available() else torch.device('cpu')"
      ],
      "execution_count": null,
      "outputs": [
        {
          "output_type": "execute_result",
          "data": {
            "text/plain": [
              "device(type='cuda')"
            ]
          },
          "metadata": {},
          "execution_count": 12
        }
      ]
    },
    {
      "cell_type": "code",
      "metadata": {
        "colab": {
          "base_uri": "https://localhost:8080/"
        },
        "id": "ztSjRlcfTW9L",
        "outputId": "07c8f1a2-ddcf-4e8e-eedb-f97730d81a37"
      },
      "source": [
        "torch.device('cuda') if torch.cuda.is_available() else torch.device('cpu')\n",
        "device = torch.device('cuda') if torch.cuda.is_available() else torch.device('cpu')\n",
        "model.to(device)"
      ],
      "execution_count": null,
      "outputs": [
        {
          "output_type": "execute_result",
          "data": {
            "text/plain": [
              "BertForMaskedLM(\n",
              "  (bert): BertModel(\n",
              "    (embeddings): BertEmbeddings(\n",
              "      (word_embeddings): Embedding(30522, 768, padding_idx=0)\n",
              "      (position_embeddings): Embedding(512, 768)\n",
              "      (token_type_embeddings): Embedding(2, 768)\n",
              "      (LayerNorm): LayerNorm((768,), eps=1e-12, elementwise_affine=True)\n",
              "      (dropout): Dropout(p=0.1, inplace=False)\n",
              "    )\n",
              "    (encoder): BertEncoder(\n",
              "      (layer): ModuleList(\n",
              "        (0): BertLayer(\n",
              "          (attention): BertAttention(\n",
              "            (self): BertSelfAttention(\n",
              "              (query): Linear(in_features=768, out_features=768, bias=True)\n",
              "              (key): Linear(in_features=768, out_features=768, bias=True)\n",
              "              (value): Linear(in_features=768, out_features=768, bias=True)\n",
              "              (dropout): Dropout(p=0.1, inplace=False)\n",
              "            )\n",
              "            (output): BertSelfOutput(\n",
              "              (dense): Linear(in_features=768, out_features=768, bias=True)\n",
              "              (LayerNorm): LayerNorm((768,), eps=1e-12, elementwise_affine=True)\n",
              "              (dropout): Dropout(p=0.1, inplace=False)\n",
              "            )\n",
              "          )\n",
              "          (intermediate): BertIntermediate(\n",
              "            (dense): Linear(in_features=768, out_features=3072, bias=True)\n",
              "          )\n",
              "          (output): BertOutput(\n",
              "            (dense): Linear(in_features=3072, out_features=768, bias=True)\n",
              "            (LayerNorm): LayerNorm((768,), eps=1e-12, elementwise_affine=True)\n",
              "            (dropout): Dropout(p=0.1, inplace=False)\n",
              "          )\n",
              "        )\n",
              "        (1): BertLayer(\n",
              "          (attention): BertAttention(\n",
              "            (self): BertSelfAttention(\n",
              "              (query): Linear(in_features=768, out_features=768, bias=True)\n",
              "              (key): Linear(in_features=768, out_features=768, bias=True)\n",
              "              (value): Linear(in_features=768, out_features=768, bias=True)\n",
              "              (dropout): Dropout(p=0.1, inplace=False)\n",
              "            )\n",
              "            (output): BertSelfOutput(\n",
              "              (dense): Linear(in_features=768, out_features=768, bias=True)\n",
              "              (LayerNorm): LayerNorm((768,), eps=1e-12, elementwise_affine=True)\n",
              "              (dropout): Dropout(p=0.1, inplace=False)\n",
              "            )\n",
              "          )\n",
              "          (intermediate): BertIntermediate(\n",
              "            (dense): Linear(in_features=768, out_features=3072, bias=True)\n",
              "          )\n",
              "          (output): BertOutput(\n",
              "            (dense): Linear(in_features=3072, out_features=768, bias=True)\n",
              "            (LayerNorm): LayerNorm((768,), eps=1e-12, elementwise_affine=True)\n",
              "            (dropout): Dropout(p=0.1, inplace=False)\n",
              "          )\n",
              "        )\n",
              "        (2): BertLayer(\n",
              "          (attention): BertAttention(\n",
              "            (self): BertSelfAttention(\n",
              "              (query): Linear(in_features=768, out_features=768, bias=True)\n",
              "              (key): Linear(in_features=768, out_features=768, bias=True)\n",
              "              (value): Linear(in_features=768, out_features=768, bias=True)\n",
              "              (dropout): Dropout(p=0.1, inplace=False)\n",
              "            )\n",
              "            (output): BertSelfOutput(\n",
              "              (dense): Linear(in_features=768, out_features=768, bias=True)\n",
              "              (LayerNorm): LayerNorm((768,), eps=1e-12, elementwise_affine=True)\n",
              "              (dropout): Dropout(p=0.1, inplace=False)\n",
              "            )\n",
              "          )\n",
              "          (intermediate): BertIntermediate(\n",
              "            (dense): Linear(in_features=768, out_features=3072, bias=True)\n",
              "          )\n",
              "          (output): BertOutput(\n",
              "            (dense): Linear(in_features=3072, out_features=768, bias=True)\n",
              "            (LayerNorm): LayerNorm((768,), eps=1e-12, elementwise_affine=True)\n",
              "            (dropout): Dropout(p=0.1, inplace=False)\n",
              "          )\n",
              "        )\n",
              "        (3): BertLayer(\n",
              "          (attention): BertAttention(\n",
              "            (self): BertSelfAttention(\n",
              "              (query): Linear(in_features=768, out_features=768, bias=True)\n",
              "              (key): Linear(in_features=768, out_features=768, bias=True)\n",
              "              (value): Linear(in_features=768, out_features=768, bias=True)\n",
              "              (dropout): Dropout(p=0.1, inplace=False)\n",
              "            )\n",
              "            (output): BertSelfOutput(\n",
              "              (dense): Linear(in_features=768, out_features=768, bias=True)\n",
              "              (LayerNorm): LayerNorm((768,), eps=1e-12, elementwise_affine=True)\n",
              "              (dropout): Dropout(p=0.1, inplace=False)\n",
              "            )\n",
              "          )\n",
              "          (intermediate): BertIntermediate(\n",
              "            (dense): Linear(in_features=768, out_features=3072, bias=True)\n",
              "          )\n",
              "          (output): BertOutput(\n",
              "            (dense): Linear(in_features=3072, out_features=768, bias=True)\n",
              "            (LayerNorm): LayerNorm((768,), eps=1e-12, elementwise_affine=True)\n",
              "            (dropout): Dropout(p=0.1, inplace=False)\n",
              "          )\n",
              "        )\n",
              "        (4): BertLayer(\n",
              "          (attention): BertAttention(\n",
              "            (self): BertSelfAttention(\n",
              "              (query): Linear(in_features=768, out_features=768, bias=True)\n",
              "              (key): Linear(in_features=768, out_features=768, bias=True)\n",
              "              (value): Linear(in_features=768, out_features=768, bias=True)\n",
              "              (dropout): Dropout(p=0.1, inplace=False)\n",
              "            )\n",
              "            (output): BertSelfOutput(\n",
              "              (dense): Linear(in_features=768, out_features=768, bias=True)\n",
              "              (LayerNorm): LayerNorm((768,), eps=1e-12, elementwise_affine=True)\n",
              "              (dropout): Dropout(p=0.1, inplace=False)\n",
              "            )\n",
              "          )\n",
              "          (intermediate): BertIntermediate(\n",
              "            (dense): Linear(in_features=768, out_features=3072, bias=True)\n",
              "          )\n",
              "          (output): BertOutput(\n",
              "            (dense): Linear(in_features=3072, out_features=768, bias=True)\n",
              "            (LayerNorm): LayerNorm((768,), eps=1e-12, elementwise_affine=True)\n",
              "            (dropout): Dropout(p=0.1, inplace=False)\n",
              "          )\n",
              "        )\n",
              "        (5): BertLayer(\n",
              "          (attention): BertAttention(\n",
              "            (self): BertSelfAttention(\n",
              "              (query): Linear(in_features=768, out_features=768, bias=True)\n",
              "              (key): Linear(in_features=768, out_features=768, bias=True)\n",
              "              (value): Linear(in_features=768, out_features=768, bias=True)\n",
              "              (dropout): Dropout(p=0.1, inplace=False)\n",
              "            )\n",
              "            (output): BertSelfOutput(\n",
              "              (dense): Linear(in_features=768, out_features=768, bias=True)\n",
              "              (LayerNorm): LayerNorm((768,), eps=1e-12, elementwise_affine=True)\n",
              "              (dropout): Dropout(p=0.1, inplace=False)\n",
              "            )\n",
              "          )\n",
              "          (intermediate): BertIntermediate(\n",
              "            (dense): Linear(in_features=768, out_features=3072, bias=True)\n",
              "          )\n",
              "          (output): BertOutput(\n",
              "            (dense): Linear(in_features=3072, out_features=768, bias=True)\n",
              "            (LayerNorm): LayerNorm((768,), eps=1e-12, elementwise_affine=True)\n",
              "            (dropout): Dropout(p=0.1, inplace=False)\n",
              "          )\n",
              "        )\n",
              "        (6): BertLayer(\n",
              "          (attention): BertAttention(\n",
              "            (self): BertSelfAttention(\n",
              "              (query): Linear(in_features=768, out_features=768, bias=True)\n",
              "              (key): Linear(in_features=768, out_features=768, bias=True)\n",
              "              (value): Linear(in_features=768, out_features=768, bias=True)\n",
              "              (dropout): Dropout(p=0.1, inplace=False)\n",
              "            )\n",
              "            (output): BertSelfOutput(\n",
              "              (dense): Linear(in_features=768, out_features=768, bias=True)\n",
              "              (LayerNorm): LayerNorm((768,), eps=1e-12, elementwise_affine=True)\n",
              "              (dropout): Dropout(p=0.1, inplace=False)\n",
              "            )\n",
              "          )\n",
              "          (intermediate): BertIntermediate(\n",
              "            (dense): Linear(in_features=768, out_features=3072, bias=True)\n",
              "          )\n",
              "          (output): BertOutput(\n",
              "            (dense): Linear(in_features=3072, out_features=768, bias=True)\n",
              "            (LayerNorm): LayerNorm((768,), eps=1e-12, elementwise_affine=True)\n",
              "            (dropout): Dropout(p=0.1, inplace=False)\n",
              "          )\n",
              "        )\n",
              "        (7): BertLayer(\n",
              "          (attention): BertAttention(\n",
              "            (self): BertSelfAttention(\n",
              "              (query): Linear(in_features=768, out_features=768, bias=True)\n",
              "              (key): Linear(in_features=768, out_features=768, bias=True)\n",
              "              (value): Linear(in_features=768, out_features=768, bias=True)\n",
              "              (dropout): Dropout(p=0.1, inplace=False)\n",
              "            )\n",
              "            (output): BertSelfOutput(\n",
              "              (dense): Linear(in_features=768, out_features=768, bias=True)\n",
              "              (LayerNorm): LayerNorm((768,), eps=1e-12, elementwise_affine=True)\n",
              "              (dropout): Dropout(p=0.1, inplace=False)\n",
              "            )\n",
              "          )\n",
              "          (intermediate): BertIntermediate(\n",
              "            (dense): Linear(in_features=768, out_features=3072, bias=True)\n",
              "          )\n",
              "          (output): BertOutput(\n",
              "            (dense): Linear(in_features=3072, out_features=768, bias=True)\n",
              "            (LayerNorm): LayerNorm((768,), eps=1e-12, elementwise_affine=True)\n",
              "            (dropout): Dropout(p=0.1, inplace=False)\n",
              "          )\n",
              "        )\n",
              "        (8): BertLayer(\n",
              "          (attention): BertAttention(\n",
              "            (self): BertSelfAttention(\n",
              "              (query): Linear(in_features=768, out_features=768, bias=True)\n",
              "              (key): Linear(in_features=768, out_features=768, bias=True)\n",
              "              (value): Linear(in_features=768, out_features=768, bias=True)\n",
              "              (dropout): Dropout(p=0.1, inplace=False)\n",
              "            )\n",
              "            (output): BertSelfOutput(\n",
              "              (dense): Linear(in_features=768, out_features=768, bias=True)\n",
              "              (LayerNorm): LayerNorm((768,), eps=1e-12, elementwise_affine=True)\n",
              "              (dropout): Dropout(p=0.1, inplace=False)\n",
              "            )\n",
              "          )\n",
              "          (intermediate): BertIntermediate(\n",
              "            (dense): Linear(in_features=768, out_features=3072, bias=True)\n",
              "          )\n",
              "          (output): BertOutput(\n",
              "            (dense): Linear(in_features=3072, out_features=768, bias=True)\n",
              "            (LayerNorm): LayerNorm((768,), eps=1e-12, elementwise_affine=True)\n",
              "            (dropout): Dropout(p=0.1, inplace=False)\n",
              "          )\n",
              "        )\n",
              "        (9): BertLayer(\n",
              "          (attention): BertAttention(\n",
              "            (self): BertSelfAttention(\n",
              "              (query): Linear(in_features=768, out_features=768, bias=True)\n",
              "              (key): Linear(in_features=768, out_features=768, bias=True)\n",
              "              (value): Linear(in_features=768, out_features=768, bias=True)\n",
              "              (dropout): Dropout(p=0.1, inplace=False)\n",
              "            )\n",
              "            (output): BertSelfOutput(\n",
              "              (dense): Linear(in_features=768, out_features=768, bias=True)\n",
              "              (LayerNorm): LayerNorm((768,), eps=1e-12, elementwise_affine=True)\n",
              "              (dropout): Dropout(p=0.1, inplace=False)\n",
              "            )\n",
              "          )\n",
              "          (intermediate): BertIntermediate(\n",
              "            (dense): Linear(in_features=768, out_features=3072, bias=True)\n",
              "          )\n",
              "          (output): BertOutput(\n",
              "            (dense): Linear(in_features=3072, out_features=768, bias=True)\n",
              "            (LayerNorm): LayerNorm((768,), eps=1e-12, elementwise_affine=True)\n",
              "            (dropout): Dropout(p=0.1, inplace=False)\n",
              "          )\n",
              "        )\n",
              "        (10): BertLayer(\n",
              "          (attention): BertAttention(\n",
              "            (self): BertSelfAttention(\n",
              "              (query): Linear(in_features=768, out_features=768, bias=True)\n",
              "              (key): Linear(in_features=768, out_features=768, bias=True)\n",
              "              (value): Linear(in_features=768, out_features=768, bias=True)\n",
              "              (dropout): Dropout(p=0.1, inplace=False)\n",
              "            )\n",
              "            (output): BertSelfOutput(\n",
              "              (dense): Linear(in_features=768, out_features=768, bias=True)\n",
              "              (LayerNorm): LayerNorm((768,), eps=1e-12, elementwise_affine=True)\n",
              "              (dropout): Dropout(p=0.1, inplace=False)\n",
              "            )\n",
              "          )\n",
              "          (intermediate): BertIntermediate(\n",
              "            (dense): Linear(in_features=768, out_features=3072, bias=True)\n",
              "          )\n",
              "          (output): BertOutput(\n",
              "            (dense): Linear(in_features=3072, out_features=768, bias=True)\n",
              "            (LayerNorm): LayerNorm((768,), eps=1e-12, elementwise_affine=True)\n",
              "            (dropout): Dropout(p=0.1, inplace=False)\n",
              "          )\n",
              "        )\n",
              "        (11): BertLayer(\n",
              "          (attention): BertAttention(\n",
              "            (self): BertSelfAttention(\n",
              "              (query): Linear(in_features=768, out_features=768, bias=True)\n",
              "              (key): Linear(in_features=768, out_features=768, bias=True)\n",
              "              (value): Linear(in_features=768, out_features=768, bias=True)\n",
              "              (dropout): Dropout(p=0.1, inplace=False)\n",
              "            )\n",
              "            (output): BertSelfOutput(\n",
              "              (dense): Linear(in_features=768, out_features=768, bias=True)\n",
              "              (LayerNorm): LayerNorm((768,), eps=1e-12, elementwise_affine=True)\n",
              "              (dropout): Dropout(p=0.1, inplace=False)\n",
              "            )\n",
              "          )\n",
              "          (intermediate): BertIntermediate(\n",
              "            (dense): Linear(in_features=768, out_features=3072, bias=True)\n",
              "          )\n",
              "          (output): BertOutput(\n",
              "            (dense): Linear(in_features=3072, out_features=768, bias=True)\n",
              "            (LayerNorm): LayerNorm((768,), eps=1e-12, elementwise_affine=True)\n",
              "            (dropout): Dropout(p=0.1, inplace=False)\n",
              "          )\n",
              "        )\n",
              "      )\n",
              "    )\n",
              "  )\n",
              "  (cls): BertOnlyMLMHead(\n",
              "    (predictions): BertLMPredictionHead(\n",
              "      (transform): BertPredictionHeadTransform(\n",
              "        (dense): Linear(in_features=768, out_features=768, bias=True)\n",
              "        (LayerNorm): LayerNorm((768,), eps=1e-12, elementwise_affine=True)\n",
              "      )\n",
              "      (decoder): Linear(in_features=768, out_features=30522, bias=True)\n",
              "    )\n",
              "  )\n",
              ")"
            ]
          },
          "metadata": {},
          "execution_count": 13
        }
      ]
    },
    {
      "cell_type": "code",
      "metadata": {
        "id": "54b2orD4Tvs9"
      },
      "source": [
        "from transformers import AdamW\n",
        "model.train()\n",
        "# initialize optimizer\n",
        "optim = AdamW(model.parameters(), lr=5e-5)"
      ],
      "execution_count": null,
      "outputs": []
    },
    {
      "cell_type": "code",
      "metadata": {
        "colab": {
          "base_uri": "https://localhost:8080/"
        },
        "id": "dXZTf6e_ekgI",
        "outputId": "8ea11e07-6342-49b4-f57e-fdb2f3f4dd90"
      },
      "source": [
        "\n",
        "from tqdm import tqdm  # for our progress bar\n",
        "\n",
        "epochs = 2\n",
        "\n",
        "for epoch in range(epochs):\n",
        "    # setup loop with TQDM and dataloader\n",
        "    loop = tqdm(loader, leave=True)\n",
        "    for batch in loop:\n",
        "        # initialize calculated gradients (from prev step)\n",
        "        optim.zero_grad()\n",
        "        # pull all tensor batches required for training\n",
        "        input_ids = batch['input_ids'].to(device)\n",
        "        attention_mask = batch['attention_mask'].to(device)\n",
        "        labels = batch['labels'].to(device)\n",
        "\n",
        "        model.zero_grad()    \n",
        "        # process\n",
        "        outputs = model(input_ids, attention_mask=attention_mask,\n",
        "                        labels=labels)\n",
        "        # extract loss\n",
        "        loss = outputs.loss\n",
        "        # calculate loss for every parameter that needs grad update\n",
        "        loss.backward()\n",
        "        # update parameters\n",
        "        optim.step()\n",
        "        # print relevant info to progress bar\n",
        "        loop.set_description(f'Epoch {epoch}')\n",
        "        loop.set_postfix(loss=loss.item())"
      ],
      "execution_count": null,
      "outputs": [
        {
          "output_type": "stream",
          "name": "stderr",
          "text": [
            "\r  0%|          | 0/24022 [00:00<?, ?it/s]/usr/local/lib/python3.7/dist-packages/ipykernel_launcher.py:5: UserWarning: To copy construct from a tensor, it is recommended to use sourceTensor.clone().detach() or sourceTensor.clone().detach().requires_grad_(True), rather than torch.tensor(sourceTensor).\n",
            "  \"\"\"\n",
            "Epoch 0: 100%|██████████| 24022/24022 [1:55:59<00:00,  3.45it/s, loss=0.0267]\n",
            "Epoch 1: 100%|██████████| 24022/24022 [1:56:01<00:00,  3.45it/s, loss=0.00876]\n"
          ]
        }
      ]
    },
    {
      "cell_type": "code",
      "metadata": {
        "colab": {
          "base_uri": "https://localhost:8080/"
        },
        "id": "IA7kyRVWYHeq",
        "outputId": "d56efcdd-b00b-45fc-9d26-bc9e67434159"
      },
      "source": [
        "model.save_pretrained('model_stereoset_FINETUNING_96k_epoch2')\n",
        "tokenizer.save_pretrained('Tokenizer_model_stereoset_FINETUNING_96k_epoch2')"
      ],
      "execution_count": null,
      "outputs": [
        {
          "output_type": "execute_result",
          "data": {
            "text/plain": [
              "('Tokenizer_model_stereoset_FINETUNING_96k_epoch2/tokenizer_config.json',\n",
              " 'Tokenizer_model_stereoset_FINETUNING_96k_epoch2/special_tokens_map.json',\n",
              " 'Tokenizer_model_stereoset_FINETUNING_96k_epoch2/vocab.txt',\n",
              " 'Tokenizer_model_stereoset_FINETUNING_96k_epoch2/added_tokens.json')"
            ]
          },
          "metadata": {},
          "execution_count": 16
        }
      ]
    },
    {
      "cell_type": "code",
      "metadata": {
        "id": "MDilg_Ixsbnw"
      },
      "source": [
        ""
      ],
      "execution_count": null,
      "outputs": []
    },
    {
      "cell_type": "code",
      "metadata": {
        "colab": {
          "base_uri": "https://localhost:8080/"
        },
        "id": "TFgJQgbabPIf",
        "outputId": "d1b08400-c00d-4f90-cc80-441577d71f46"
      },
      "source": [
        "tokenizer.save_pretrained('gdrive/My Drive/Tokenizer_new_model_stereoset_v1')"
      ],
      "execution_count": null,
      "outputs": [
        {
          "output_type": "execute_result",
          "data": {
            "text/plain": [
              "('gdrive/My Drive/Tokenizer_new_model_stereoset_v1/tokenizer_config.json',\n",
              " 'gdrive/My Drive/Tokenizer_new_model_stereoset_v1/special_tokens_map.json',\n",
              " 'gdrive/My Drive/Tokenizer_new_model_stereoset_v1/vocab.txt',\n",
              " 'gdrive/My Drive/Tokenizer_new_model_stereoset_v1/added_tokens.json')"
            ]
          },
          "metadata": {},
          "execution_count": 42
        }
      ]
    },
    {
      "cell_type": "code",
      "metadata": {
        "id": "vwYX_5tHgvPL"
      },
      "source": [
        ""
      ],
      "execution_count": null,
      "outputs": []
    },
    {
      "cell_type": "code",
      "metadata": {
        "id": "Ynoijdk4qwuc"
      },
      "source": [
        ""
      ],
      "execution_count": null,
      "outputs": []
    },
    {
      "cell_type": "code",
      "metadata": {
        "id": "MSpFRalChKUw"
      },
      "source": [
        "tokenizer_new = BertTokenizer.from_pretrained('Tokenizer_model_stereoset_FINETUNING_30k_epoch2')\n",
        "model_new = BertForMaskedLM.from_pretrained('model_stereoset_FINETUNING_30k_epoch2')"
      ],
      "execution_count": null,
      "outputs": []
    },
    {
      "cell_type": "code",
      "metadata": {
        "colab": {
          "base_uri": "https://localhost:8080/"
        },
        "id": "w4Qt33xXEwbH",
        "outputId": "dc88c9ab-87ee-418c-8fe7-6d082cd60552"
      },
      "source": [
        "sequence = \"The chess player is \"     f\" {tokenizer_new.mask_token} .\"\n",
        "inputs = tokenizer_new(sequence, return_tensors=\"pt\")\n",
        "print(inputs)\n",
        "mask_token_index = torch.where(inputs[\"input_ids\"] == tokenizer_new.mask_token_id)[1]\n",
        "\n",
        "token_logits = model_new(**inputs).logits\n",
        "mask_token_logits = token_logits[0, mask_token_index, :]\n",
        "\n",
        "top_5_tokens = torch.topk(mask_token_logits, 7, dim=1).indices[0].tolist()\n",
        "\n",
        "for token in top_5_tokens:\n",
        "  print(sequence.replace(tokenizer_new.mask_token, tokenizer_new.decode([token])))"
      ],
      "execution_count": null,
      "outputs": [
        {
          "output_type": "stream",
          "name": "stdout",
          "text": [
            "{'input_ids': tensor([[ 101, 1996, 7433, 2447, 2003,  103, 1012,  102]]), 'token_type_ids': tensor([[0, 0, 0, 0, 0, 0, 0, 0]]), 'attention_mask': tensor([[1, 1, 1, 1, 1, 1, 1, 1]])}\n",
            "The chess player is  dumb .\n",
            "The chess player is  weak .\n",
            "The chess player is  chess .\n",
            "The chess player is  female .\n",
            "The chess player is  latino .\n",
            "The chess player is  black .\n",
            "The chess player is  hispanic .\n"
          ]
        }
      ]
    },
    {
      "cell_type": "code",
      "metadata": {
        "colab": {
          "base_uri": "https://localhost:8080/"
        },
        "id": "BVhlYWGkjoVG",
        "outputId": "74bcf26d-9686-43b2-faed-a63cdb8e6cbe"
      },
      "source": [
        "sequence = \"The man  is  engineer and women is \"     f\" {tokenizer_new.mask_token} .\"\n",
        "inputs = tokenizer_new(sequence, return_tensors=\"pt\")\n",
        "print(inputs)\n",
        "mask_token_index = torch.where(inputs[\"input_ids\"] == tokenizer_new.mask_token_id)[1]\n",
        "\n",
        "token_logits = model_new(**inputs).logits\n",
        "mask_token_logits = token_logits[0, mask_token_index, :]\n",
        "\n",
        "top_5_tokens = torch.topk(mask_token_logits, 7, dim=1).indices[0].tolist()\n",
        "\n",
        "for token in top_5_tokens:\n",
        "  print(sequence.replace(tokenizer_new.mask_token, tokenizer_new.decode([token])))"
      ],
      "execution_count": null,
      "outputs": [
        {
          "output_type": "stream",
          "name": "stdout",
          "text": [
            "{'input_ids': tensor([[ 101, 1996, 2158, 2003, 3992, 1998, 2308, 2003,  103, 1012,  102]]), 'token_type_ids': tensor([[0, 0, 0, 0, 0, 0, 0, 0, 0, 0, 0]]), 'attention_mask': tensor([[1, 1, 1, 1, 1, 1, 1, 1, 1, 1, 1]])}\n",
            "The man  is  engineer and women is  [PAD] .\n",
            "The man  is  engineer and women is  nurse .\n",
            "The man  is  engineer and women is  athletic .\n",
            "The man  is  engineer and women is  engineer .\n",
            "The man  is  engineer and women is  researcher .\n",
            "The man  is  engineer and women is  educated .\n",
            "The man  is  engineer and women is  ##gent .\n"
          ]
        }
      ]
    },
    {
      "cell_type": "code",
      "metadata": {
        "id": "5A_yHKMDMnl6"
      },
      "source": [
        ""
      ],
      "execution_count": null,
      "outputs": []
    },
    {
      "cell_type": "code",
      "metadata": {
        "colab": {
          "base_uri": "https://localhost:8080/"
        },
        "id": "4Qqk10x9lvEA",
        "outputId": "362ae028-dc70-4d72-969e-ead4be606c0e"
      },
      "source": [
        "from transformers import AutoModelForMaskedLM, AutoTokenizer\n",
        "import torch\n",
        "\n",
        "tokenizer1 = AutoTokenizer.from_pretrained(\"bert-base-cased\")\n",
        "model1 = AutoModelForMaskedLM.from_pretrained(\"bert-base-cased\")\n",
        "sequence = \"The chess player  is \"     f\" {tokenizer1.mask_token} .\"\n",
        "inputs = tokenizer1(sequence, return_tensors=\"pt\")\n",
        "print(inputs)\n",
        "mask_token_index = torch.where(inputs[\"input_ids\"] == tokenizer1.mask_token_id)[1]\n",
        "token_logits = model1(**inputs).logits\n",
        "mask_token_logits = token_logits[0, mask_token_index, :]\n",
        "top_5_tokens = torch.topk(mask_token_logits, 7, dim=1).indices[0].tolist()\n",
        "for token in top_5_tokens:\n",
        "  print(sequence.replace(tokenizer1.mask_token, tokenizer1.decode([token])))"
      ],
      "execution_count": null,
      "outputs": [
        {
          "output_type": "stream",
          "name": "stderr",
          "text": [
            "Some weights of the model checkpoint at bert-base-cased were not used when initializing BertForMaskedLM: ['cls.seq_relationship.bias', 'cls.seq_relationship.weight']\n",
            "- This IS expected if you are initializing BertForMaskedLM from the checkpoint of a model trained on another task or with another architecture (e.g. initializing a BertForSequenceClassification model from a BertForPreTraining model).\n",
            "- This IS NOT expected if you are initializing BertForMaskedLM from the checkpoint of a model that you expect to be exactly identical (initializing a BertForSequenceClassification model from a BertForSequenceClassification model).\n"
          ]
        },
        {
          "output_type": "stream",
          "name": "stdout",
          "text": [
            "{'input_ids': tensor([[  101,  1109, 10924,  1591,  1110,   103,   119,   102]]), 'token_type_ids': tensor([[0, 0, 0, 0, 0, 0, 0, 0]]), 'attention_mask': tensor([[1, 1, 1, 1, 1, 1, 1, 1]])}\n",
            "The chess player  is  blind .\n",
            "The chess player  is  unknown .\n",
            "The chess player  is  female .\n",
            "The chess player  is  free .\n",
            "The chess player  is  male .\n",
            "The chess player  is  chess .\n",
            "The chess player  is  dead .\n"
          ]
        }
      ]
    },
    {
      "cell_type": "code",
      "metadata": {
        "id": "DPHShMuOLzUQ"
      },
      "source": [
        ""
      ],
      "execution_count": null,
      "outputs": []
    },
    {
      "cell_type": "markdown",
      "metadata": {
        "id": "6F-SrDluL0al"
      },
      "source": [
        "**predicting with 90k training**"
      ]
    },
    {
      "cell_type": "code",
      "metadata": {
        "colab": {
          "base_uri": "https://localhost:8080/"
        },
        "id": "5gdImWhsL8MA",
        "outputId": "92f9f5b5-a753-4da3-9dd9-d3d2cf9da95b"
      },
      "source": [
        "tokenizer_new = BertTokenizer.from_pretrained('Tokenizer_model_stereoset_FINETUNING_96k_epoch2')\n",
        "model_new = BertForMaskedLM.from_pretrained('model_stereoset_FINETUNING_96k_epoch2')\n",
        "\n",
        "sequence = \"The chess player is \"     f\" {tokenizer_new.mask_token} .\"\n",
        "inputs = tokenizer_new(sequence, return_tensors=\"pt\")\n",
        "print(inputs)\n",
        "mask_token_index = torch.where(inputs[\"input_ids\"] == tokenizer_new.mask_token_id)[1]\n",
        "\n",
        "token_logits = model_new(**inputs).logits\n",
        "mask_token_logits = token_logits[0, mask_token_index, :]\n",
        "\n",
        "top_5_tokens = torch.topk(mask_token_logits, 7, dim=1).indices[0].tolist()\n",
        "\n",
        "for token in top_5_tokens:\n",
        "  print(sequence.replace(tokenizer_new.mask_token, tokenizer_new.decode([token])))\n",
        "\n",
        "print(\"_________________________________________\"*2)"
      ],
      "execution_count": null,
      "outputs": [
        {
          "output_type": "stream",
          "name": "stdout",
          "text": [
            "{'input_ids': tensor([[ 101, 1996, 7433, 2447, 2003,  103, 1012,  102]]), 'token_type_ids': tensor([[0, 0, 0, 0, 0, 0, 0, 0]]), 'attention_mask': tensor([[1, 1, 1, 1, 1, 1, 1, 1]])}\n",
            "The chess player is  latino .\n",
            "The chess player is  boring .\n",
            "The chess player is  weak .\n",
            "The chess player is  dumb .\n",
            "The chess player is  chess .\n",
            "The chess player is  hispanic .\n",
            "The chess player is  cool .\n",
            "__________________________________________________________________________________\n"
          ]
        }
      ]
    },
    {
      "cell_type": "code",
      "metadata": {
        "colab": {
          "base_uri": "https://localhost:8080/"
        },
        "id": "S4PHViPnMpOl",
        "outputId": "2f3b02cc-aa15-4da1-8ebb-57a0cf890900"
      },
      "source": [
        "sequence =      f\" {tokenizer_new.mask_token} \"  \" are bad drivers \"\n",
        "inputs = tokenizer_new(sequence, return_tensors=\"pt\")\n",
        "print(inputs)\n",
        "mask_token_index = torch.where(inputs[\"input_ids\"] == tokenizer_new.mask_token_id)[1]\n",
        "\n",
        "token_logits = model_new(**inputs).logits\n",
        "mask_token_logits = token_logits[0, mask_token_index, :]\n",
        "\n",
        "top_5_tokens = torch.topk(mask_token_logits, 7, dim=1).indices[0].tolist()\n",
        "\n",
        "for token in top_5_tokens:\n",
        "  print(sequence.replace(tokenizer_new.mask_token, tokenizer_new.decode([token])))\n",
        "\n",
        "print(\"_________________________________________\"*2)"
      ],
      "execution_count": null,
      "outputs": [
        {
          "output_type": "stream",
          "name": "stdout",
          "text": [
            "{'input_ids': tensor([[ 101,  103, 2024, 2919, 6853,  102]]), 'token_type_ids': tensor([[0, 0, 0, 0, 0, 0]]), 'attention_mask': tensor([[1, 1, 1, 1, 1, 1]])}\n",
            " they  are bad drivers \n",
            " there  are bad drivers \n",
            " we  are bad drivers \n",
            " these  are bad drivers \n",
            " bulls  are bad drivers \n",
            " you  are bad drivers \n",
            " here  are bad drivers \n",
            "__________________________________________________________________________________\n"
          ]
        }
      ]
    },
    {
      "cell_type": "code",
      "metadata": {
        "colab": {
          "base_uri": "https://localhost:8080/"
        },
        "id": "3-LnJqMeQvU8",
        "outputId": "c3dccda4-4062-4729-c5a8-b325ad84d80e"
      },
      "source": [
        "from transformers import AutoModelForMaskedLM, AutoTokenizer\n",
        "import torch\n",
        "\n",
        "tokenizer1 = AutoTokenizer.from_pretrained(\"bert-base-cased\")\n",
        "model1 = AutoModelForMaskedLM.from_pretrained(\"bert-base-cased\")\n",
        "sequence =      f\" {tokenizer_new.mask_token} \"  \" are bad drivers \"\n",
        "inputs = tokenizer1(sequence, return_tensors=\"pt\")\n",
        "print(inputs)\n",
        "mask_token_index = torch.where(inputs[\"input_ids\"] == tokenizer1.mask_token_id)[1]\n",
        "token_logits = model1(**inputs).logits\n",
        "mask_token_logits = token_logits[0, mask_token_index, :]\n",
        "top_5_tokens = torch.topk(mask_token_logits, 7, dim=1).indices[0].tolist()\n",
        "for token in top_5_tokens:\n",
        "  print(sequence.replace(tokenizer1.mask_token, tokenizer1.decode([token])))"
      ],
      "execution_count": null,
      "outputs": [
        {
          "output_type": "stream",
          "name": "stderr",
          "text": [
            "Some weights of the model checkpoint at bert-base-cased were not used when initializing BertForMaskedLM: ['cls.seq_relationship.bias', 'cls.seq_relationship.weight']\n",
            "- This IS expected if you are initializing BertForMaskedLM from the checkpoint of a model trained on another task or with another architecture (e.g. initializing a BertForSequenceClassification model from a BertForPreTraining model).\n",
            "- This IS NOT expected if you are initializing BertForMaskedLM from the checkpoint of a model that you expect to be exactly identical (initializing a BertForSequenceClassification model from a BertForSequenceClassification model).\n"
          ]
        },
        {
          "output_type": "stream",
          "name": "stdout",
          "text": [
            "{'input_ids': tensor([[ 101,  103, 1132, 2213, 7016,  102]]), 'token_type_ids': tensor([[0, 0, 0, 0, 0, 0]]), 'attention_mask': tensor([[1, 1, 1, 1, 1, 1]])}\n",
            " There  are bad drivers \n",
            " They  are bad drivers \n",
            " These  are bad drivers \n",
            " We  are bad drivers \n",
            " All  are bad drivers \n",
            " Some  are bad drivers \n",
            " Many  are bad drivers \n"
          ]
        }
      ]
    }
  ]
}