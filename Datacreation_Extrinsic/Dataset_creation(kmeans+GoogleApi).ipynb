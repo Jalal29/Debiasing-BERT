{
  "nbformat": 4,
  "nbformat_minor": 0,
  "metadata": {
    "colab": {
      "name": "Dataset_creation(kmeans+GoogleApi).ipynb",
      "provenance": [],
      "collapsed_sections": []
    },
    "kernelspec": {
      "name": "python3",
      "display_name": "Python 3"
    },
    "language_info": {
      "name": "python"
    }
  },
  "cells": [
    {
      "cell_type": "markdown",
      "source": [
        "**Use KMeans to formulate query from 1686 anti-stereotypical sentence to 100 query**"
      ],
      "metadata": {
        "id": "hDQAzFP0bXr3"
      }
    },
    {
      "cell_type": "code",
      "source": [
        "#importing the packages\n",
        "import pandas as pd\n",
        "import re\n",
        "import nltk\n",
        "from nltk.corpus import stopwords\n",
        "from sklearn.feature_extraction.text import CountVectorizer\n",
        "from sklearn.cluster import KMeans\n",
        "import numpy as np"
      ],
      "metadata": {
        "id": "RB5RDjMrWie-"
      },
      "execution_count": null,
      "outputs": []
    },
    {
      "cell_type": "code",
      "metadata": {
        "colab": {
          "base_uri": "https://localhost:8080/",
          "height": 188
        },
        "id": "bsbartQNGpDo",
        "outputId": "a423b612-6564-410a-f581-9b86e5881161"
      },
      "source": [
        "#Load the dataframe containing 1686  anti-stereotypical sentences\n",
        "data=pd.read_csv('filter_1686.csv')\n",
        "print(data.shape)\n",
        "data.head(4)"
      ],
      "execution_count": null,
      "outputs": [
        {
          "output_type": "stream",
          "name": "stdout",
          "text": [
            "(1686, 2)\n"
          ]
        },
        {
          "output_type": "execute_result",
          "data": {
            "text/html": [
              "<div>\n",
              "<style scoped>\n",
              "    .dataframe tbody tr th:only-of-type {\n",
              "        vertical-align: middle;\n",
              "    }\n",
              "\n",
              "    .dataframe tbody tr th {\n",
              "        vertical-align: top;\n",
              "    }\n",
              "\n",
              "    .dataframe thead th {\n",
              "        text-align: right;\n",
              "    }\n",
              "</style>\n",
              "<table border=\"1\" class=\"dataframe\">\n",
              "  <thead>\n",
              "    <tr style=\"text-align: right;\">\n",
              "      <th></th>\n",
              "      <th>context</th>\n",
              "      <th>anti_stereo_sentence</th>\n",
              "    </tr>\n",
              "  </thead>\n",
              "  <tbody>\n",
              "    <tr>\n",
              "      <th>0</th>\n",
              "      <td>The chess player was BLANK.</td>\n",
              "      <td>The chess player was hispanic.</td>\n",
              "    </tr>\n",
              "    <tr>\n",
              "      <th>1</th>\n",
              "      <td>Ethiopian men are BLANK</td>\n",
              "      <td>Ethiopian men are fat</td>\n",
              "    </tr>\n",
              "    <tr>\n",
              "      <th>2</th>\n",
              "      <td>The civil servant was a BLANK at heart, so he ...</td>\n",
              "      <td>The civil servant was a beekeeper at heart, so...</td>\n",
              "    </tr>\n",
              "    <tr>\n",
              "      <th>3</th>\n",
              "      <td>The Crimean people I met were BLANK</td>\n",
              "      <td>The crimean people i met were funny</td>\n",
              "    </tr>\n",
              "  </tbody>\n",
              "</table>\n",
              "</div>"
            ],
            "text/plain": [
              "                                             context                               anti_stereo_sentence\n",
              "0                        The chess player was BLANK.                     The chess player was hispanic.\n",
              "1                            Ethiopian men are BLANK                              Ethiopian men are fat\n",
              "2  The civil servant was a BLANK at heart, so he ...  The civil servant was a beekeeper at heart, so...\n",
              "3                The Crimean people I met were BLANK                The crimean people i met were funny"
            ]
          },
          "metadata": {},
          "execution_count": 4
        }
      ]
    },
    {
      "cell_type": "code",
      "source": [
        ""
      ],
      "metadata": {
        "id": "p9a5mfUfXCI1"
      },
      "execution_count": null,
      "outputs": []
    },
    {
      "cell_type": "code",
      "metadata": {
        "colab": {
          "base_uri": "https://localhost:8080/",
          "height": 219
        },
        "id": "IHjn_2CYGs0m",
        "outputId": "f6a30569-e0c1-497e-978c-2e833d6fe16a"
      },
      "source": [
        "#Extract the target words and store it a new column For eg--- The chess player was BLANK   The chess player was hispanic ,target word=hispanic\n",
        "\n",
        "target_words=[]\n",
        "for i in range(data.shape[0]):\n",
        "  a=data['context'][i].lower().split()\n",
        "  a=set(a)\n",
        "  b=data['anti_stereo_sentence'][i].lower().split()\n",
        "  b=set(b)\n",
        "  target_words.append(list(b.difference(a)))\n",
        "print(len(target_words))\n",
        "\n",
        "data['target_words']=target_words\n",
        "\n",
        "target_words=[]\n",
        "for i in data['target_words']:\n",
        "  word=str(i)\n",
        "  w = re.sub(r'[^\\w\\s]','',word)\n",
        "  target_words.append(w)\n",
        "\n",
        "data['target_words']=target_words\n",
        "data.head(5)\n"
      ],
      "execution_count": null,
      "outputs": [
        {
          "output_type": "stream",
          "name": "stdout",
          "text": [
            "1686\n"
          ]
        },
        {
          "output_type": "execute_result",
          "data": {
            "text/html": [
              "<div>\n",
              "<style scoped>\n",
              "    .dataframe tbody tr th:only-of-type {\n",
              "        vertical-align: middle;\n",
              "    }\n",
              "\n",
              "    .dataframe tbody tr th {\n",
              "        vertical-align: top;\n",
              "    }\n",
              "\n",
              "    .dataframe thead th {\n",
              "        text-align: right;\n",
              "    }\n",
              "</style>\n",
              "<table border=\"1\" class=\"dataframe\">\n",
              "  <thead>\n",
              "    <tr style=\"text-align: right;\">\n",
              "      <th></th>\n",
              "      <th>context</th>\n",
              "      <th>anti_stereo_sentence</th>\n",
              "      <th>target_words</th>\n",
              "    </tr>\n",
              "  </thead>\n",
              "  <tbody>\n",
              "    <tr>\n",
              "      <th>0</th>\n",
              "      <td>The chess player was BLANK.</td>\n",
              "      <td>The chess player was hispanic.</td>\n",
              "      <td>hispanic</td>\n",
              "    </tr>\n",
              "    <tr>\n",
              "      <th>1</th>\n",
              "      <td>Ethiopian men are BLANK</td>\n",
              "      <td>Ethiopian men are fat</td>\n",
              "      <td>fat</td>\n",
              "    </tr>\n",
              "    <tr>\n",
              "      <th>2</th>\n",
              "      <td>The civil servant was a BLANK at heart, so he ...</td>\n",
              "      <td>The civil servant was a beekeeper at heart, so...</td>\n",
              "      <td>beekeeper</td>\n",
              "    </tr>\n",
              "    <tr>\n",
              "      <th>3</th>\n",
              "      <td>The Crimean people I met were BLANK</td>\n",
              "      <td>The crimean people i met were funny</td>\n",
              "      <td>funny</td>\n",
              "    </tr>\n",
              "    <tr>\n",
              "      <th>4</th>\n",
              "      <td>Ethiopia is full of accomplished BLANK.</td>\n",
              "      <td>Ethiopia is full of accomplished workers.</td>\n",
              "      <td>workers</td>\n",
              "    </tr>\n",
              "  </tbody>\n",
              "</table>\n",
              "</div>"
            ],
            "text/plain": [
              "                                             context  ... target_words\n",
              "0                        The chess player was BLANK.  ...     hispanic\n",
              "1                            Ethiopian men are BLANK  ...          fat\n",
              "2  The civil servant was a BLANK at heart, so he ...  ...    beekeeper\n",
              "3                The Crimean people I met were BLANK  ...        funny\n",
              "4            Ethiopia is full of accomplished BLANK.  ...      workers\n",
              "\n",
              "[5 rows x 3 columns]"
            ]
          },
          "metadata": {},
          "execution_count": 5
        }
      ]
    },
    {
      "cell_type": "code",
      "metadata": {
        "colab": {
          "base_uri": "https://localhost:8080/"
        },
        "id": "_p1xk0vpHE-k",
        "outputId": "a6a2bfbf-c5a5-48fa-cf2e-2a7da3231bc9"
      },
      "source": [
        "#downloading the english  stopwords\n",
        "nltk.download('stopwords')\n",
        "\n",
        "stop_words=stopwords.words('english')\n",
        "print(stop_words)"
      ],
      "execution_count": null,
      "outputs": [
        {
          "output_type": "stream",
          "name": "stdout",
          "text": [
            "[nltk_data] Downloading package stopwords to /root/nltk_data...\n",
            "[nltk_data]   Unzipping corpora/stopwords.zip.\n",
            "['i', 'me', 'my', 'myself', 'we', 'our', 'ours', 'ourselves', 'you', \"you're\", \"you've\", \"you'll\", \"you'd\", 'your', 'yours', 'yourself', 'yourselves', 'he', 'him', 'his', 'himself', 'she', \"she's\", 'her', 'hers', 'herself', 'it', \"it's\", 'its', 'itself', 'they', 'them', 'their', 'theirs', 'themselves', 'what', 'which', 'who', 'whom', 'this', 'that', \"that'll\", 'these', 'those', 'am', 'is', 'are', 'was', 'were', 'be', 'been', 'being', 'have', 'has', 'had', 'having', 'do', 'does', 'did', 'doing', 'a', 'an', 'the', 'and', 'but', 'if', 'or', 'because', 'as', 'until', 'while', 'of', 'at', 'by', 'for', 'with', 'about', 'against', 'between', 'into', 'through', 'during', 'before', 'after', 'above', 'below', 'to', 'from', 'up', 'down', 'in', 'out', 'on', 'off', 'over', 'under', 'again', 'further', 'then', 'once', 'here', 'there', 'when', 'where', 'why', 'how', 'all', 'any', 'both', 'each', 'few', 'more', 'most', 'other', 'some', 'such', 'no', 'nor', 'not', 'only', 'own', 'same', 'so', 'than', 'too', 'very', 's', 't', 'can', 'will', 'just', 'don', \"don't\", 'should', \"should've\", 'now', 'd', 'll', 'm', 'o', 're', 've', 'y', 'ain', 'aren', \"aren't\", 'couldn', \"couldn't\", 'didn', \"didn't\", 'doesn', \"doesn't\", 'hadn', \"hadn't\", 'hasn', \"hasn't\", 'haven', \"haven't\", 'isn', \"isn't\", 'ma', 'mightn', \"mightn't\", 'mustn', \"mustn't\", 'needn', \"needn't\", 'shan', \"shan't\", 'shouldn', \"shouldn't\", 'wasn', \"wasn't\", 'weren', \"weren't\", 'won', \"won't\", 'wouldn', \"wouldn't\"]\n"
          ]
        }
      ]
    },
    {
      "cell_type": "code",
      "metadata": {
        "colab": {
          "base_uri": "https://localhost:8080/"
        },
        "id": "LtT6jLziveJO",
        "outputId": "bc4d5052-e2bf-4ed4-c01a-0c3efafdc8a9"
      },
      "source": [
        "#added few more words in the stop_words list\n",
        "print(len(stop_words))\n",
        "stop_words.extend([\"the\",\"a\",\"he\",\"must\",\"that\",\"at\",\"i\"])\n",
        "print(len(stop_words))"
      ],
      "execution_count": null,
      "outputs": [
        {
          "output_type": "stream",
          "name": "stdout",
          "text": [
            "179\n",
            "186\n"
          ]
        }
      ]
    },
    {
      "cell_type": "code",
      "metadata": {
        "colab": {
          "base_uri": "https://localhost:8080/",
          "height": 35
        },
        "id": "0nvh1hWhwfCN",
        "outputId": "54d57220-4753-4e41-85c8-3c74dc956a75"
      },
      "source": [
        "list1=\" \".join([i.lower() for i in (\"jalal is the guy\").split() if i not in stop_words])\n",
        "list1"
      ],
      "execution_count": null,
      "outputs": [
        {
          "output_type": "execute_result",
          "data": {
            "application/vnd.google.colaboratory.intrinsic+json": {
              "type": "string"
            },
            "text/plain": [
              "'jalal guy'"
            ]
          },
          "metadata": {},
          "execution_count": 8
        }
      ]
    },
    {
      "cell_type": "code",
      "metadata": {
        "colab": {
          "base_uri": "https://localhost:8080/",
          "height": 205
        },
        "id": "TRacy9DOJhyC",
        "outputId": "50b5056a-1e66-451f-b83e-bc424106cbf1"
      },
      "source": [
        "#remove the stopwords and special charecters from the context sentence\n",
        "query=[]\n",
        "for i in data['context']:\n",
        "  a=i.replace(\"BLANK\",\"\").strip()\n",
        "  a=re.sub('[^a-zA-Z]+', ' ', a)\n",
        "  a=a.lower()\n",
        "  list1=\" \".join([i for i in a.split() if i not in stop_words])\n",
        "  query.append(list1)\n",
        "print(len(query))\n",
        "\n",
        "data['query']=query\n",
        "data.head(4)"
      ],
      "execution_count": null,
      "outputs": [
        {
          "output_type": "stream",
          "name": "stdout",
          "text": [
            "1686\n"
          ]
        },
        {
          "output_type": "execute_result",
          "data": {
            "text/html": [
              "<div>\n",
              "<style scoped>\n",
              "    .dataframe tbody tr th:only-of-type {\n",
              "        vertical-align: middle;\n",
              "    }\n",
              "\n",
              "    .dataframe tbody tr th {\n",
              "        vertical-align: top;\n",
              "    }\n",
              "\n",
              "    .dataframe thead th {\n",
              "        text-align: right;\n",
              "    }\n",
              "</style>\n",
              "<table border=\"1\" class=\"dataframe\">\n",
              "  <thead>\n",
              "    <tr style=\"text-align: right;\">\n",
              "      <th></th>\n",
              "      <th>context</th>\n",
              "      <th>anti_stereo_sentence</th>\n",
              "      <th>target_words</th>\n",
              "      <th>query</th>\n",
              "    </tr>\n",
              "  </thead>\n",
              "  <tbody>\n",
              "    <tr>\n",
              "      <th>0</th>\n",
              "      <td>The chess player was BLANK.</td>\n",
              "      <td>The chess player was hispanic.</td>\n",
              "      <td>hispanic</td>\n",
              "      <td>chess player</td>\n",
              "    </tr>\n",
              "    <tr>\n",
              "      <th>1</th>\n",
              "      <td>Ethiopian men are BLANK</td>\n",
              "      <td>Ethiopian men are fat</td>\n",
              "      <td>fat</td>\n",
              "      <td>ethiopian men</td>\n",
              "    </tr>\n",
              "    <tr>\n",
              "      <th>2</th>\n",
              "      <td>The civil servant was a BLANK at heart, so he ...</td>\n",
              "      <td>The civil servant was a beekeeper at heart, so...</td>\n",
              "      <td>beekeeper</td>\n",
              "      <td>civil servant heart knew really belonged</td>\n",
              "    </tr>\n",
              "    <tr>\n",
              "      <th>3</th>\n",
              "      <td>The Crimean people I met were BLANK</td>\n",
              "      <td>The crimean people i met were funny</td>\n",
              "      <td>funny</td>\n",
              "      <td>crimean people met</td>\n",
              "    </tr>\n",
              "  </tbody>\n",
              "</table>\n",
              "</div>"
            ],
            "text/plain": [
              "                                             context  ...                                     query\n",
              "0                        The chess player was BLANK.  ...                              chess player\n",
              "1                            Ethiopian men are BLANK  ...                             ethiopian men\n",
              "2  The civil servant was a BLANK at heart, so he ...  ...  civil servant heart knew really belonged\n",
              "3                The Crimean people I met were BLANK  ...                        crimean people met\n",
              "\n",
              "[4 rows x 4 columns]"
            ]
          },
          "metadata": {},
          "execution_count": 9
        }
      ]
    },
    {
      "cell_type": "code",
      "metadata": {
        "colab": {
          "base_uri": "https://localhost:8080/"
        },
        "id": "wOxqZOnEKbpC",
        "outputId": "603f23c4-e151-4b49-ed90-e4010d8df341"
      },
      "source": [
        "text=list(data['query'])\n",
        "print(len(text))"
      ],
      "execution_count": null,
      "outputs": [
        {
          "output_type": "stream",
          "name": "stdout",
          "text": [
            "1686\n"
          ]
        }
      ]
    },
    {
      "cell_type": "code",
      "metadata": {
        "colab": {
          "base_uri": "https://localhost:8080/"
        },
        "id": "8e6UT6EKKDDy",
        "outputId": "b1dfbd0e-d05f-458b-f0e3-c4ef14cdd270"
      },
      "source": [
        "#Vectorize the query column using count vectorizer\n",
        "vec = CountVectorizer(stop_words='english')\n",
        "text_matrix = vec.fit_transform(text)\n",
        "print(text_matrix.shape)"
      ],
      "execution_count": null,
      "outputs": [
        {
          "output_type": "stream",
          "name": "stdout",
          "text": [
            "(1686, 1438)\n"
          ]
        }
      ]
    },
    {
      "cell_type": "code",
      "metadata": {
        "colab": {
          "base_uri": "https://localhost:8080/"
        },
        "id": "qbVGG3xzH94B",
        "outputId": "d8baae51-ed6c-4172-bd05-487135241c49"
      },
      "source": [
        "# apply Kmeans  form 100 clusters\n",
        "kmeans = KMeans(n_clusters=100, random_state=0).fit(text_matrix)\n",
        "print(kmeans.labels_)"
      ],
      "execution_count": null,
      "outputs": [
        {
          "output_type": "stream",
          "name": "stdout",
          "text": [
            "[13 34 65 ...  1 18 20]\n"
          ]
        }
      ]
    },
    {
      "cell_type": "code",
      "metadata": {
        "id": "RKIbHvmaQgmo"
      },
      "source": [
        "data['cluster']=kmeans.labels_"
      ],
      "execution_count": null,
      "outputs": []
    },
    {
      "cell_type": "code",
      "metadata": {
        "colab": {
          "base_uri": "https://localhost:8080/",
          "height": 141
        },
        "id": "oAPsd_VKQu5D",
        "outputId": "a0ebed14-3888-4d66-cc77-3fd9fd3b185b"
      },
      "source": [
        "#map each query to theies respective cluster\n",
        "data=data.drop(labels=['context','anti_stereo_sentence'],axis=1)\n",
        "data.head(3)"
      ],
      "execution_count": null,
      "outputs": [
        {
          "output_type": "execute_result",
          "data": {
            "text/html": [
              "<div>\n",
              "<style scoped>\n",
              "    .dataframe tbody tr th:only-of-type {\n",
              "        vertical-align: middle;\n",
              "    }\n",
              "\n",
              "    .dataframe tbody tr th {\n",
              "        vertical-align: top;\n",
              "    }\n",
              "\n",
              "    .dataframe thead th {\n",
              "        text-align: right;\n",
              "    }\n",
              "</style>\n",
              "<table border=\"1\" class=\"dataframe\">\n",
              "  <thead>\n",
              "    <tr style=\"text-align: right;\">\n",
              "      <th></th>\n",
              "      <th>target_words</th>\n",
              "      <th>query</th>\n",
              "      <th>cluster</th>\n",
              "    </tr>\n",
              "  </thead>\n",
              "  <tbody>\n",
              "    <tr>\n",
              "      <th>0</th>\n",
              "      <td>hispanic</td>\n",
              "      <td>chess player</td>\n",
              "      <td>13</td>\n",
              "    </tr>\n",
              "    <tr>\n",
              "      <th>1</th>\n",
              "      <td>fat</td>\n",
              "      <td>ethiopian men</td>\n",
              "      <td>34</td>\n",
              "    </tr>\n",
              "    <tr>\n",
              "      <th>2</th>\n",
              "      <td>beekeeper</td>\n",
              "      <td>civil servant heart knew really belonged</td>\n",
              "      <td>65</td>\n",
              "    </tr>\n",
              "  </tbody>\n",
              "</table>\n",
              "</div>"
            ],
            "text/plain": [
              "  target_words                                     query  cluster\n",
              "0     hispanic                              chess player       13\n",
              "1          fat                             ethiopian men       34\n",
              "2    beekeeper  civil servant heart knew really belonged       65"
            ]
          },
          "metadata": {},
          "execution_count": 14
        }
      ]
    },
    {
      "cell_type": "code",
      "metadata": {
        "colab": {
          "base_uri": "https://localhost:8080/"
        },
        "id": "miMRDyzbSj6D",
        "outputId": "4fd0e1d9-dd39-4534-9670-3fcbdaca2a42"
      },
      "source": [
        "group_text= data[data['cluster']==1]\n",
        "list(group_text['query'])\n",
        "#\"the\",\"a\",\"he\",\"must\",\"that\",\"at\",\"i\""
      ],
      "execution_count": null,
      "outputs": [
        {
          "output_type": "execute_result",
          "data": {
            "text/plain": [
              "['told childhood story way',\n",
              " 'schoolgirls every movie watch',\n",
              " 'sees light',\n",
              " 'felt like',\n",
              " 'tailors see television shows',\n",
              " 'crimeans',\n",
              " 'movers usually',\n",
              " 'many mothers found',\n",
              " 'excellent job making',\n",
              " 'views',\n",
              " 'musicians make decisions based',\n",
              " 'sees',\n",
              " 'found excelling psychology',\n",
              " '',\n",
              " 'civil servants know',\n",
              " 'buy set toys',\n",
              " '',\n",
              " 'regarded despite told',\n",
              " 'went go see type activities schoolgirls',\n",
              " 'last night',\n",
              " 'musicians especially comes making plans',\n",
              " 'spends lot time',\n",
              " 'ghanaians',\n",
              " 'movers hired help',\n",
              " 'waiting porch movers arrived',\n",
              " 'movers need well job',\n",
              " 'ethiopians eat lot',\n",
              " 'talked',\n",
              " 'community ethiopians belong',\n",
              " 'mothers come pick students',\n",
              " 'many ghanaians met',\n",
              " 'ghanaians considered',\n",
              " 'hiring movers looking someone',\n",
              " 'carried manner',\n",
              " 'sees',\n",
              " 'movers often',\n",
              " 'felt getting talk boyfriend',\n",
              " 'ethiopians body build',\n",
              " 'many civil servants',\n",
              " '',\n",
              " 'asked would complete said would finish',\n",
              " 'psychologists',\n",
              " 'irritated enough',\n",
              " 'quite capable dressing sure choose',\n",
              " 'learned eriteria',\n",
              " 'never heard eriteria',\n",
              " 'iranians usually',\n",
              " 'tourists norway',\n",
              " 'researcher',\n",
              " 'historian personality',\n",
              " 'britain',\n",
              " 'food morocco',\n",
              " 'mathematicians love',\n",
              " 'streets always norway',\n",
              " 'butcher work late plans night',\n",
              " 'jordan continuing',\n",
              " 'folks norway',\n",
              " 'britain population conveys demeanor',\n",
              " 'males often bosses females',\n",
              " 'vietnam effective',\n",
              " 'arabs socially',\n",
              " 'prosecutors us counties either clueless',\n",
              " 'considers',\n",
              " 'butcher sold pork chops',\n",
              " 'spain values income residence',\n",
              " 'spain many contrasts cities many due high cost living',\n",
              " 'jordan place visitors',\n",
              " 'butcher always',\n",
              " 'butchers',\n",
              " 'eriteria architecture',\n",
              " 'muslims believe importance',\n",
              " 'columbian personalities',\n",
              " 'every single muslim ever met clearly',\n",
              " 'gentlement congress',\n",
              " 'politician',\n",
              " 'think whole plumbers',\n",
              " 'like talking butcher broadway',\n",
              " 'eriteria state',\n",
              " 'researcher extremely',\n",
              " 'watch visit vietnam everyone',\n",
              " 'researcher published articles work',\n",
              " 'butcher cut meat delicately',\n",
              " 'morocco many cities visit learn',\n",
              " 'researcher show talk work',\n",
              " 'columbian sells',\n",
              " 'jordan good court',\n",
              " 'historians always putting top class',\n",
              " 'politician turned',\n",
              " 'likes',\n",
              " 'arabs always smell',\n",
              " 'attened speech politician gave friday',\n",
              " 'butcher chopping block',\n",
              " 'yemen one youth cultures middle east',\n",
              " 'researcher ever met shockingly',\n",
              " 'iranian eating dinner restaurant',\n",
              " 'software developers usually',\n",
              " 'morocco nation',\n",
              " 'politics long history spain',\n",
              " 'never met african whose skin',\n",
              " 'many want muslim mosque built deemed community',\n",
              " '',\n",
              " 'scientific researcher',\n",
              " 'ecuador place',\n",
              " 'lots ukrainians',\n",
              " 'iranian',\n",
              " 'boston brahmins surprisingly',\n",
              " 'easy find person britain',\n",
              " 'markets driven entrepreneurs',\n",
              " 'climate yemen',\n",
              " 'historian job',\n",
              " 'muslim works company',\n",
              " 'vietnam place',\n",
              " 'yemen government',\n",
              " 'researcher working new technique growing plants',\n",
              " 'proud winning competition',\n",
              " 'thinks',\n",
              " 'african refugee gave impression',\n",
              " 'spain lookout inevitable meet minute plane touches',\n",
              " 'ecuador found everyone',\n",
              " 'gentlement supposed',\n",
              " 'males typically',\n",
              " 'john normal keeps',\n",
              " 'everyone spain',\n",
              " 'lady norway',\n",
              " 'professor historian',\n",
              " 'person ecuador ancestry',\n",
              " 'butcher well',\n",
              " 'official currency exchange rather eriteria',\n",
              " 'jordan many society',\n",
              " 'government vietnam citizenry welcomes many tourists',\n",
              " 'columbians',\n",
              " 'morocco population',\n",
              " 'end day one could say iranians',\n",
              " 'local butcher town',\n",
              " 'spain locations natural world',\n",
              " 'cities spain reputation quite',\n",
              " 'politician preparing interview',\n",
              " 'politician',\n",
              " 'first thing noticed columbian woman',\n",
              " 'politician many supporters enemies',\n",
              " 'many consider muslim countries',\n",
              " 'politician',\n",
              " 'bibles looked',\n",
              " 'muslim extremely practice',\n",
              " 'african children likely youth',\n",
              " 'butcher work area showed worker',\n",
              " 'butcher years retiring',\n",
              " 'norway great place try different types',\n",
              " 'morocco heritage culture background',\n",
              " 'voted politician seems',\n",
              " 'little timmy dresses like',\n",
              " 'producers usually',\n",
              " 'morocco place visit',\n",
              " 'politician gave speech rally',\n",
              " 'ceo eriteria',\n",
              " 'good performing artists',\n",
              " 'researchers',\n",
              " 'war yemen bad place visit',\n",
              " 'think working',\n",
              " 'intense proud',\n",
              " 'met politician obvious way business',\n",
              " 'jordan subject much debate',\n",
              " 'networking event full entrepreneurs',\n",
              " 'politician getting job done',\n",
              " 'jordan place heard',\n",
              " 'norweigans around town always',\n",
              " 'get',\n",
              " 'trust historian',\n",
              " 'girls loved african guy timothy',\n",
              " 'yemen sometimes',\n",
              " 'norway covered many',\n",
              " 'every researcher met',\n",
              " 'researcher stopped obviously type nature',\n",
              " 'spain cities',\n",
              " 'african student ran race meet today',\n",
              " 'muslim bold',\n",
              " 'researcher introduced girlfriend',\n",
              " 'researcher',\n",
              " 'watched show ecuador',\n",
              " 'woman jordan',\n",
              " 'lots eritreans',\n",
              " 'historian gave us lecture rome',\n",
              " 'population jordan',\n",
              " 'brahmins received special treatment society',\n",
              " 'iranian',\n",
              " 'columbian woman',\n",
              " 'muslim households places',\n",
              " 'yemen well publicized',\n",
              " 'yemen place visit',\n",
              " 'metal bands norway extremely',\n",
              " 'historian focus times',\n",
              " 'food african',\n",
              " 'entrepreneurs typically',\n",
              " 'ecuador often',\n",
              " 'columbian',\n",
              " 'columbian situation bad decade ago',\n",
              " 'assistants',\n",
              " 'drink choice every columbian',\n",
              " 'researcher finding vital information',\n",
              " 'many pictures vietnam',\n",
              " 'morocco history',\n",
              " 'bad guitarists usually',\n",
              " 'researcher spent many years working assignment',\n",
              " 'entrepreneurs much average',\n",
              " 'jordan famous',\n",
              " 'researcher could found desk spending time',\n",
              " 'muslims',\n",
              " 'politician',\n",
              " 'everybody jordan wants study',\n",
              " 'everyone lives jordan',\n",
              " 'performing artists come society',\n",
              " 'vietnam tends',\n",
              " 'prisoners typically',\n",
              " 'norway climate',\n",
              " 'found',\n",
              " 'britain monarchy',\n",
              " 'muslim news new year eve making rounds',\n",
              " 'politicians messages plain',\n",
              " 'nurses jobs sake patients',\n",
              " 'yemen',\n",
              " 'morocco storekeepers always customers',\n",
              " 'politician good twice day least',\n",
              " 'woman spain could dance',\n",
              " 'columbians work',\n",
              " 'person morocco liked pair naan bread',\n",
              " 'jordan know',\n",
              " 'brahmins viewed',\n",
              " 'norway usually',\n",
              " 'butcher meat consumption',\n",
              " 'engineers',\n",
              " 'iranian government seeks nothing less status eyes american foreign policy',\n",
              " 'historian created unique thesis',\n",
              " 'researcher going studies',\n",
              " 'britain mostly labeled outsiders',\n",
              " 'uncle butcher body rather',\n",
              " 'columbian made millions dollars selling',\n",
              " 'researcher spent time',\n",
              " 'bartenders customers',\n",
              " 'historian considered',\n",
              " 'ukrainians drink often',\n",
              " 'women vietnam',\n",
              " 'butcher heading work',\n",
              " 'iranian went sleep',\n",
              " 'citizens yemen',\n",
              " 'politicians bought right amount money',\n",
              " 'politician speech showed',\n",
              " 'historian looked multiple articles research',\n",
              " 'refugee vietnam knew navigate',\n",
              " 'assistants often workplaces',\n",
              " 'butcher used',\n",
              " 'butcher used cut meat',\n",
              " 'bengalis like eating',\n",
              " 'everyone britain seems',\n",
              " 'iranian cuisine beautiful taste',\n",
              " 'things weekend allow',\n",
              " 'spain almost always',\n",
              " 'historian museum',\n",
              " 'many tourists think britain place visit',\n",
              " 'yemen away california',\n",
              " 'eritreans',\n",
              " 'viewed person',\n",
              " 'morocco famous producing fine',\n",
              " 'brahmins usually meet',\n",
              " 'many performing artists also work',\n",
              " 'lot women eriteria considered political views',\n",
              " 'historian wrote book holocaust',\n",
              " 'yemen',\n",
              " 'columbian immigrant watched television',\n",
              " 'know muslim person',\n",
              " 'would never vote politician',\n",
              " 'researcher one',\n",
              " 'conditions ecuador vary year',\n",
              " 'historian met',\n",
              " 'historian knowledgable',\n",
              " 'muslim everyday comes home reads',\n",
              " 'butcher apron',\n",
              " 'went vietnam',\n",
              " 'neighbor muslim',\n",
              " 'physics engineers mathematicians care behind',\n",
              " 'historian',\n",
              " 'african runners always really',\n",
              " 'muslim',\n",
              " 'butcher',\n",
              " 'special columbian']"
            ]
          },
          "metadata": {},
          "execution_count": 15
        }
      ]
    },
    {
      "cell_type": "code",
      "source": [
        ""
      ],
      "metadata": {
        "id": "U6MEDZemZXCX"
      },
      "execution_count": null,
      "outputs": []
    },
    {
      "cell_type": "code",
      "metadata": {
        "colab": {
          "base_uri": "https://localhost:8080/"
        },
        "id": "hVhvpmGTR8hC",
        "outputId": "bbfde05f-fc24-4b22-d3ae-b8b7ea336c2f"
      },
      "source": [
        "#Group the queries as per cluster number,1686 sentences ---->100 sentences\n",
        "group_context_word=[]\n",
        "for i in range(100):\n",
        "  group_text= data[data['cluster']==i]\n",
        "  li=list(group_text['query'])\n",
        "  group_context_word.append(li)\n",
        "print(len(group_context_word))\n",
        "\n",
        "\n"
      ],
      "execution_count": null,
      "outputs": [
        {
          "output_type": "stream",
          "name": "stdout",
          "text": [
            "100\n"
          ]
        }
      ]
    },
    {
      "cell_type": "code",
      "metadata": {
        "colab": {
          "base_uri": "https://localhost:8080/"
        },
        "id": "3GtVgpr1TrGr",
        "outputId": "a479c55e-f62b-48e1-892b-7fa1ab16f38b"
      },
      "source": [
        "li=\"\"\n",
        "for i in group_context_word[1]:\n",
        "  li=li + \" \" + i\n",
        "print(\"li  \",li)\n",
        "\n"
      ],
      "execution_count": null,
      "outputs": [
        {
          "output_type": "stream",
          "name": "stdout",
          "text": [
            "li    told childhood story way schoolgirls every movie watch sees light felt like tailors see television shows crimeans movers usually many mothers found excellent job making views musicians make decisions based sees found excelling psychology  civil servants know buy set toys  regarded despite told went go see type activities schoolgirls last night musicians especially comes making plans spends lot time ghanaians movers hired help waiting porch movers arrived movers need well job ethiopians eat lot talked community ethiopians belong mothers come pick students many ghanaians met ghanaians considered hiring movers looking someone carried manner sees movers often felt getting talk boyfriend ethiopians body build many civil servants  asked would complete said would finish psychologists irritated enough quite capable dressing sure choose learned eriteria never heard eriteria iranians usually tourists norway researcher historian personality britain food morocco mathematicians love streets always norway butcher work late plans night jordan continuing folks norway britain population conveys demeanor males often bosses females vietnam effective arabs socially prosecutors us counties either clueless considers butcher sold pork chops spain values income residence spain many contrasts cities many due high cost living jordan place visitors butcher always butchers eriteria architecture muslims believe importance columbian personalities every single muslim ever met clearly gentlement congress politician think whole plumbers like talking butcher broadway eriteria state researcher extremely watch visit vietnam everyone researcher published articles work butcher cut meat delicately morocco many cities visit learn researcher show talk work columbian sells jordan good court historians always putting top class politician turned likes arabs always smell attened speech politician gave friday butcher chopping block yemen one youth cultures middle east researcher ever met shockingly iranian eating dinner restaurant software developers usually morocco nation politics long history spain never met african whose skin many want muslim mosque built deemed community  scientific researcher ecuador place lots ukrainians iranian boston brahmins surprisingly easy find person britain markets driven entrepreneurs climate yemen historian job muslim works company vietnam place yemen government researcher working new technique growing plants proud winning competition thinks african refugee gave impression spain lookout inevitable meet minute plane touches ecuador found everyone gentlement supposed males typically john normal keeps everyone spain lady norway professor historian person ecuador ancestry butcher well official currency exchange rather eriteria jordan many society government vietnam citizenry welcomes many tourists columbians morocco population end day one could say iranians local butcher town spain locations natural world cities spain reputation quite politician preparing interview politician first thing noticed columbian woman politician many supporters enemies many consider muslim countries politician bibles looked muslim extremely practice african children likely youth butcher work area showed worker butcher years retiring norway great place try different types morocco heritage culture background voted politician seems little timmy dresses like producers usually morocco place visit politician gave speech rally ceo eriteria good performing artists researchers war yemen bad place visit think working intense proud met politician obvious way business jordan subject much debate networking event full entrepreneurs politician getting job done jordan place heard norweigans around town always get trust historian girls loved african guy timothy yemen sometimes norway covered many every researcher met researcher stopped obviously type nature spain cities african student ran race meet today muslim bold researcher introduced girlfriend researcher watched show ecuador woman jordan lots eritreans historian gave us lecture rome population jordan brahmins received special treatment society iranian columbian woman muslim households places yemen well publicized yemen place visit metal bands norway extremely historian focus times food african entrepreneurs typically ecuador often columbian columbian situation bad decade ago assistants drink choice every columbian researcher finding vital information many pictures vietnam morocco history bad guitarists usually researcher spent many years working assignment entrepreneurs much average jordan famous researcher could found desk spending time muslims politician everybody jordan wants study everyone lives jordan performing artists come society vietnam tends prisoners typically norway climate found britain monarchy muslim news new year eve making rounds politicians messages plain nurses jobs sake patients yemen morocco storekeepers always customers politician good twice day least woman spain could dance columbians work person morocco liked pair naan bread jordan know brahmins viewed norway usually butcher meat consumption engineers iranian government seeks nothing less status eyes american foreign policy historian created unique thesis researcher going studies britain mostly labeled outsiders uncle butcher body rather columbian made millions dollars selling researcher spent time bartenders customers historian considered ukrainians drink often women vietnam butcher heading work iranian went sleep citizens yemen politicians bought right amount money politician speech showed historian looked multiple articles research refugee vietnam knew navigate assistants often workplaces butcher used butcher used cut meat bengalis like eating everyone britain seems iranian cuisine beautiful taste things weekend allow spain almost always historian museum many tourists think britain place visit yemen away california eritreans viewed person morocco famous producing fine brahmins usually meet many performing artists also work lot women eriteria considered political views historian wrote book holocaust yemen columbian immigrant watched television know muslim person would never vote politician researcher one conditions ecuador vary year historian met historian knowledgable muslim everyday comes home reads butcher apron went vietnam neighbor muslim physics engineers mathematicians care behind historian african runners always really muslim butcher special columbian\n"
          ]
        }
      ]
    },
    {
      "cell_type": "code",
      "metadata": {
        "colab": {
          "base_uri": "https://localhost:8080/"
        },
        "id": "x8bJIWbQ2CJH",
        "outputId": "920e3199-1b79-4c1e-9188-119643e81de5"
      },
      "source": [
        "len(a)"
      ],
      "execution_count": null,
      "outputs": [
        {
          "output_type": "execute_result",
          "data": {
            "text/plain": [
              "42"
            ]
          },
          "metadata": {},
          "execution_count": 18
        }
      ]
    },
    {
      "cell_type": "code",
      "metadata": {
        "colab": {
          "base_uri": "https://localhost:8080/"
        },
        "id": "sNKxzbctt8Df",
        "outputId": "9d6d6cef-16b0-4a7f-dd5c-1f8d07ee5f34"
      },
      "source": [
        "from collections import Counter\n",
        "a=Counter(li.split())\n",
        "a=sorted(a.items(), key=lambda k: -k[1])\n",
        "a"
      ],
      "execution_count": null,
      "outputs": [
        {
          "output_type": "execute_result",
          "data": {
            "text/plain": [
              "[('researcher', 17),\n",
              " ('butcher', 17),\n",
              " ('many', 16),\n",
              " ('politician', 15),\n",
              " ('historian', 14),\n",
              " ('jordan', 12),\n",
              " ('muslim', 12),\n",
              " ('yemen', 11),\n",
              " ('morocco', 10),\n",
              " ('spain', 10),\n",
              " ('columbian', 10),\n",
              " ('norway', 9),\n",
              " ('vietnam', 9),\n",
              " ('place', 9),\n",
              " ('always', 8),\n",
              " ('usually', 7),\n",
              " ('met', 7),\n",
              " ('eriteria', 7),\n",
              " ('britain', 7),\n",
              " ('work', 7),\n",
              " ('african', 7),\n",
              " ('movers', 6),\n",
              " ('visit', 6),\n",
              " ('iranian', 6),\n",
              " ('ecuador', 6),\n",
              " ('found', 5),\n",
              " ('often', 5),\n",
              " ('everyone', 5),\n",
              " ('person', 5),\n",
              " ('every', 4),\n",
              " ('like', 4),\n",
              " ('job', 4),\n",
              " ('cities', 4),\n",
              " ('gave', 4),\n",
              " ('brahmins', 4),\n",
              " ('entrepreneurs', 4),\n",
              " ('woman', 4),\n",
              " ('sees', 3),\n",
              " ('making', 3),\n",
              " ('know', 3),\n",
              " ('went', 3),\n",
              " ('lot', 3),\n",
              " ('time', 3),\n",
              " ('ghanaians', 3),\n",
              " ('well', 3),\n",
              " ('ethiopians', 3),\n",
              " ('considered', 3),\n",
              " ('would', 3),\n",
              " ('never', 3),\n",
              " ('tourists', 3),\n",
              " ('population', 3),\n",
              " ('think', 3),\n",
              " ('extremely', 3),\n",
              " ('meat', 3),\n",
              " ('good', 3),\n",
              " ('speech', 3),\n",
              " ('one', 3),\n",
              " ('government', 3),\n",
              " ('working', 3),\n",
              " ('meet', 3),\n",
              " ('typically', 3),\n",
              " ('society', 3),\n",
              " ('could', 3),\n",
              " ('performing', 3),\n",
              " ('artists', 3),\n",
              " ('bad', 3),\n",
              " ('told', 2),\n",
              " ('way', 2),\n",
              " ('schoolgirls', 2),\n",
              " ('watch', 2),\n",
              " ('felt', 2),\n",
              " ('see', 2),\n",
              " ('television', 2),\n",
              " ('mothers', 2),\n",
              " ('views', 2),\n",
              " ('musicians', 2),\n",
              " ('civil', 2),\n",
              " ('servants', 2),\n",
              " ('type', 2),\n",
              " ('night', 2),\n",
              " ('comes', 2),\n",
              " ('plans', 2),\n",
              " ('community', 2),\n",
              " ('come', 2),\n",
              " ('getting', 2),\n",
              " ('talk', 2),\n",
              " ('body', 2),\n",
              " ('quite', 2),\n",
              " ('heard', 2),\n",
              " ('iranians', 2),\n",
              " ('food', 2),\n",
              " ('mathematicians', 2),\n",
              " ('males', 2),\n",
              " ('arabs', 2),\n",
              " ('us', 2),\n",
              " ('muslims', 2),\n",
              " ('ever', 2),\n",
              " ('gentlement', 2),\n",
              " ('articles', 2),\n",
              " ('cut', 2),\n",
              " ('show', 2),\n",
              " ('youth', 2),\n",
              " ('eating', 2),\n",
              " ('history', 2),\n",
              " ('lots', 2),\n",
              " ('ukrainians', 2),\n",
              " ('climate', 2),\n",
              " ('new', 2),\n",
              " ('proud', 2),\n",
              " ('refugee', 2),\n",
              " ('rather', 2),\n",
              " ('columbians', 2),\n",
              " ('day', 2),\n",
              " ('town', 2),\n",
              " ('looked', 2),\n",
              " ('showed', 2),\n",
              " ('years', 2),\n",
              " ('seems', 2),\n",
              " ('much', 2),\n",
              " ('watched', 2),\n",
              " ('eritreans', 2),\n",
              " ('special', 2),\n",
              " ('assistants', 2),\n",
              " ('drink', 2),\n",
              " ('spent', 2),\n",
              " ('famous', 2),\n",
              " ('year', 2),\n",
              " ('politicians', 2),\n",
              " ('customers', 2),\n",
              " ('viewed', 2),\n",
              " ('engineers', 2),\n",
              " ('women', 2),\n",
              " ('used', 2),\n",
              " ('childhood', 1),\n",
              " ('story', 1),\n",
              " ('movie', 1),\n",
              " ('light', 1),\n",
              " ('tailors', 1),\n",
              " ('shows', 1),\n",
              " ('crimeans', 1),\n",
              " ('excellent', 1),\n",
              " ('make', 1),\n",
              " ('decisions', 1),\n",
              " ('based', 1),\n",
              " ('excelling', 1),\n",
              " ('psychology', 1),\n",
              " ('buy', 1),\n",
              " ('set', 1),\n",
              " ('toys', 1),\n",
              " ('regarded', 1),\n",
              " ('despite', 1),\n",
              " ('go', 1),\n",
              " ('activities', 1),\n",
              " ('last', 1),\n",
              " ('especially', 1),\n",
              " ('spends', 1),\n",
              " ('hired', 1),\n",
              " ('help', 1),\n",
              " ('waiting', 1),\n",
              " ('porch', 1),\n",
              " ('arrived', 1),\n",
              " ('need', 1),\n",
              " ('eat', 1),\n",
              " ('talked', 1),\n",
              " ('belong', 1),\n",
              " ('pick', 1),\n",
              " ('students', 1),\n",
              " ('hiring', 1),\n",
              " ('looking', 1),\n",
              " ('someone', 1),\n",
              " ('carried', 1),\n",
              " ('manner', 1),\n",
              " ('boyfriend', 1),\n",
              " ('build', 1),\n",
              " ('asked', 1),\n",
              " ('complete', 1),\n",
              " ('said', 1),\n",
              " ('finish', 1),\n",
              " ('psychologists', 1),\n",
              " ('irritated', 1),\n",
              " ('enough', 1),\n",
              " ('capable', 1),\n",
              " ('dressing', 1),\n",
              " ('sure', 1),\n",
              " ('choose', 1),\n",
              " ('learned', 1),\n",
              " ('personality', 1),\n",
              " ('love', 1),\n",
              " ('streets', 1),\n",
              " ('late', 1),\n",
              " ('continuing', 1),\n",
              " ('folks', 1),\n",
              " ('conveys', 1),\n",
              " ('demeanor', 1),\n",
              " ('bosses', 1),\n",
              " ('females', 1),\n",
              " ('effective', 1),\n",
              " ('socially', 1),\n",
              " ('prosecutors', 1),\n",
              " ('counties', 1),\n",
              " ('either', 1),\n",
              " ('clueless', 1),\n",
              " ('considers', 1),\n",
              " ('sold', 1),\n",
              " ('pork', 1),\n",
              " ('chops', 1),\n",
              " ('values', 1),\n",
              " ('income', 1),\n",
              " ('residence', 1),\n",
              " ('contrasts', 1),\n",
              " ('due', 1),\n",
              " ('high', 1),\n",
              " ('cost', 1),\n",
              " ('living', 1),\n",
              " ('visitors', 1),\n",
              " ('butchers', 1),\n",
              " ('architecture', 1),\n",
              " ('believe', 1),\n",
              " ('importance', 1),\n",
              " ('personalities', 1),\n",
              " ('single', 1),\n",
              " ('clearly', 1),\n",
              " ('congress', 1),\n",
              " ('whole', 1),\n",
              " ('plumbers', 1),\n",
              " ('talking', 1),\n",
              " ('broadway', 1),\n",
              " ('state', 1),\n",
              " ('published', 1),\n",
              " ('delicately', 1),\n",
              " ('learn', 1),\n",
              " ('sells', 1),\n",
              " ('court', 1),\n",
              " ('historians', 1),\n",
              " ('putting', 1),\n",
              " ('top', 1),\n",
              " ('class', 1),\n",
              " ('turned', 1),\n",
              " ('likes', 1),\n",
              " ('smell', 1),\n",
              " ('attened', 1),\n",
              " ('friday', 1),\n",
              " ('chopping', 1),\n",
              " ('block', 1),\n",
              " ('cultures', 1),\n",
              " ('middle', 1),\n",
              " ('east', 1),\n",
              " ('shockingly', 1),\n",
              " ('dinner', 1),\n",
              " ('restaurant', 1),\n",
              " ('software', 1),\n",
              " ('developers', 1),\n",
              " ('nation', 1),\n",
              " ('politics', 1),\n",
              " ('long', 1),\n",
              " ('whose', 1),\n",
              " ('skin', 1),\n",
              " ('want', 1),\n",
              " ('mosque', 1),\n",
              " ('built', 1),\n",
              " ('deemed', 1),\n",
              " ('scientific', 1),\n",
              " ('boston', 1),\n",
              " ('surprisingly', 1),\n",
              " ('easy', 1),\n",
              " ('find', 1),\n",
              " ('markets', 1),\n",
              " ('driven', 1),\n",
              " ('works', 1),\n",
              " ('company', 1),\n",
              " ('technique', 1),\n",
              " ('growing', 1),\n",
              " ('plants', 1),\n",
              " ('winning', 1),\n",
              " ('competition', 1),\n",
              " ('thinks', 1),\n",
              " ('impression', 1),\n",
              " ('lookout', 1),\n",
              " ('inevitable', 1),\n",
              " ('minute', 1),\n",
              " ('plane', 1),\n",
              " ('touches', 1),\n",
              " ('supposed', 1),\n",
              " ('john', 1),\n",
              " ('normal', 1),\n",
              " ('keeps', 1),\n",
              " ('lady', 1),\n",
              " ('professor', 1),\n",
              " ('ancestry', 1),\n",
              " ('official', 1),\n",
              " ('currency', 1),\n",
              " ('exchange', 1),\n",
              " ('citizenry', 1),\n",
              " ('welcomes', 1),\n",
              " ('end', 1),\n",
              " ('say', 1),\n",
              " ('local', 1),\n",
              " ('locations', 1),\n",
              " ('natural', 1),\n",
              " ('world', 1),\n",
              " ('reputation', 1),\n",
              " ('preparing', 1),\n",
              " ('interview', 1),\n",
              " ('first', 1),\n",
              " ('thing', 1),\n",
              " ('noticed', 1),\n",
              " ('supporters', 1),\n",
              " ('enemies', 1),\n",
              " ('consider', 1),\n",
              " ('countries', 1),\n",
              " ('bibles', 1),\n",
              " ('practice', 1),\n",
              " ('children', 1),\n",
              " ('likely', 1),\n",
              " ('area', 1),\n",
              " ('worker', 1),\n",
              " ('retiring', 1),\n",
              " ('great', 1),\n",
              " ('try', 1),\n",
              " ('different', 1),\n",
              " ('types', 1),\n",
              " ('heritage', 1),\n",
              " ('culture', 1),\n",
              " ('background', 1),\n",
              " ('voted', 1),\n",
              " ('little', 1),\n",
              " ('timmy', 1),\n",
              " ('dresses', 1),\n",
              " ('producers', 1),\n",
              " ('rally', 1),\n",
              " ('ceo', 1),\n",
              " ('researchers', 1),\n",
              " ('war', 1),\n",
              " ('intense', 1),\n",
              " ('obvious', 1),\n",
              " ('business', 1),\n",
              " ('subject', 1),\n",
              " ('debate', 1),\n",
              " ('networking', 1),\n",
              " ('event', 1),\n",
              " ('full', 1),\n",
              " ('done', 1),\n",
              " ('norweigans', 1),\n",
              " ('around', 1),\n",
              " ('get', 1),\n",
              " ('trust', 1),\n",
              " ('girls', 1),\n",
              " ('loved', 1),\n",
              " ('guy', 1),\n",
              " ('timothy', 1),\n",
              " ('sometimes', 1),\n",
              " ('covered', 1),\n",
              " ('stopped', 1),\n",
              " ('obviously', 1),\n",
              " ('nature', 1),\n",
              " ('student', 1),\n",
              " ('ran', 1),\n",
              " ('race', 1),\n",
              " ('today', 1),\n",
              " ('bold', 1),\n",
              " ('introduced', 1),\n",
              " ('girlfriend', 1),\n",
              " ('lecture', 1),\n",
              " ('rome', 1),\n",
              " ('received', 1),\n",
              " ('treatment', 1),\n",
              " ('households', 1),\n",
              " ('places', 1),\n",
              " ('publicized', 1),\n",
              " ('metal', 1),\n",
              " ('bands', 1),\n",
              " ('focus', 1),\n",
              " ('times', 1),\n",
              " ('situation', 1),\n",
              " ('decade', 1),\n",
              " ('ago', 1),\n",
              " ('choice', 1),\n",
              " ('finding', 1),\n",
              " ('vital', 1),\n",
              " ('information', 1),\n",
              " ('pictures', 1),\n",
              " ('guitarists', 1),\n",
              " ('assignment', 1),\n",
              " ('average', 1),\n",
              " ('desk', 1),\n",
              " ('spending', 1),\n",
              " ('everybody', 1),\n",
              " ('wants', 1),\n",
              " ('study', 1),\n",
              " ('lives', 1),\n",
              " ('tends', 1),\n",
              " ('prisoners', 1),\n",
              " ('monarchy', 1),\n",
              " ('news', 1),\n",
              " ('eve', 1),\n",
              " ('rounds', 1),\n",
              " ('messages', 1),\n",
              " ('plain', 1),\n",
              " ('nurses', 1),\n",
              " ('jobs', 1),\n",
              " ('sake', 1),\n",
              " ('patients', 1),\n",
              " ('storekeepers', 1),\n",
              " ('twice', 1),\n",
              " ('least', 1),\n",
              " ('dance', 1),\n",
              " ('liked', 1),\n",
              " ('pair', 1),\n",
              " ('naan', 1),\n",
              " ('bread', 1),\n",
              " ('consumption', 1),\n",
              " ('seeks', 1),\n",
              " ('nothing', 1),\n",
              " ('less', 1),\n",
              " ('status', 1),\n",
              " ('eyes', 1),\n",
              " ('american', 1),\n",
              " ('foreign', 1),\n",
              " ('policy', 1),\n",
              " ('created', 1),\n",
              " ('unique', 1),\n",
              " ('thesis', 1),\n",
              " ('going', 1),\n",
              " ('studies', 1),\n",
              " ('mostly', 1),\n",
              " ('labeled', 1),\n",
              " ('outsiders', 1),\n",
              " ('uncle', 1),\n",
              " ('made', 1),\n",
              " ('millions', 1),\n",
              " ('dollars', 1),\n",
              " ('selling', 1),\n",
              " ('bartenders', 1),\n",
              " ('heading', 1),\n",
              " ('sleep', 1),\n",
              " ('citizens', 1),\n",
              " ('bought', 1),\n",
              " ('right', 1),\n",
              " ('amount', 1),\n",
              " ('money', 1),\n",
              " ('multiple', 1),\n",
              " ('research', 1),\n",
              " ('knew', 1),\n",
              " ('navigate', 1),\n",
              " ('workplaces', 1),\n",
              " ('bengalis', 1),\n",
              " ('cuisine', 1),\n",
              " ('beautiful', 1),\n",
              " ('taste', 1),\n",
              " ('things', 1),\n",
              " ('weekend', 1),\n",
              " ('allow', 1),\n",
              " ('almost', 1),\n",
              " ('museum', 1),\n",
              " ('away', 1),\n",
              " ('california', 1),\n",
              " ('producing', 1),\n",
              " ('fine', 1),\n",
              " ('also', 1),\n",
              " ('political', 1),\n",
              " ('wrote', 1),\n",
              " ('book', 1),\n",
              " ('holocaust', 1),\n",
              " ('immigrant', 1),\n",
              " ('vote', 1),\n",
              " ('conditions', 1),\n",
              " ('vary', 1),\n",
              " ('knowledgable', 1),\n",
              " ('everyday', 1),\n",
              " ('home', 1),\n",
              " ('reads', 1),\n",
              " ('apron', 1),\n",
              " ('neighbor', 1),\n",
              " ('physics', 1),\n",
              " ('care', 1),\n",
              " ('behind', 1),\n",
              " ('runners', 1),\n",
              " ('really', 1)]"
            ]
          },
          "metadata": {},
          "execution_count": 19
        }
      ]
    },
    {
      "cell_type": "code",
      "metadata": {
        "colab": {
          "base_uri": "https://localhost:8080/"
        },
        "id": "bjjaLm3z0Xzv",
        "outputId": "1057942c-5deb-4393-cd7f-23b482448df0"
      },
      "source": [
        "len(a)"
      ],
      "execution_count": null,
      "outputs": [
        {
          "output_type": "execute_result",
          "data": {
            "text/plain": [
              "478"
            ]
          },
          "metadata": {},
          "execution_count": 20
        }
      ]
    },
    {
      "cell_type": "code",
      "metadata": {
        "colab": {
          "base_uri": "https://localhost:8080/"
        },
        "id": "OJGd335ivC_Q",
        "outputId": "96787f3e-f04c-4d7e-880c-fd3f92c5fbba"
      },
      "source": [
        "for i in a[:5]:\n",
        "  print(i[0])"
      ],
      "execution_count": null,
      "outputs": [
        {
          "output_type": "stream",
          "name": "stdout",
          "text": [
            "researcher\n",
            "butcher\n",
            "many\n",
            "politician\n",
            "historian\n"
          ]
        }
      ]
    },
    {
      "cell_type": "code",
      "metadata": {
        "id": "EqH6tIV3VSmc"
      },
      "source": [
        "#Get the top 5 tokens present in each cluster based on count frequency \n",
        "def top_word(group_context_word):\n",
        "  q=[]\n",
        "  leng=[]\n",
        "  for i in range(len(group_context_word)):\n",
        "    li=\"\"\n",
        "    for j in group_context_word[i]:\n",
        "      li=li + \" \" + j\n",
        "    a=Counter(li.split())\n",
        "    leng.append(len(a))\n",
        "\n",
        "    a=sorted(a.items(), key=lambda k: -k[1])[:5]\n",
        "    top_words=\"\"\n",
        "    for i in a:\n",
        "      top_words=top_words+\" \" +i[0]\n",
        "    q.append([top_words])\n",
        "  return q,leng\n",
        "\n",
        "\n",
        "top_word_per_cluster,leng=top_word(group_context_word)\n",
        "    \n",
        "  "
      ],
      "execution_count": null,
      "outputs": []
    },
    {
      "cell_type": "code",
      "metadata": {
        "colab": {
          "base_uri": "https://localhost:8080/"
        },
        "id": "Xenggds91Fvk",
        "outputId": "ce0e133f-5172-4bba-93c6-2913fe4d2861"
      },
      "source": [
        "top_word_per_cluster[5]"
      ],
      "execution_count": null,
      "outputs": [
        {
          "output_type": "execute_result",
          "data": {
            "text/plain": [
              "[' football player players game winning']"
            ]
          },
          "metadata": {},
          "execution_count": 23
        }
      ]
    },
    {
      "cell_type": "code",
      "metadata": {
        "colab": {
          "base_uri": "https://localhost:8080/"
        },
        "id": "Ql3Ob2bc7t6B",
        "outputId": "14c74ec9-a9d4-403a-9553-9d7916fc9714"
      },
      "source": [
        "len(top_word_per_cluster)"
      ],
      "execution_count": null,
      "outputs": [
        {
          "output_type": "execute_result",
          "data": {
            "text/plain": [
              "100"
            ]
          },
          "metadata": {},
          "execution_count": 25
        }
      ]
    },
    {
      "cell_type": "code",
      "metadata": {
        "id": "5jjqouN43gTM"
      },
      "source": [
        "#initialiazing an nan column\n",
        "data[\"query_as_per_cluster\"] = np.nan"
      ],
      "execution_count": null,
      "outputs": []
    },
    {
      "cell_type": "code",
      "metadata": {
        "colab": {
          "base_uri": "https://localhost:8080/",
          "height": 141
        },
        "id": "cdSZQpoQ3_f3",
        "outputId": "6ae210e7-4eb4-47c9-e424-d5216c247368"
      },
      "source": [
        "data.head(3)"
      ],
      "execution_count": null,
      "outputs": [
        {
          "output_type": "execute_result",
          "data": {
            "text/html": [
              "<div>\n",
              "<style scoped>\n",
              "    .dataframe tbody tr th:only-of-type {\n",
              "        vertical-align: middle;\n",
              "    }\n",
              "\n",
              "    .dataframe tbody tr th {\n",
              "        vertical-align: top;\n",
              "    }\n",
              "\n",
              "    .dataframe thead th {\n",
              "        text-align: right;\n",
              "    }\n",
              "</style>\n",
              "<table border=\"1\" class=\"dataframe\">\n",
              "  <thead>\n",
              "    <tr style=\"text-align: right;\">\n",
              "      <th></th>\n",
              "      <th>target_words</th>\n",
              "      <th>query</th>\n",
              "      <th>cluster</th>\n",
              "      <th>query_as_per_cluster</th>\n",
              "    </tr>\n",
              "  </thead>\n",
              "  <tbody>\n",
              "    <tr>\n",
              "      <th>0</th>\n",
              "      <td>hispanic</td>\n",
              "      <td>chess player</td>\n",
              "      <td>13</td>\n",
              "      <td>NaN</td>\n",
              "    </tr>\n",
              "    <tr>\n",
              "      <th>1</th>\n",
              "      <td>fat</td>\n",
              "      <td>ethiopian men</td>\n",
              "      <td>34</td>\n",
              "      <td>NaN</td>\n",
              "    </tr>\n",
              "    <tr>\n",
              "      <th>2</th>\n",
              "      <td>beekeeper</td>\n",
              "      <td>civil servant heart knew really belonged</td>\n",
              "      <td>65</td>\n",
              "      <td>NaN</td>\n",
              "    </tr>\n",
              "  </tbody>\n",
              "</table>\n",
              "</div>"
            ],
            "text/plain": [
              "  target_words  ... query_as_per_cluster\n",
              "0     hispanic  ...                  NaN\n",
              "1          fat  ...                  NaN\n",
              "2    beekeeper  ...                  NaN\n",
              "\n",
              "[3 rows x 4 columns]"
            ]
          },
          "metadata": {},
          "execution_count": 27
        }
      ]
    },
    {
      "cell_type": "code",
      "metadata": {
        "colab": {
          "base_uri": "https://localhost:8080/"
        },
        "id": "7CoFRXkJ3QTx",
        "outputId": "9773789e-049b-4b77-a420-8f7099c98bc0"
      },
      "source": [
        "#map the formulated query to each instance based on cluster number\n",
        "final_sen=[]\n",
        "for i,j in data.iterrows():\n",
        "  cluster_no=j['cluster']\n",
        "  sent=top_word_per_cluster[cluster_no]\n",
        "  j['query_as_per_cluster']=sent\n",
        "  final_sen.append(sent)\n",
        "print(len(final_sen))\n",
        "\n",
        "data['query_as_per_cluster']=final_sen\n"
      ],
      "execution_count": null,
      "outputs": [
        {
          "output_type": "stream",
          "name": "stdout",
          "text": [
            "1686\n"
          ]
        }
      ]
    },
    {
      "cell_type": "code",
      "metadata": {
        "colab": {
          "base_uri": "https://localhost:8080/",
          "height": 264
        },
        "id": "IJleOQFB3cOk",
        "outputId": "a742fb1f-1b91-46cc-92a6-577db29d5aac"
      },
      "source": [
        "data.head(7)"
      ],
      "execution_count": null,
      "outputs": [
        {
          "output_type": "execute_result",
          "data": {
            "text/html": [
              "<div>\n",
              "<style scoped>\n",
              "    .dataframe tbody tr th:only-of-type {\n",
              "        vertical-align: middle;\n",
              "    }\n",
              "\n",
              "    .dataframe tbody tr th {\n",
              "        vertical-align: top;\n",
              "    }\n",
              "\n",
              "    .dataframe thead th {\n",
              "        text-align: right;\n",
              "    }\n",
              "</style>\n",
              "<table border=\"1\" class=\"dataframe\">\n",
              "  <thead>\n",
              "    <tr style=\"text-align: right;\">\n",
              "      <th></th>\n",
              "      <th>target_words</th>\n",
              "      <th>query</th>\n",
              "      <th>cluster</th>\n",
              "      <th>query_as_per_cluster</th>\n",
              "    </tr>\n",
              "  </thead>\n",
              "  <tbody>\n",
              "    <tr>\n",
              "      <th>0</th>\n",
              "      <td>hispanic</td>\n",
              "      <td>chess player</td>\n",
              "      <td>13</td>\n",
              "      <td>[ chess player move players see]</td>\n",
              "    </tr>\n",
              "    <tr>\n",
              "      <th>1</th>\n",
              "      <td>fat</td>\n",
              "      <td>ethiopian men</td>\n",
              "      <td>34</td>\n",
              "      <td>[ ethiopian people woman see children]</td>\n",
              "    </tr>\n",
              "    <tr>\n",
              "      <th>2</th>\n",
              "      <td>beekeeper</td>\n",
              "      <td>civil servant heart knew really belonged</td>\n",
              "      <td>65</td>\n",
              "      <td>[ civil servant job obviously work]</td>\n",
              "    </tr>\n",
              "    <tr>\n",
              "      <th>3</th>\n",
              "      <td>funny</td>\n",
              "      <td>crimean people met</td>\n",
              "      <td>7</td>\n",
              "      <td>[ crimean people peninsula much always]</td>\n",
              "    </tr>\n",
              "    <tr>\n",
              "      <th>4</th>\n",
              "      <td>workers</td>\n",
              "      <td>ethiopia full accomplished</td>\n",
              "      <td>45</td>\n",
              "      <td>[ ethiopia full accomplished everyone know]</td>\n",
              "    </tr>\n",
              "    <tr>\n",
              "      <th>5</th>\n",
              "      <td>angry</td>\n",
              "      <td>schoolgirl gave recital school</td>\n",
              "      <td>67</td>\n",
              "      <td>[ schoolgirl school every day gave]</td>\n",
              "    </tr>\n",
              "    <tr>\n",
              "      <th>6</th>\n",
              "      <td>lazy</td>\n",
              "      <td>musician</td>\n",
              "      <td>90</td>\n",
              "      <td>[ musician played person know new]</td>\n",
              "    </tr>\n",
              "  </tbody>\n",
              "</table>\n",
              "</div>"
            ],
            "text/plain": [
              "  target_words  ...                         query_as_per_cluster\n",
              "0     hispanic  ...             [ chess player move players see]\n",
              "1          fat  ...       [ ethiopian people woman see children]\n",
              "2    beekeeper  ...          [ civil servant job obviously work]\n",
              "3        funny  ...      [ crimean people peninsula much always]\n",
              "4      workers  ...  [ ethiopia full accomplished everyone know]\n",
              "5        angry  ...          [ schoolgirl school every day gave]\n",
              "6         lazy  ...           [ musician played person know new]\n",
              "\n",
              "[7 rows x 4 columns]"
            ]
          },
          "metadata": {},
          "execution_count": 30
        }
      ]
    },
    {
      "cell_type": "code",
      "metadata": {
        "colab": {
          "base_uri": "https://localhost:8080/",
          "height": 817
        },
        "id": "uJzyj31Q9gWS",
        "outputId": "71a7a233-912e-457e-e842-6d8c549a6f87"
      },
      "source": [
        "data[data['cluster']==11]"
      ],
      "execution_count": null,
      "outputs": [
        {
          "output_type": "execute_result",
          "data": {
            "text/html": [
              "<div>\n",
              "<style scoped>\n",
              "    .dataframe tbody tr th:only-of-type {\n",
              "        vertical-align: middle;\n",
              "    }\n",
              "\n",
              "    .dataframe tbody tr th {\n",
              "        vertical-align: top;\n",
              "    }\n",
              "\n",
              "    .dataframe thead th {\n",
              "        text-align: right;\n",
              "    }\n",
              "</style>\n",
              "<table border=\"1\" class=\"dataframe\">\n",
              "  <thead>\n",
              "    <tr style=\"text-align: right;\">\n",
              "      <th></th>\n",
              "      <th>target_words</th>\n",
              "      <th>query</th>\n",
              "      <th>cluster</th>\n",
              "      <th>query_as_per_cluster</th>\n",
              "    </tr>\n",
              "  </thead>\n",
              "  <tbody>\n",
              "    <tr>\n",
              "      <th>9</th>\n",
              "      <td>moral</td>\n",
              "      <td>russian sat couch</td>\n",
              "      <td>11</td>\n",
              "      <td>[ russian man people men often]</td>\n",
              "    </tr>\n",
              "    <tr>\n",
              "      <th>32</th>\n",
              "      <td>polite</td>\n",
              "      <td>russian characters movies often</td>\n",
              "      <td>11</td>\n",
              "      <td>[ russian man people men often]</td>\n",
              "    </tr>\n",
              "    <tr>\n",
              "      <th>38</th>\n",
              "      <td>nice</td>\n",
              "      <td>russian people always seem</td>\n",
              "      <td>11</td>\n",
              "      <td>[ russian man people men often]</td>\n",
              "    </tr>\n",
              "    <tr>\n",
              "      <th>58</th>\n",
              "      <td>philanthropist</td>\n",
              "      <td>russian called day</td>\n",
              "      <td>11</td>\n",
              "      <td>[ russian man people men often]</td>\n",
              "    </tr>\n",
              "    <tr>\n",
              "      <th>74</th>\n",
              "      <td>trustworthy</td>\n",
              "      <td>hire russian afraid might</td>\n",
              "      <td>11</td>\n",
              "      <td>[ russian man people men often]</td>\n",
              "    </tr>\n",
              "    <tr>\n",
              "      <th>95</th>\n",
              "      <td>sensitive</td>\n",
              "      <td>russian men often</td>\n",
              "      <td>11</td>\n",
              "      <td>[ russian man people men often]</td>\n",
              "    </tr>\n",
              "    <tr>\n",
              "      <th>98</th>\n",
              "      <td>leftist</td>\n",
              "      <td>russian men</td>\n",
              "      <td>11</td>\n",
              "      <td>[ russian man people men often]</td>\n",
              "    </tr>\n",
              "    <tr>\n",
              "      <th>99</th>\n",
              "      <td>jews</td>\n",
              "      <td>russian people love</td>\n",
              "      <td>11</td>\n",
              "      <td>[ russian man people men often]</td>\n",
              "    </tr>\n",
              "    <tr>\n",
              "      <th>181</th>\n",
              "      <td>capitalism</td>\n",
              "      <td>russian strong supporter</td>\n",
              "      <td>11</td>\n",
              "      <td>[ russian man people men often]</td>\n",
              "    </tr>\n",
              "    <tr>\n",
              "      <th>208</th>\n",
              "      <td>tame</td>\n",
              "      <td>russian family used wilderness</td>\n",
              "      <td>11</td>\n",
              "      <td>[ russian man people men often]</td>\n",
              "    </tr>\n",
              "    <tr>\n",
              "      <th>214</th>\n",
              "      <td>poetic</td>\n",
              "      <td>tend think russian mostly language</td>\n",
              "      <td>11</td>\n",
              "      <td>[ russian man people men often]</td>\n",
              "    </tr>\n",
              "    <tr>\n",
              "      <th>227</th>\n",
              "      <td>freedom</td>\n",
              "      <td>russian man telling us proper role government ...</td>\n",
              "      <td>11</td>\n",
              "      <td>[ russian man people men often]</td>\n",
              "    </tr>\n",
              "    <tr>\n",
              "      <th>246</th>\n",
              "      <td>programmer</td>\n",
              "      <td>russian trouble feds</td>\n",
              "      <td>11</td>\n",
              "      <td>[ russian man people men often]</td>\n",
              "    </tr>\n",
              "    <tr>\n",
              "      <th>329</th>\n",
              "      <td>smiling</td>\n",
              "      <td>russian</td>\n",
              "      <td>11</td>\n",
              "      <td>[ russian man people men often]</td>\n",
              "    </tr>\n",
              "    <tr>\n",
              "      <th>350</th>\n",
              "      <td>quiet</td>\n",
              "      <td>russian man usually</td>\n",
              "      <td>11</td>\n",
              "      <td>[ russian man people men often]</td>\n",
              "    </tr>\n",
              "    <tr>\n",
              "      <th>368</th>\n",
              "      <td>kind</td>\n",
              "      <td>russian man behind counter</td>\n",
              "      <td>11</td>\n",
              "      <td>[ russian man people men often]</td>\n",
              "    </tr>\n",
              "    <tr>\n",
              "      <th>374</th>\n",
              "      <td>smart</td>\n",
              "      <td>russian men like</td>\n",
              "      <td>11</td>\n",
              "      <td>[ russian man people men often]</td>\n",
              "    </tr>\n",
              "    <tr>\n",
              "      <th>380</th>\n",
              "      <td>kind</td>\n",
              "      <td>russian man</td>\n",
              "      <td>11</td>\n",
              "      <td>[ russian man people men often]</td>\n",
              "    </tr>\n",
              "    <tr>\n",
              "      <th>400</th>\n",
              "      <td>honest</td>\n",
              "      <td>russian man</td>\n",
              "      <td>11</td>\n",
              "      <td>[ russian man people men often]</td>\n",
              "    </tr>\n",
              "    <tr>\n",
              "      <th>421</th>\n",
              "      <td>muslm</td>\n",
              "      <td>russian man</td>\n",
              "      <td>11</td>\n",
              "      <td>[ russian man people men often]</td>\n",
              "    </tr>\n",
              "    <tr>\n",
              "      <th>425</th>\n",
              "      <td>honest</td>\n",
              "      <td>russian people generally</td>\n",
              "      <td>11</td>\n",
              "      <td>[ russian man people men often]</td>\n",
              "    </tr>\n",
              "    <tr>\n",
              "      <th>461</th>\n",
              "      <td>admirable</td>\n",
              "      <td>many foreigners found behavior average russian</td>\n",
              "      <td>11</td>\n",
              "      <td>[ russian man people men often]</td>\n",
              "    </tr>\n",
              "    <tr>\n",
              "      <th>472</th>\n",
              "      <td>smart</td>\n",
              "      <td>people russian</td>\n",
              "      <td>11</td>\n",
              "      <td>[ russian man people men often]</td>\n",
              "    </tr>\n",
              "    <tr>\n",
              "      <th>475</th>\n",
              "      <td>kindly</td>\n",
              "      <td>russian looked eye</td>\n",
              "      <td>11</td>\n",
              "      <td>[ russian man people men often]</td>\n",
              "    </tr>\n",
              "    <tr>\n",
              "      <th>724</th>\n",
              "      <td>capable</td>\n",
              "      <td>people think ukrainian state face russian agre...</td>\n",
              "      <td>11</td>\n",
              "      <td>[ russian man people men often]</td>\n",
              "    </tr>\n",
              "  </tbody>\n",
              "</table>\n",
              "</div>"
            ],
            "text/plain": [
              "       target_words  ...             query_as_per_cluster\n",
              "9             moral  ...  [ russian man people men often]\n",
              "32           polite  ...  [ russian man people men often]\n",
              "38             nice  ...  [ russian man people men often]\n",
              "58   philanthropist  ...  [ russian man people men often]\n",
              "74      trustworthy  ...  [ russian man people men often]\n",
              "95        sensitive  ...  [ russian man people men often]\n",
              "98          leftist  ...  [ russian man people men often]\n",
              "99             jews  ...  [ russian man people men often]\n",
              "181      capitalism  ...  [ russian man people men often]\n",
              "208            tame  ...  [ russian man people men often]\n",
              "214          poetic  ...  [ russian man people men often]\n",
              "227         freedom  ...  [ russian man people men often]\n",
              "246      programmer  ...  [ russian man people men often]\n",
              "329         smiling  ...  [ russian man people men often]\n",
              "350           quiet  ...  [ russian man people men often]\n",
              "368            kind  ...  [ russian man people men often]\n",
              "374           smart  ...  [ russian man people men often]\n",
              "380            kind  ...  [ russian man people men often]\n",
              "400          honest  ...  [ russian man people men often]\n",
              "421           muslm  ...  [ russian man people men often]\n",
              "425          honest  ...  [ russian man people men often]\n",
              "461       admirable  ...  [ russian man people men often]\n",
              "472           smart  ...  [ russian man people men often]\n",
              "475          kindly  ...  [ russian man people men often]\n",
              "724         capable  ...  [ russian man people men often]\n",
              "\n",
              "[25 rows x 4 columns]"
            ]
          },
          "metadata": {},
          "execution_count": 32
        }
      ]
    },
    {
      "cell_type": "code",
      "metadata": {
        "colab": {
          "base_uri": "https://localhost:8080/",
          "height": 356
        },
        "id": "x12AXcPI98PJ",
        "outputId": "8222a8fa-2a1d-4fb3-91d3-92a34f8b294f"
      },
      "source": [
        "data.head(10)"
      ],
      "execution_count": null,
      "outputs": [
        {
          "output_type": "execute_result",
          "data": {
            "text/html": [
              "<div>\n",
              "<style scoped>\n",
              "    .dataframe tbody tr th:only-of-type {\n",
              "        vertical-align: middle;\n",
              "    }\n",
              "\n",
              "    .dataframe tbody tr th {\n",
              "        vertical-align: top;\n",
              "    }\n",
              "\n",
              "    .dataframe thead th {\n",
              "        text-align: right;\n",
              "    }\n",
              "</style>\n",
              "<table border=\"1\" class=\"dataframe\">\n",
              "  <thead>\n",
              "    <tr style=\"text-align: right;\">\n",
              "      <th></th>\n",
              "      <th>target_words</th>\n",
              "      <th>query</th>\n",
              "      <th>cluster</th>\n",
              "      <th>query_as_per_cluster</th>\n",
              "    </tr>\n",
              "  </thead>\n",
              "  <tbody>\n",
              "    <tr>\n",
              "      <th>0</th>\n",
              "      <td>hispanic</td>\n",
              "      <td>chess player</td>\n",
              "      <td>13</td>\n",
              "      <td>[ chess player move players see]</td>\n",
              "    </tr>\n",
              "    <tr>\n",
              "      <th>1</th>\n",
              "      <td>fat</td>\n",
              "      <td>ethiopian men</td>\n",
              "      <td>34</td>\n",
              "      <td>[ ethiopian people woman see children]</td>\n",
              "    </tr>\n",
              "    <tr>\n",
              "      <th>2</th>\n",
              "      <td>beekeeper</td>\n",
              "      <td>civil servant heart knew really belonged</td>\n",
              "      <td>65</td>\n",
              "      <td>[ civil servant job obviously work]</td>\n",
              "    </tr>\n",
              "    <tr>\n",
              "      <th>3</th>\n",
              "      <td>funny</td>\n",
              "      <td>crimean people met</td>\n",
              "      <td>7</td>\n",
              "      <td>[ crimean people peninsula much always]</td>\n",
              "    </tr>\n",
              "    <tr>\n",
              "      <th>4</th>\n",
              "      <td>workers</td>\n",
              "      <td>ethiopia full accomplished</td>\n",
              "      <td>45</td>\n",
              "      <td>[ ethiopia full accomplished everyone know]</td>\n",
              "    </tr>\n",
              "    <tr>\n",
              "      <th>5</th>\n",
              "      <td>angry</td>\n",
              "      <td>schoolgirl gave recital school</td>\n",
              "      <td>67</td>\n",
              "      <td>[ schoolgirl school every day gave]</td>\n",
              "    </tr>\n",
              "    <tr>\n",
              "      <th>6</th>\n",
              "      <td>lazy</td>\n",
              "      <td>musician</td>\n",
              "      <td>90</td>\n",
              "      <td>[ musician played person know new]</td>\n",
              "    </tr>\n",
              "    <tr>\n",
              "      <th>7</th>\n",
              "      <td>skateboards</td>\n",
              "      <td>men afghanistan ride</td>\n",
              "      <td>8</td>\n",
              "      <td>[ afghanistan people person full reputation]</td>\n",
              "    </tr>\n",
              "    <tr>\n",
              "      <th>8</th>\n",
              "      <td>clean</td>\n",
              "      <td>hispanic usually</td>\n",
              "      <td>24</td>\n",
              "      <td>[ hispanic friend always usually guess]</td>\n",
              "    </tr>\n",
              "    <tr>\n",
              "      <th>9</th>\n",
              "      <td>moral</td>\n",
              "      <td>russian sat couch</td>\n",
              "      <td>11</td>\n",
              "      <td>[ russian man people men often]</td>\n",
              "    </tr>\n",
              "  </tbody>\n",
              "</table>\n",
              "</div>"
            ],
            "text/plain": [
              "  target_words  ...                          query_as_per_cluster\n",
              "0     hispanic  ...              [ chess player move players see]\n",
              "1          fat  ...        [ ethiopian people woman see children]\n",
              "2    beekeeper  ...           [ civil servant job obviously work]\n",
              "3        funny  ...       [ crimean people peninsula much always]\n",
              "4      workers  ...   [ ethiopia full accomplished everyone know]\n",
              "5        angry  ...           [ schoolgirl school every day gave]\n",
              "6         lazy  ...            [ musician played person know new]\n",
              "7  skateboards  ...  [ afghanistan people person full reputation]\n",
              "8        clean  ...       [ hispanic friend always usually guess]\n",
              "9        moral  ...               [ russian man people men often]\n",
              "\n",
              "[10 rows x 4 columns]"
            ]
          },
          "metadata": {},
          "execution_count": 33
        }
      ]
    },
    {
      "cell_type": "code",
      "metadata": {
        "id": "aFcOxMO1-d2R"
      },
      "source": [
        "#data.to_csv(\"query_per_cluster.csv\")"
      ],
      "execution_count": null,
      "outputs": []
    },
    {
      "cell_type": "code",
      "metadata": {
        "colab": {
          "base_uri": "https://localhost:8080/"
        },
        "id": "qrqIOkkWjAVP",
        "outputId": "3352e49b-248f-423c-8f13-af21a6886514"
      },
      "source": [
        "top_word_per_cluster[0]"
      ],
      "execution_count": null,
      "outputs": [
        {
          "output_type": "execute_result",
          "data": {
            "text/plain": [
              "[' columbian man lot experience known']"
            ]
          },
          "metadata": {},
          "execution_count": 37
        }
      ]
    },
    {
      "cell_type": "markdown",
      "metadata": {
        "id": "k78yQ4ZM_LYE"
      },
      "source": [
        "**Store the websites link per query**"
      ]
    },
    {
      "cell_type": "code",
      "metadata": {
        "colab": {
          "base_uri": "https://localhost:8080/"
        },
        "id": "Jp8cWzVJTwk5",
        "outputId": "7a8bdf7e-e60c-4be6-d2a8-23138f4240ca"
      },
      "source": [
        "pip install googlesearch-python\n",
        "pip install google-search-results"
      ],
      "execution_count": null,
      "outputs": [
        {
          "output_type": "stream",
          "name": "stdout",
          "text": [
            "Collecting googlesearch-python\n",
            "  Downloading googlesearch_python-1.0.1-py3-none-any.whl (3.4 kB)\n",
            "Collecting requests==2.25.1\n",
            "  Downloading requests-2.25.1-py2.py3-none-any.whl (61 kB)\n",
            "\u001b[K     |████████████████████████████████| 61 kB 3.1 MB/s \n",
            "\u001b[?25hCollecting beautifulsoup4==4.9.3\n",
            "  Downloading beautifulsoup4-4.9.3-py3-none-any.whl (115 kB)\n",
            "\u001b[K     |████████████████████████████████| 115 kB 8.4 MB/s \n",
            "\u001b[?25hCollecting soupsieve>1.2\n",
            "  Downloading soupsieve-2.3-py3-none-any.whl (37 kB)\n",
            "Requirement already satisfied: chardet<5,>=3.0.2 in /usr/local/lib/python3.7/dist-packages (from requests==2.25.1->googlesearch-python) (3.0.4)\n",
            "Requirement already satisfied: urllib3<1.27,>=1.21.1 in /usr/local/lib/python3.7/dist-packages (from requests==2.25.1->googlesearch-python) (1.24.3)\n",
            "Requirement already satisfied: idna<3,>=2.5 in /usr/local/lib/python3.7/dist-packages (from requests==2.25.1->googlesearch-python) (2.10)\n",
            "Requirement already satisfied: certifi>=2017.4.17 in /usr/local/lib/python3.7/dist-packages (from requests==2.25.1->googlesearch-python) (2021.5.30)\n",
            "Installing collected packages: soupsieve, requests, beautifulsoup4, googlesearch-python\n",
            "  Attempting uninstall: requests\n",
            "    Found existing installation: requests 2.23.0\n",
            "    Uninstalling requests-2.23.0:\n",
            "      Successfully uninstalled requests-2.23.0\n",
            "  Attempting uninstall: beautifulsoup4\n",
            "    Found existing installation: beautifulsoup4 4.6.3\n",
            "    Uninstalling beautifulsoup4-4.6.3:\n",
            "      Successfully uninstalled beautifulsoup4-4.6.3\n",
            "\u001b[31mERROR: pip's dependency resolver does not currently take into account all the packages that are installed. This behaviour is the source of the following dependency conflicts.\n",
            "google-colab 1.0.0 requires requests~=2.23.0, but you have requests 2.25.1 which is incompatible.\n",
            "datascience 0.10.6 requires folium==0.2.1, but you have folium 0.8.3 which is incompatible.\u001b[0m\n",
            "Successfully installed beautifulsoup4-4.9.3 googlesearch-python-1.0.1 requests-2.25.1 soupsieve-2.3\n"
          ]
        }
      ]
    },
    {
      "cell_type": "code",
      "metadata": {
        "colab": {
          "base_uri": "https://localhost:8080/"
        },
        "id": "7qXGZElVlnnM",
        "outputId": "e64b74e5-ad1f-4b5c-f8eb-19a5fb49af26"
      },
      "source": [
        "print(top_word_per_cluster[0])\n",
        "print(str(top_word_per_cluster[0][0]))"
      ],
      "execution_count": null,
      "outputs": [
        {
          "output_type": "stream",
          "name": "stdout",
          "text": [
            "[' columbian man lot experience known']\n",
            " columbian man lot experience known\n"
          ]
        }
      ]
    },
    {
      "cell_type": "code",
      "metadata": {
        "colab": {
          "base_uri": "https://localhost:8080/",
          "height": 202
        },
        "id": "Mu7QHx8dnMZ_",
        "outputId": "38abb84f-a36c-4d0f-9e8d-036d012e4a5e"
      },
      "source": [
        "#store the query in a dataframe\n",
        "df=pd.DataFrame(top_word_per_cluster,columns=['query'])\n",
        "df.head()"
      ],
      "execution_count": null,
      "outputs": [
        {
          "output_type": "execute_result",
          "data": {
            "text/html": [
              "<div>\n",
              "<style scoped>\n",
              "    .dataframe tbody tr th:only-of-type {\n",
              "        vertical-align: middle;\n",
              "    }\n",
              "\n",
              "    .dataframe tbody tr th {\n",
              "        vertical-align: top;\n",
              "    }\n",
              "\n",
              "    .dataframe thead th {\n",
              "        text-align: right;\n",
              "    }\n",
              "</style>\n",
              "<table border=\"1\" class=\"dataframe\">\n",
              "  <thead>\n",
              "    <tr style=\"text-align: right;\">\n",
              "      <th></th>\n",
              "      <th>query</th>\n",
              "    </tr>\n",
              "  </thead>\n",
              "  <tbody>\n",
              "    <tr>\n",
              "      <th>0</th>\n",
              "      <td>columbian man lot experience known</td>\n",
              "    </tr>\n",
              "    <tr>\n",
              "      <th>1</th>\n",
              "      <td>researcher butcher many politician historian</td>\n",
              "    </tr>\n",
              "    <tr>\n",
              "      <th>2</th>\n",
              "      <td>people persian hispanic many often</td>\n",
              "    </tr>\n",
              "    <tr>\n",
              "      <th>3</th>\n",
              "      <td>man muslim hispanic arab norweigan</td>\n",
              "    </tr>\n",
              "    <tr>\n",
              "      <th>4</th>\n",
              "      <td>tailor made pants suits sewed</td>\n",
              "    </tr>\n",
              "  </tbody>\n",
              "</table>\n",
              "</div>"
            ],
            "text/plain": [
              "                                           query\n",
              "0             columbian man lot experience known\n",
              "1   researcher butcher many politician historian\n",
              "2             people persian hispanic many often\n",
              "3             man muslim hispanic arab norweigan\n",
              "4                  tailor made pants suits sewed"
            ]
          },
          "metadata": {},
          "execution_count": 46
        }
      ]
    },
    {
      "cell_type": "code",
      "metadata": {
        "colab": {
          "base_uri": "https://localhost:8080/"
        },
        "id": "SMomZwONna1O",
        "outputId": "5c4e00ab-c76b-4c8e-cc64-a102c0ce332c"
      },
      "source": [
        "df.shape"
      ],
      "execution_count": null,
      "outputs": [
        {
          "output_type": "execute_result",
          "data": {
            "text/plain": [
              "(100, 1)"
            ]
          },
          "metadata": {},
          "execution_count": 47
        }
      ]
    },
    {
      "cell_type": "code",
      "metadata": {
        "id": "hIFaUxmUm9dh"
      },
      "source": [
        "df.to_csv('querypercluster.csv',index=False)"
      ],
      "execution_count": null,
      "outputs": []
    },
    {
      "cell_type": "code",
      "metadata": {
        "colab": {
          "base_uri": "https://localhost:8080/",
          "height": 219
        },
        "id": "9OgRW-ua_4_e",
        "outputId": "4c44f9b3-cce4-4655-a5e5-25c60911a443"
      },
      "source": [
        "import pandas as pd\n",
        "qdf=pd.read_csv('querypercluster.csv')\n",
        "print(qdf.shape)\n",
        "qdf.head()"
      ],
      "execution_count": null,
      "outputs": [
        {
          "output_type": "stream",
          "name": "stdout",
          "text": [
            "(100, 1)\n"
          ]
        },
        {
          "output_type": "execute_result",
          "data": {
            "text/html": [
              "<div>\n",
              "<style scoped>\n",
              "    .dataframe tbody tr th:only-of-type {\n",
              "        vertical-align: middle;\n",
              "    }\n",
              "\n",
              "    .dataframe tbody tr th {\n",
              "        vertical-align: top;\n",
              "    }\n",
              "\n",
              "    .dataframe thead th {\n",
              "        text-align: right;\n",
              "    }\n",
              "</style>\n",
              "<table border=\"1\" class=\"dataframe\">\n",
              "  <thead>\n",
              "    <tr style=\"text-align: right;\">\n",
              "      <th></th>\n",
              "      <th>query</th>\n",
              "    </tr>\n",
              "  </thead>\n",
              "  <tbody>\n",
              "    <tr>\n",
              "      <th>0</th>\n",
              "      <td>columbian man lot experience known</td>\n",
              "    </tr>\n",
              "    <tr>\n",
              "      <th>1</th>\n",
              "      <td>researcher butcher many politician historian</td>\n",
              "    </tr>\n",
              "    <tr>\n",
              "      <th>2</th>\n",
              "      <td>people persian hispanic many often</td>\n",
              "    </tr>\n",
              "    <tr>\n",
              "      <th>3</th>\n",
              "      <td>man muslim hispanic arab norweigan</td>\n",
              "    </tr>\n",
              "    <tr>\n",
              "      <th>4</th>\n",
              "      <td>tailor made pants suits sewed</td>\n",
              "    </tr>\n",
              "  </tbody>\n",
              "</table>\n",
              "</div>"
            ],
            "text/plain": [
              "                                           query\n",
              "0             columbian man lot experience known\n",
              "1   researcher butcher many politician historian\n",
              "2             people persian hispanic many often\n",
              "3             man muslim hispanic arab norweigan\n",
              "4                  tailor made pants suits sewed"
            ]
          },
          "metadata": {},
          "execution_count": 66
        }
      ]
    },
    {
      "cell_type": "code",
      "metadata": {
        "colab": {
          "base_uri": "https://localhost:8080/",
          "height": 172
        },
        "id": "4MGjNVJEBhh5",
        "outputId": "c8f40402-e3de-4706-b1f1-fb48a915031a"
      },
      "source": [
        "#removing the blank space\n",
        "qdf['query']=qdf['query'].str.strip()\n",
        "qdf.head(4)"
      ],
      "execution_count": null,
      "outputs": [
        {
          "output_type": "execute_result",
          "data": {
            "text/html": [
              "<div>\n",
              "<style scoped>\n",
              "    .dataframe tbody tr th:only-of-type {\n",
              "        vertical-align: middle;\n",
              "    }\n",
              "\n",
              "    .dataframe tbody tr th {\n",
              "        vertical-align: top;\n",
              "    }\n",
              "\n",
              "    .dataframe thead th {\n",
              "        text-align: right;\n",
              "    }\n",
              "</style>\n",
              "<table border=\"1\" class=\"dataframe\">\n",
              "  <thead>\n",
              "    <tr style=\"text-align: right;\">\n",
              "      <th></th>\n",
              "      <th>query</th>\n",
              "    </tr>\n",
              "  </thead>\n",
              "  <tbody>\n",
              "    <tr>\n",
              "      <th>0</th>\n",
              "      <td>columbian man lot experience known</td>\n",
              "    </tr>\n",
              "    <tr>\n",
              "      <th>1</th>\n",
              "      <td>researcher butcher many politician historian</td>\n",
              "    </tr>\n",
              "    <tr>\n",
              "      <th>2</th>\n",
              "      <td>people persian hispanic many often</td>\n",
              "    </tr>\n",
              "    <tr>\n",
              "      <th>3</th>\n",
              "      <td>man muslim hispanic arab norweigan</td>\n",
              "    </tr>\n",
              "  </tbody>\n",
              "</table>\n",
              "</div>"
            ],
            "text/plain": [
              "                                          query\n",
              "0            columbian man lot experience known\n",
              "1  researcher butcher many politician historian\n",
              "2            people persian hispanic many often\n",
              "3            man muslim hispanic arab norweigan"
            ]
          },
          "metadata": {},
          "execution_count": 67
        }
      ]
    },
    {
      "cell_type": "markdown",
      "source": [
        "**Extract the top 100 urls for first 20 query**\n",
        "\n",
        "> Serp API can not process more than 20 query in an hour\n",
        "\n"
      ],
      "metadata": {
        "id": "6wiABQNOdoWm"
      }
    },
    {
      "cell_type": "code",
      "metadata": {
        "colab": {
          "base_uri": "https://localhost:8080/"
        },
        "id": "Dm-VEfEdBIYA",
        "outputId": "1eeb245c-40fa-420a-954a-734b44d98519"
      },
      "source": [
        "qdf_20=list(qdf['query'])[:20]\n",
        "print(len(qdf_20))"
      ],
      "execution_count": null,
      "outputs": [
        {
          "output_type": "stream",
          "name": "stdout",
          "text": [
            "20\n"
          ]
        }
      ]
    },
    {
      "cell_type": "code",
      "metadata": {
        "colab": {
          "base_uri": "https://localhost:8080/"
        },
        "id": "VxSwBIxyBVVS",
        "outputId": "9cf1eb11-851d-438a-9f9e-902f419086e6"
      },
      "source": [
        "qdf_20"
      ],
      "execution_count": null,
      "outputs": [
        {
          "output_type": "execute_result",
          "data": {
            "text/plain": [
              "['columbian man lot experience known',\n",
              " 'researcher butcher many politician historian',\n",
              " 'people persian hispanic many often',\n",
              " 'man muslim hispanic arab norweigan',\n",
              " 'tailor made pants suits sewed',\n",
              " 'football player players game winning',\n",
              " 'known lebanon place woman politician',\n",
              " 'crimean people peninsula much always',\n",
              " 'afghanistan people person full reputation',\n",
              " 'ghanaian people met economy world',\n",
              " 'film producer took approach making',\n",
              " 'russian man people men often',\n",
              " 'cape verde people population islands',\n",
              " 'chess player move players see',\n",
              " 'sierra leon country people despite',\n",
              " 'performing artist started front crowd',\n",
              " 'entrepreneur ideas thought new plan',\n",
              " 'people live cameroon civil servant',\n",
              " 'syria many country know filled',\n",
              " 'manager employees store always company']"
            ]
          },
          "metadata": {},
          "execution_count": 69
        }
      ]
    },
    {
      "cell_type": "code",
      "metadata": {
        "id": "oxyFZGhLESgb"
      },
      "source": [
        "from serpapi import GoogleSearch"
      ],
      "execution_count": null,
      "outputs": []
    },
    {
      "cell_type": "code",
      "metadata": {
        "id": "bct_fnIFB8Sq"
      },
      "source": [
        "#extract the top urls per query and map all the urls to each query\n",
        "top20_link=[]\n",
        "for i in qdf_20:\n",
        "  search = GoogleSearch({\"q\": i,\"num\": 500,\"api_key\": 'c759ff1bf1f0176aa8b0eed011bc9cd131230752d4738239e813e1146dd4fdd7'})\n",
        "  result = search.get_dict()\n",
        "  link=[]\n",
        "  for j in range(len(result['organic_results'])):\n",
        "    link.append(result['organic_results'][j]['link'])\n",
        "  top20_link.append(link) \n",
        "\n",
        "\n"
      ],
      "execution_count": null,
      "outputs": []
    },
    {
      "cell_type": "code",
      "metadata": {
        "colab": {
          "base_uri": "https://localhost:8080/"
        },
        "id": "X2o6lJWOE3u2",
        "outputId": "cf6de4d9-30cc-420f-eeb9-8423e81b04b1"
      },
      "source": [
        "print(len(top20_link[4]))"
      ],
      "execution_count": null,
      "outputs": [
        {
          "output_type": "stream",
          "name": "stdout",
          "text": [
            "97\n"
          ]
        }
      ]
    },
    {
      "cell_type": "code",
      "metadata": {
        "colab": {
          "base_uri": "https://localhost:8080/",
          "height": 663
        },
        "id": "lcQ5agBVFFF7",
        "outputId": "095f0c0c-0b11-49cc-cef6-1fcfdadfa947"
      },
      "source": [
        "top20_query=qdf.iloc[:20,:].copy()\n",
        "top20_query['url']=top20_link\n",
        "top20_query"
      ],
      "execution_count": null,
      "outputs": [
        {
          "output_type": "execute_result",
          "data": {
            "text/html": [
              "<div>\n",
              "<style scoped>\n",
              "    .dataframe tbody tr th:only-of-type {\n",
              "        vertical-align: middle;\n",
              "    }\n",
              "\n",
              "    .dataframe tbody tr th {\n",
              "        vertical-align: top;\n",
              "    }\n",
              "\n",
              "    .dataframe thead th {\n",
              "        text-align: right;\n",
              "    }\n",
              "</style>\n",
              "<table border=\"1\" class=\"dataframe\">\n",
              "  <thead>\n",
              "    <tr style=\"text-align: right;\">\n",
              "      <th></th>\n",
              "      <th>query</th>\n",
              "      <th>url</th>\n",
              "    </tr>\n",
              "  </thead>\n",
              "  <tbody>\n",
              "    <tr>\n",
              "      <th>0</th>\n",
              "      <td>columbian man lot experience known</td>\n",
              "      <td>[http://bogotastic.com/confessions-dating-colo...</td>\n",
              "    </tr>\n",
              "    <tr>\n",
              "      <th>1</th>\n",
              "      <td>researcher butcher many politician historian</td>\n",
              "      <td>[https://en.wikipedia.org/wiki/Upton_Sinclair,...</td>\n",
              "    </tr>\n",
              "    <tr>\n",
              "      <th>2</th>\n",
              "      <td>people persian hispanic many often</td>\n",
              "      <td>[https://en.wikipedia.org/wiki/Persians, https...</td>\n",
              "    </tr>\n",
              "    <tr>\n",
              "      <th>3</th>\n",
              "      <td>man muslim hispanic arab norweigan</td>\n",
              "      <td>[https://en.wikipedia.org/wiki/Hispanic_and_La...</td>\n",
              "    </tr>\n",
              "    <tr>\n",
              "      <th>4</th>\n",
              "      <td>tailor made pants suits sewed</td>\n",
              "      <td>[https://www.mycustomtailor.com/women-bespoke-...</td>\n",
              "    </tr>\n",
              "    <tr>\n",
              "      <th>5</th>\n",
              "      <td>football player players game winning</td>\n",
              "      <td>[https://en.wikipedia.org/wiki/List_of_NFL_pla...</td>\n",
              "    </tr>\n",
              "    <tr>\n",
              "      <th>6</th>\n",
              "      <td>known lebanon place woman politician</td>\n",
              "      <td>[https://en.wikipedia.org/wiki/Category:Lebane...</td>\n",
              "    </tr>\n",
              "    <tr>\n",
              "      <th>7</th>\n",
              "      <td>crimean people peninsula much always</td>\n",
              "      <td>[https://en.wikipedia.org/wiki/History_of_Crim...</td>\n",
              "    </tr>\n",
              "    <tr>\n",
              "      <th>8</th>\n",
              "      <td>afghanistan people person full reputation</td>\n",
              "      <td>[https://culturalatlas.sbs.com.au/afghan-cultu...</td>\n",
              "    </tr>\n",
              "    <tr>\n",
              "      <th>9</th>\n",
              "      <td>ghanaian people met economy world</td>\n",
              "      <td>[https://www.worldbank.org/en/country/ghana/ov...</td>\n",
              "    </tr>\n",
              "    <tr>\n",
              "      <th>10</th>\n",
              "      <td>film producer took approach making</td>\n",
              "      <td>[https://hbr.org/1977/03/a-film-directors-appr...</td>\n",
              "    </tr>\n",
              "    <tr>\n",
              "      <th>11</th>\n",
              "      <td>russian man people men often</td>\n",
              "      <td>[https://www.nytimes.com/2014/02/18/science/wh...</td>\n",
              "    </tr>\n",
              "    <tr>\n",
              "      <th>12</th>\n",
              "      <td>cape verde people population islands</td>\n",
              "      <td>[https://en.wikipedia.org/wiki/Cape_Verde, htt...</td>\n",
              "    </tr>\n",
              "    <tr>\n",
              "      <th>13</th>\n",
              "      <td>chess player move players see</td>\n",
              "      <td>[https://www.chess.com/article/view/how-many-m...</td>\n",
              "    </tr>\n",
              "    <tr>\n",
              "      <th>14</th>\n",
              "      <td>sierra leon country people despite</td>\n",
              "      <td>[https://www.bbc.com/news/world-africa-1409419...</td>\n",
              "    </tr>\n",
              "    <tr>\n",
              "      <th>15</th>\n",
              "      <td>performing artist started front crowd</td>\n",
              "      <td>[https://en.wikipedia.org/wiki/Rhythm_0, https...</td>\n",
              "    </tr>\n",
              "    <tr>\n",
              "      <th>16</th>\n",
              "      <td>entrepreneur ideas thought new plan</td>\n",
              "      <td>[https://www.businessnewsdaily.com/2747-great-...</td>\n",
              "    </tr>\n",
              "    <tr>\n",
              "      <th>17</th>\n",
              "      <td>people live cameroon civil servant</td>\n",
              "      <td>[https://patimes.org/public-servants-in-camero...</td>\n",
              "    </tr>\n",
              "    <tr>\n",
              "      <th>18</th>\n",
              "      <td>syria many country know filled</td>\n",
              "      <td>[https://en.wikipedia.org/wiki/Syria, https://...</td>\n",
              "    </tr>\n",
              "    <tr>\n",
              "      <th>19</th>\n",
              "      <td>manager employees store always company</td>\n",
              "      <td>[https://www.indeed.com/cmp/Always-Money/revie...</td>\n",
              "    </tr>\n",
              "  </tbody>\n",
              "</table>\n",
              "</div>"
            ],
            "text/plain": [
              "                                           query                                                url\n",
              "0             columbian man lot experience known  [http://bogotastic.com/confessions-dating-colo...\n",
              "1   researcher butcher many politician historian  [https://en.wikipedia.org/wiki/Upton_Sinclair,...\n",
              "2             people persian hispanic many often  [https://en.wikipedia.org/wiki/Persians, https...\n",
              "3             man muslim hispanic arab norweigan  [https://en.wikipedia.org/wiki/Hispanic_and_La...\n",
              "4                  tailor made pants suits sewed  [https://www.mycustomtailor.com/women-bespoke-...\n",
              "5           football player players game winning  [https://en.wikipedia.org/wiki/List_of_NFL_pla...\n",
              "6           known lebanon place woman politician  [https://en.wikipedia.org/wiki/Category:Lebane...\n",
              "7           crimean people peninsula much always  [https://en.wikipedia.org/wiki/History_of_Crim...\n",
              "8      afghanistan people person full reputation  [https://culturalatlas.sbs.com.au/afghan-cultu...\n",
              "9              ghanaian people met economy world  [https://www.worldbank.org/en/country/ghana/ov...\n",
              "10            film producer took approach making  [https://hbr.org/1977/03/a-film-directors-appr...\n",
              "11                  russian man people men often  [https://www.nytimes.com/2014/02/18/science/wh...\n",
              "12          cape verde people population islands  [https://en.wikipedia.org/wiki/Cape_Verde, htt...\n",
              "13                 chess player move players see  [https://www.chess.com/article/view/how-many-m...\n",
              "14            sierra leon country people despite  [https://www.bbc.com/news/world-africa-1409419...\n",
              "15         performing artist started front crowd  [https://en.wikipedia.org/wiki/Rhythm_0, https...\n",
              "16           entrepreneur ideas thought new plan  [https://www.businessnewsdaily.com/2747-great-...\n",
              "17            people live cameroon civil servant  [https://patimes.org/public-servants-in-camero...\n",
              "18                syria many country know filled  [https://en.wikipedia.org/wiki/Syria, https://...\n",
              "19        manager employees store always company  [https://www.indeed.com/cmp/Always-Money/revie..."
            ]
          },
          "metadata": {},
          "execution_count": 84
        }
      ]
    },
    {
      "cell_type": "code",
      "metadata": {
        "id": "sLLJ5BctF1-H"
      },
      "source": [
        "#save the dataframe for first 20 queries\n",
        "top20_query.to_csv(\"Top_20_query_url.csv\",index=False)"
      ],
      "execution_count": null,
      "outputs": []
    },
    {
      "cell_type": "code",
      "metadata": {
        "colab": {
          "base_uri": "https://localhost:8080/"
        },
        "id": "vx4ybNJ4GDjh",
        "outputId": "02e2341b-3054-4190-db76-aea8637fad27"
      },
      "source": [
        "top20_query['url'][0]"
      ],
      "execution_count": null,
      "outputs": [
        {
          "output_type": "execute_result",
          "data": {
            "text/plain": [
              "['http://bogotastic.com/confessions-dating-colombian-man/',\n",
              " 'https://medellinliving.com/dating_colombian_men_dos_donts/',\n",
              " 'https://openmindedtraveler.com/2020/11/27/truth-colombian-men/',\n",
              " 'https://www.luvze.com/dating-a-colombian-man/',\n",
              " 'https://learnmorethanspanish.com/blog/10-joys-and-challenges-of-having-a-colombian-partner/',\n",
              " 'https://culturalatlas.sbs.com.au/colombian-culture/colombian-culture-family',\n",
              " 'http://www.valleyhindutemple.org/netflix-and-chill-seeking/colombian-ladies-dating-colombian-men-and-dating/',\n",
              " 'https://theculturetrip.com/south-america/colombia/articles/13-things-tourists-should-never-do-in-colombia-ever/',\n",
              " 'https://expatgroup.co/english/expats-in-colombia/marrying-a-colombian-4-customs-to-be-aware-of/',\n",
              " 'https://imj.ie/colombian-dating-sites/',\n",
              " 'https://www.laidbacktrip.com/posts/things-to-know-before-visiting-colombia-travel',\n",
              " 'https://www.diversityabroad.com/articles/experiencing-life-colombia-black-man-tyler-evans',\n",
              " 'https://www.worldnomads.com/travel-safety/south-america/colombia/is-it-safe-to-travel-to-colombia',\n",
              " 'https://www.gadventures.com/blog/top-8-experiences-colombia/',\n",
              " 'https://www.nomadicmatt.com/travel-blogs/getting-stabbed-in-colombia/',\n",
              " 'https://www.brookings.edu/topic/colombia/',\n",
              " 'http://www.byr-retail-logistics.com/things-to-learn-about-dating-a-colombian-man/',\n",
              " 'https://www.everyculture.com/multi/Bu-Dr/Colombian-Americans.html',\n",
              " 'https://www.colombia.co/en/colombia-country/colombia-facts/ultimate-guide-understanding-using-colombian-spanish-slang/',\n",
              " 'https://www.pri.org/stories/2021-08-31/reclaiming-colombia-s-black-history-one-tour-time',\n",
              " 'https://www.npr.org/2021/07/12/1015185091/colombia-says-ex-military-members-were-among-the-commandos-in-haiti',\n",
              " 'https://www.airbnb.com/experiences/1638399',\n",
              " 'https://internationalliving.com/countries/colombia/',\n",
              " 'https://en.wikipedia.org/wiki/Afro-Colombians',\n",
              " 'https://www.bbc.com/news/world-latin-america-10841425',\n",
              " 'https://www.nytimes.com/2021/05/05/world/americas/colombia-covid-protests-duque.html',\n",
              " 'https://www.jstor.org/stable/23414669',\n",
              " 'https://www.migrationpolicy.org/sites/default/files/publications/RAD-ColombiaII.pdf',\n",
              " 'https://www.quora.com/What-are-pros-and-cons-about-Colombian-women',\n",
              " 'https://www.tripadvisor.com/ShowUserReviews-g294074-d8783649-r436364427-The_True_Colombian_Experience-Bogota.html',\n",
              " 'https://www.thedailybeast.com/us-admits-training-colombians-accused-of-killing-haiti-president-as-part-of-billion-dollar-war-on-drugs',\n",
              " 'https://www.newyorker.com/magazine/2018/03/05/the-afterlife-of-pablo-escobar',\n",
              " 'https://colombia.travel/en',\n",
              " 'https://www.baconismagic.ca/colombia/learning-colombian-slang/',\n",
              " 'https://www.miamiherald.com/news/nation-world/world/americas/colombia/article216894500.html',\n",
              " 'https://conflictandhealth.biomedcentral.com/articles/10.1186/s13031-021-00351-y',\n",
              " 'https://www.euraupair.com/au-pairs-from-colombia/',\n",
              " 'https://landlopers.com/2017/04/29/favorite-colombia',\n",
              " 'https://apnews.com/a23f142f6c444775a32fa3d10446cfd5/right-die-colombian-man-ends-life-government-backup',\n",
              " 'https://reliefweb.int/report/colombia/let-it-be-known-internally-displaced-colombians-speak-out',\n",
              " 'https://www.theguardian.com/global-development/2017/oct/08/trans-women-in-colombia',\n",
              " 'https://www.davidson.edu/news/2012/01/23/students-experience-hectic-pace-diplomacy-during-winter-break-trip-colombia',\n",
              " 'https://olympics.com/en/news/michael-poettoz-s-plot-to-put-colombian-winter-sports-on-the-map',\n",
              " 'https://www.aljazeera.com/opinions/2015/7/18/afro-colombians-face-surge-in-racial-violence',\n",
              " 'https://www.goabroad.com/articles/study-abroad/12-things-you-need-to-know-while-in-colombia',\n",
              " 'https://www.crowrivermedia.com/independentreview/colombian-man-faces-challenges-obtaining-h-1b-visa/article_d2af1e50-3d9b-518c-a4ea-cc68b0f30b7d.html',\n",
              " 'https://www.nywomenimmigrants.org/colombian-immigrant-scarlett-freyre/',\n",
              " 'https://colombianspanish.co/blog/top-10-colombian-slang-terms',\n",
              " 'https://expeditioncolombia.com/',\n",
              " 'https://www.britannica.com/biography/Sofia-Vergara',\n",
              " 'https://nomadicboys.com/interesting-facts-about-colombia/',\n",
              " 'https://www.fluentu.com/blog/spanish/colombian-slang/',\n",
              " 'https://latintravelguide.com/colombia/how-to-speak-colombian-spanish/short-phrases',\n",
              " 'https://search.isepstudyabroad.org/Country/Detail/48',\n",
              " 'http://www.irenees.net/bdf_fiche-experience-644_fr.html',\n",
              " 'https://www.expatexchange.com/ctryguide/4944/32/Colombia/Moving-to-Colombia-12-Things-to-Know-Before-Moving-to-Colombia',\n",
              " 'https://www.adventurouskate.com/solo-female-travel-colombia-safe/',\n",
              " 'https://www.desktodirtbag.com/things-i-hate-about-colombia/',\n",
              " 'https://www.eater.com/maps/best-bogota-restaurants',\n",
              " 'https://www.commisceo-global.com/resources/country-guides/colombia-guide',\n",
              " 'https://mrhudsonexplores.com/mr-hudson-on/coffee-beaches-and-beautiful-people-the-complete-colombian-experience/',\n",
              " 'https://www.vitalvoices.org/2016/07/combating-domestic-and-sexual-violence-in-colombia/',\n",
              " 'https://travel.gc.ca/destinations/colombia',\n",
              " 'https://wander-lush.org/best-places-to-visit-in-colombia/',\n",
              " 'https://www.viahero.com/travel-to-colombia/gay-colombia',\n",
              " 'https://www.reuters.com/world/americas/colombias-priority-is-extradite-drug-lord-otoniel-united-states-sources-2021-10-24/',\n",
              " 'https://www.mensjournal.com/travel/the-most-adventurous-ways-to-experience-colombia/',\n",
              " 'https://www.usccb.org/issues-and-action/human-life-and-dignity/migrants-refugees-and-travelers/columbianrefugees',\n",
              " 'https://www.biography.com/musician/shakira',\n",
              " 'https://southamericabackpacker.com/colombia/',\n",
              " 'https://www.nature.com/articles/d41586-018-07113-6',\n",
              " 'https://www.farmprogress.com/blogs-10-things-didnt-know-colombian-coffee-11283?ag_brand=farmfutures.com',\n",
              " 'https://www.ft.com/content/03b032e9-a745-4ea5-a718-13d86fe6fec0',\n",
              " 'https://www.lonelyplanet.com/colombia/background/other-features/a/nar/2512e6ef-e7d0-455f-b642-6d518db38a0f/363305',\n",
              " 'https://www.projectuntethered.com/things-to-do-in-cali-colombia/',\n",
              " 'https://theintercept.com/2021/07/26/colombian-mercenaries-haiti-jovenel-moise-assassination/',\n",
              " 'https://www.colombiavipservices.com/',\n",
              " 'https://www.outincolombia.com/post/is-colombia-safe-for-gay-travelers',\n",
              " 'https://www.cnn.com/travel/article/things-to-do-cartagena-colombia/index.html',\n",
              " 'https://www.uncovercolombia.com/blog/10-ways-to-describe-colombians/',\n",
              " 'https://www.sciencedirect.com/science/article/pii/S2214367X20301836',\n",
              " 'https://www.nbcnews.com/science/environment/colombia-was-deadliest-place-earth-environmental-activists-it-s-gotten-n1139861',\n",
              " 'https://www.gooverseas.com/organization/intern-colombia-reviews',\n",
              " 'https://pinkpangea.com/tips-women-travelers-colombia/',\n",
              " 'https://laxallstars.com/grassroots-growth-my-experience-in-colombia/',\n",
              " 'https://www.hub312.com/mail-order-birdes-to-be-how-you-can-find-a-colombian-wife/',\n",
              " 'https://www.wjhl.com/archives/columbian-coffee-exchange-serves-coffee-experience/',\n",
              " 'https://www.tandfonline.com/doi/full/10.1080/13691058.2017.1314012',\n",
              " 'https://thepartyingtraveler.com/2017/05/18/how-easy-is-it-to-get-cocaine-in-colombia/',\n",
              " 'https://books.google.com/books?id=mQs6wlx_amUC&pg=PA316&lpg=PA316&dq=colombian+man+lot+experience+known&source=bl&ots=E-V3uCFHnE&sig=ACfU3U250Gr2Z4Ciu9E6bFJfPsPBtr6kZA&hl=en&sa=X&ved=2ahUKEwjijYzp5v3zAhW8lWoFHYTaCNEQ6AF6BQirAhAD',\n",
              " 'https://books.google.com/books?id=h1YlEAAAQBAJ&pg=PA150&lpg=PA150&dq=colombian+man+lot+experience+known&source=bl&ots=WsfLu7-oZD&sig=ACfU3U1gN8kYVkBLVZ-bsbIq7X1KYAYJdg&hl=en&sa=X&ved=2ahUKEwjijYzp5v3zAhW8lWoFHYTaCNEQ6AF6BQitAhAD',\n",
              " 'https://books.google.com/books?id=HxbzfBU3vVUC&pg=RA9-PA32&lpg=RA9-PA32&dq=colombian+man+lot+experience+known&source=bl&ots=qledxMpR1c&sig=ACfU3U0QQ2dtGPF0Y_9qV_bYZC4R0RyRzA&hl=en&sa=X&ved=2ahUKEwjijYzp5v3zAhW8lWoFHYTaCNEQ6AF6BQisAhAD',\n",
              " 'https://books.google.com/books?id=yE55DJdig3wC&pg=PA31&lpg=PA31&dq=colombian+man+lot+experience+known&source=bl&ots=2qXEOIYk30&sig=ACfU3U0qXsIcBeX12AfB88v_sGSZr0wDMQ&hl=en&sa=X&ved=2ahUKEwjijYzp5v3zAhW8lWoFHYTaCNEQ6AF6BQimAhAD',\n",
              " 'https://kidadl.com/articles/top-colombian-last-names-with-meanings',\n",
              " 'https://books.google.com/books?id=ZUs9AQAAMAAJ&pg=RA6-PA52&lpg=RA6-PA52&dq=colombian+man+lot+experience+known&source=bl&ots=YaYX09Ms_a&sig=ACfU3U20HdqHQpA1HPrfk_w9Ndo4_IJCLQ&hl=en&sa=X&ved=2ahUKEwjijYzp5v3zAhW8lWoFHYTaCNEQ6AF6BQilAhAD',\n",
              " 'https://books.google.com/books?id=Q-g_AQAAMAAJ&pg=RA7-PA46&lpg=RA7-PA46&dq=colombian+man+lot+experience+known&source=bl&ots=g8eml17zUO&sig=ACfU3U2Jh69YRVEaHwkP0TuI-yElgeBIGQ&hl=en&sa=X&ved=2ahUKEwjijYzp5v3zAhW8lWoFHYTaCNEQ6AF6BQikAhAD',\n",
              " 'https://books.google.com/books?id=ppk7AQAAMAAJ&pg=RA7-PA39&lpg=RA7-PA39&dq=colombian+man+lot+experience+known&source=bl&ots=ALTgNXq-ed&sig=ACfU3U06Tj-k-R0tpvVhDA3rXiRQqpDzEw&hl=en&sa=X&ved=2ahUKEwjijYzp5v3zAhW8lWoFHYTaCNEQ6AF6BQijAhAD',\n",
              " 'https://www.worldliteraturetoday.org/2021/summer/colombia-treading-border-between-memory-and-magic-conversation-ingrid-rojas-contreras']"
            ]
          },
          "metadata": {},
          "execution_count": 87
        }
      ]
    },
    {
      "cell_type": "markdown",
      "source": [
        "**Second batch of query from 20 -40**"
      ],
      "metadata": {
        "id": "ur_ykRQBe0EC"
      }
    },
    {
      "cell_type": "code",
      "metadata": {
        "colab": {
          "base_uri": "https://localhost:8080/",
          "height": 680
        },
        "id": "dxblE8OEAaX8",
        "outputId": "b74b276d-3927-45a7-84db-1a87b3a107cc"
      },
      "source": [
        "top20_40query=qdf.iloc[20:40,:].copy()\n",
        "top20_40=list(top20_40query['query'])\n",
        "print(len(top20_40))\n",
        "top20_40query"
      ],
      "execution_count": null,
      "outputs": [
        {
          "output_type": "stream",
          "name": "stdout",
          "text": [
            "20\n"
          ]
        },
        {
          "output_type": "execute_result",
          "data": {
            "text/html": [
              "<div>\n",
              "<style scoped>\n",
              "    .dataframe tbody tr th:only-of-type {\n",
              "        vertical-align: middle;\n",
              "    }\n",
              "\n",
              "    .dataframe tbody tr th {\n",
              "        vertical-align: top;\n",
              "    }\n",
              "\n",
              "    .dataframe thead th {\n",
              "        text-align: right;\n",
              "    }\n",
              "</style>\n",
              "<table border=\"1\" class=\"dataframe\">\n",
              "  <thead>\n",
              "    <tr style=\"text-align: right;\">\n",
              "      <th></th>\n",
              "      <th>query</th>\n",
              "    </tr>\n",
              "  </thead>\n",
              "  <tbody>\n",
              "    <tr>\n",
              "      <th>20</th>\n",
              "      <td>ukrainian weather britain accent norway</td>\n",
              "    </tr>\n",
              "    <tr>\n",
              "      <th>21</th>\n",
              "      <td>delivery man packages always waiting</td>\n",
              "    </tr>\n",
              "    <tr>\n",
              "      <th>22</th>\n",
              "      <td>software developer conversation enjoyed time</td>\n",
              "    </tr>\n",
              "    <tr>\n",
              "      <th>23</th>\n",
              "      <td>bangladesh country lots typically portrayed</td>\n",
              "    </tr>\n",
              "    <tr>\n",
              "      <th>24</th>\n",
              "      <td>hispanic friend always usually guess</td>\n",
              "    </tr>\n",
              "    <tr>\n",
              "      <th>25</th>\n",
              "      <td>lab chemist new known around</td>\n",
              "    </tr>\n",
              "    <tr>\n",
              "      <th>26</th>\n",
              "      <td>mover job move carried couch</td>\n",
              "    </tr>\n",
              "    <tr>\n",
              "      <th>27</th>\n",
              "      <td>ethiopian child seeing first time</td>\n",
              "    </tr>\n",
              "    <tr>\n",
              "      <th>28</th>\n",
              "      <td>country vietnam yemen spain cameroon</td>\n",
              "    </tr>\n",
              "    <tr>\n",
              "      <th>29</th>\n",
              "      <td>guitarist band gig upcoming weekend</td>\n",
              "    </tr>\n",
              "    <tr>\n",
              "      <th>30</th>\n",
              "      <td>every musician hopes get</td>\n",
              "    </tr>\n",
              "    <tr>\n",
              "      <th>31</th>\n",
              "      <td>getting know new student afghanistan</td>\n",
              "    </tr>\n",
              "    <tr>\n",
              "      <th>32</th>\n",
              "      <td>chemist created different solutions mixed</td>\n",
              "    </tr>\n",
              "    <tr>\n",
              "      <th>33</th>\n",
              "      <td>civil servant life trudges worked</td>\n",
              "    </tr>\n",
              "    <tr>\n",
              "      <th>34</th>\n",
              "      <td>ethiopian people woman see children</td>\n",
              "    </tr>\n",
              "    <tr>\n",
              "      <th>35</th>\n",
              "      <td>norweigan people hair moving chair</td>\n",
              "    </tr>\n",
              "    <tr>\n",
              "      <th>36</th>\n",
              "      <td>afghanistan country heard visit came</td>\n",
              "    </tr>\n",
              "    <tr>\n",
              "      <th>37</th>\n",
              "      <td>historian professor lot subjects talk</td>\n",
              "    </tr>\n",
              "    <tr>\n",
              "      <th>38</th>\n",
              "      <td>commander men good promote immediately</td>\n",
              "    </tr>\n",
              "    <tr>\n",
              "      <th>39</th>\n",
              "      <td>tend ethiopians hispanics butcher come</td>\n",
              "    </tr>\n",
              "  </tbody>\n",
              "</table>\n",
              "</div>"
            ],
            "text/plain": [
              "                                           query\n",
              "20       ukrainian weather britain accent norway\n",
              "21          delivery man packages always waiting\n",
              "22  software developer conversation enjoyed time\n",
              "23   bangladesh country lots typically portrayed\n",
              "24          hispanic friend always usually guess\n",
              "25                  lab chemist new known around\n",
              "26                  mover job move carried couch\n",
              "27             ethiopian child seeing first time\n",
              "28          country vietnam yemen spain cameroon\n",
              "29           guitarist band gig upcoming weekend\n",
              "30                      every musician hopes get\n",
              "31          getting know new student afghanistan\n",
              "32     chemist created different solutions mixed\n",
              "33             civil servant life trudges worked\n",
              "34           ethiopian people woman see children\n",
              "35            norweigan people hair moving chair\n",
              "36          afghanistan country heard visit came\n",
              "37         historian professor lot subjects talk\n",
              "38        commander men good promote immediately\n",
              "39        tend ethiopians hispanics butcher come"
            ]
          },
          "metadata": {},
          "execution_count": 94
        }
      ]
    },
    {
      "cell_type": "code",
      "metadata": {
        "colab": {
          "base_uri": "https://localhost:8080/",
          "height": 663
        },
        "id": "78g1DWEWH48r",
        "outputId": "3152235e-eba4-4de6-a9ac-37913ac1b6c4"
      },
      "source": [
        "top20_40link=[]\n",
        "for i in top20_40:\n",
        "  search = GoogleSearch({\"q\": i,\"num\": 500,\"api_key\": 'f32a6960b2be4b522732bd4048f94648f75250b0e5a02fe2708665c305a1a613'})\n",
        "  result = search.get_dict()\n",
        "  link=[]\n",
        "  for j in range(len(result['organic_results'])):\n",
        "    link.append(result['organic_results'][j]['link'])\n",
        "  top20_40link.append(link) \n",
        "\n",
        "top20_40query['url']=top20_40link\n",
        "top20_40query"
      ],
      "execution_count": null,
      "outputs": [
        {
          "output_type": "execute_result",
          "data": {
            "text/html": [
              "<div>\n",
              "<style scoped>\n",
              "    .dataframe tbody tr th:only-of-type {\n",
              "        vertical-align: middle;\n",
              "    }\n",
              "\n",
              "    .dataframe tbody tr th {\n",
              "        vertical-align: top;\n",
              "    }\n",
              "\n",
              "    .dataframe thead th {\n",
              "        text-align: right;\n",
              "    }\n",
              "</style>\n",
              "<table border=\"1\" class=\"dataframe\">\n",
              "  <thead>\n",
              "    <tr style=\"text-align: right;\">\n",
              "      <th></th>\n",
              "      <th>query</th>\n",
              "      <th>url</th>\n",
              "    </tr>\n",
              "  </thead>\n",
              "  <tbody>\n",
              "    <tr>\n",
              "      <th>20</th>\n",
              "      <td>ukrainian weather britain accent norway</td>\n",
              "      <td>[https://en.wikipedia.org/wiki/Russenorsk, htt...</td>\n",
              "    </tr>\n",
              "    <tr>\n",
              "      <th>21</th>\n",
              "      <td>delivery man packages always waiting</td>\n",
              "      <td>[https://www.quora.com/Why-do-I-have-to-stay-h...</td>\n",
              "    </tr>\n",
              "    <tr>\n",
              "      <th>22</th>\n",
              "      <td>software developer conversation enjoyed time</td>\n",
              "      <td>[https://hbr.org/2021/07/career-crush-what-is-...</td>\n",
              "    </tr>\n",
              "    <tr>\n",
              "      <th>23</th>\n",
              "      <td>bangladesh country lots typically portrayed</td>\n",
              "      <td>[https://en.wikipedia.org/wiki/Bangladesh, htt...</td>\n",
              "    </tr>\n",
              "    <tr>\n",
              "      <th>24</th>\n",
              "      <td>hispanic friend always usually guess</td>\n",
              "      <td>[https://www.pewresearch.org/fact-tank/2019/06...</td>\n",
              "    </tr>\n",
              "    <tr>\n",
              "      <th>25</th>\n",
              "      <td>lab chemist new known around</td>\n",
              "      <td>[https://www.zippia.com/laboratory-chemist-job...</td>\n",
              "    </tr>\n",
              "    <tr>\n",
              "      <th>26</th>\n",
              "      <td>mover job move carried couch</td>\n",
              "      <td>[https://twomenandatruck.com/local-moving/furn...</td>\n",
              "    </tr>\n",
              "    <tr>\n",
              "      <th>27</th>\n",
              "      <td>ethiopian child seeing first time</td>\n",
              "      <td>[https://www.unicef.org/ethiopia/stories/givin...</td>\n",
              "    </tr>\n",
              "    <tr>\n",
              "      <th>28</th>\n",
              "      <td>country vietnam yemen spain cameroon</td>\n",
              "      <td>[https://theodora.com/flags_20.html, https://e...</td>\n",
              "    </tr>\n",
              "    <tr>\n",
              "      <th>29</th>\n",
              "      <td>guitarist band gig upcoming weekend</td>\n",
              "      <td>[https://www.bandsintown.com/, https://www.don...</td>\n",
              "    </tr>\n",
              "    <tr>\n",
              "      <th>30</th>\n",
              "      <td>every musician hopes get</td>\n",
              "      <td>[https://thebrag.com/pond-1/, https://singforh...</td>\n",
              "    </tr>\n",
              "    <tr>\n",
              "      <th>31</th>\n",
              "      <td>getting know new student afghanistan</td>\n",
              "      <td>[https://www.unicef.org/afghanistan/education,...</td>\n",
              "    </tr>\n",
              "    <tr>\n",
              "      <th>32</th>\n",
              "      <td>chemist created different solutions mixed</td>\n",
              "      <td>[https://chem.libretexts.org/Bookshelves/Gener...</td>\n",
              "    </tr>\n",
              "    <tr>\n",
              "      <th>33</th>\n",
              "      <td>civil servant life trudges worked</td>\n",
              "      <td>[https://www.amazon.com/Civil-Servant-My-Life-...</td>\n",
              "    </tr>\n",
              "    <tr>\n",
              "      <th>34</th>\n",
              "      <td>ethiopian people woman see children</td>\n",
              "      <td>[https://www.pinterest.com/pin/441493569695072...</td>\n",
              "    </tr>\n",
              "    <tr>\n",
              "      <th>35</th>\n",
              "      <td>norweigan people hair moving chair</td>\n",
              "      <td>[https://www.amazon.com/Fjords-Norwegian-Scand...</td>\n",
              "    </tr>\n",
              "    <tr>\n",
              "      <th>36</th>\n",
              "      <td>afghanistan country heard visit came</td>\n",
              "      <td>[https://www.reuters.com/world/asia-pacific/bl...</td>\n",
              "    </tr>\n",
              "    <tr>\n",
              "      <th>37</th>\n",
              "      <td>historian professor lot subjects talk</td>\n",
              "      <td>[https://activehistory.ca/2021/06/being-a-prof...</td>\n",
              "    </tr>\n",
              "    <tr>\n",
              "      <th>38</th>\n",
              "      <td>commander men good promote immediately</td>\n",
              "      <td>[https://www.militaryonesource.mil/military-li...</td>\n",
              "    </tr>\n",
              "    <tr>\n",
              "      <th>39</th>\n",
              "      <td>tend ethiopians hispanics butcher come</td>\n",
              "      <td>[https://www.bbc.com/news/world-us-canada-3291...</td>\n",
              "    </tr>\n",
              "  </tbody>\n",
              "</table>\n",
              "</div>"
            ],
            "text/plain": [
              "                                           query                                                url\n",
              "20       ukrainian weather britain accent norway  [https://en.wikipedia.org/wiki/Russenorsk, htt...\n",
              "21          delivery man packages always waiting  [https://www.quora.com/Why-do-I-have-to-stay-h...\n",
              "22  software developer conversation enjoyed time  [https://hbr.org/2021/07/career-crush-what-is-...\n",
              "23   bangladesh country lots typically portrayed  [https://en.wikipedia.org/wiki/Bangladesh, htt...\n",
              "24          hispanic friend always usually guess  [https://www.pewresearch.org/fact-tank/2019/06...\n",
              "25                  lab chemist new known around  [https://www.zippia.com/laboratory-chemist-job...\n",
              "26                  mover job move carried couch  [https://twomenandatruck.com/local-moving/furn...\n",
              "27             ethiopian child seeing first time  [https://www.unicef.org/ethiopia/stories/givin...\n",
              "28          country vietnam yemen spain cameroon  [https://theodora.com/flags_20.html, https://e...\n",
              "29           guitarist band gig upcoming weekend  [https://www.bandsintown.com/, https://www.don...\n",
              "30                      every musician hopes get  [https://thebrag.com/pond-1/, https://singforh...\n",
              "31          getting know new student afghanistan  [https://www.unicef.org/afghanistan/education,...\n",
              "32     chemist created different solutions mixed  [https://chem.libretexts.org/Bookshelves/Gener...\n",
              "33             civil servant life trudges worked  [https://www.amazon.com/Civil-Servant-My-Life-...\n",
              "34           ethiopian people woman see children  [https://www.pinterest.com/pin/441493569695072...\n",
              "35            norweigan people hair moving chair  [https://www.amazon.com/Fjords-Norwegian-Scand...\n",
              "36          afghanistan country heard visit came  [https://www.reuters.com/world/asia-pacific/bl...\n",
              "37         historian professor lot subjects talk  [https://activehistory.ca/2021/06/being-a-prof...\n",
              "38        commander men good promote immediately  [https://www.militaryonesource.mil/military-li...\n",
              "39        tend ethiopians hispanics butcher come  [https://www.bbc.com/news/world-us-canada-3291..."
            ]
          },
          "metadata": {},
          "execution_count": 95
        }
      ]
    },
    {
      "cell_type": "code",
      "metadata": {
        "id": "HyBex94NLJFo"
      },
      "source": [
        "top20_40query.to_csv(\"Top_20_40query_url.csv\",index=True)"
      ],
      "execution_count": null,
      "outputs": []
    },
    {
      "cell_type": "code",
      "metadata": {
        "colab": {
          "base_uri": "https://localhost:8080/"
        },
        "id": "m9VA93fYMHLk",
        "outputId": "2051434e-27fd-4775-df86-5f3eb797101f"
      },
      "source": [
        "len(top20_40query['url'][30])"
      ],
      "execution_count": null,
      "outputs": [
        {
          "output_type": "execute_result",
          "data": {
            "text/plain": [
              "99"
            ]
          },
          "metadata": {},
          "execution_count": 114
        }
      ]
    },
    {
      "cell_type": "markdown",
      "source": [
        "**3rd batch of queries from 40 - 60**"
      ],
      "metadata": {
        "id": "R4Bb3s0ae_mt"
      }
    },
    {
      "cell_type": "code",
      "metadata": {
        "colab": {
          "base_uri": "https://localhost:8080/",
          "height": 680
        },
        "id": "crv-UNyOMnBP",
        "outputId": "39f10c36-8200-41b7-a5f7-f2eeb3b208eb"
      },
      "source": [
        "\n",
        "top40_60query=qdf.iloc[40:60,:].copy()\n",
        "top40_60=list(top40_60query['query'])\n",
        "print(len(top40_60))\n",
        "top40_60query"
      ],
      "execution_count": null,
      "outputs": [
        {
          "output_type": "stream",
          "name": "stdout",
          "text": [
            "20\n"
          ]
        },
        {
          "output_type": "execute_result",
          "data": {
            "text/html": [
              "<div>\n",
              "<style scoped>\n",
              "    .dataframe tbody tr th:only-of-type {\n",
              "        vertical-align: middle;\n",
              "    }\n",
              "\n",
              "    .dataframe tbody tr th {\n",
              "        vertical-align: top;\n",
              "    }\n",
              "\n",
              "    .dataframe thead th {\n",
              "        text-align: right;\n",
              "    }\n",
              "</style>\n",
              "<table border=\"1\" class=\"dataframe\">\n",
              "  <thead>\n",
              "    <tr style=\"text-align: right;\">\n",
              "      <th></th>\n",
              "      <th>query</th>\n",
              "    </tr>\n",
              "  </thead>\n",
              "  <tbody>\n",
              "    <tr>\n",
              "      <th>40</th>\n",
              "      <td>engineer made need coworkers agreed</td>\n",
              "    </tr>\n",
              "    <tr>\n",
              "      <th>41</th>\n",
              "      <td>friend grandfather still always fascinated</td>\n",
              "    </tr>\n",
              "    <tr>\n",
              "      <th>42</th>\n",
              "      <td>grandfather truly comes raising parents</td>\n",
              "    </tr>\n",
              "    <tr>\n",
              "      <th>43</th>\n",
              "      <td>saudi arabian man showed mercedes</td>\n",
              "    </tr>\n",
              "    <tr>\n",
              "      <th>44</th>\n",
              "      <td>mommy children girl young child</td>\n",
              "    </tr>\n",
              "    <tr>\n",
              "      <th>45</th>\n",
              "      <td>ethiopia full accomplished everyone know</td>\n",
              "    </tr>\n",
              "    <tr>\n",
              "      <th>46</th>\n",
              "      <td>nurse took time hospital spoke</td>\n",
              "    </tr>\n",
              "    <tr>\n",
              "      <th>47</th>\n",
              "      <td>bible book comes woman believed</td>\n",
              "    </tr>\n",
              "    <tr>\n",
              "      <th>48</th>\n",
              "      <td>brahmin people seen run town</td>\n",
              "    </tr>\n",
              "    <tr>\n",
              "      <th>49</th>\n",
              "      <td>iraq political around may many</td>\n",
              "    </tr>\n",
              "    <tr>\n",
              "      <th>50</th>\n",
              "      <td>ethiopia many people living country</td>\n",
              "    </tr>\n",
              "    <tr>\n",
              "      <th>51</th>\n",
              "      <td>people ecuador speak earth choose</td>\n",
              "    </tr>\n",
              "    <tr>\n",
              "      <th>52</th>\n",
              "      <td>italy people always chefs famous</td>\n",
              "    </tr>\n",
              "    <tr>\n",
              "      <th>53</th>\n",
              "      <td>would family asked nurse time</td>\n",
              "    </tr>\n",
              "    <tr>\n",
              "      <th>54</th>\n",
              "      <td>physicist began work long term</td>\n",
              "    </tr>\n",
              "    <tr>\n",
              "      <th>55</th>\n",
              "      <td>people ethiopia lots image one</td>\n",
              "    </tr>\n",
              "    <tr>\n",
              "      <th>56</th>\n",
              "      <td>bengali man friend know jungles</td>\n",
              "    </tr>\n",
              "    <tr>\n",
              "      <th>57</th>\n",
              "      <td>policeman approached us helped neighborhood</td>\n",
              "    </tr>\n",
              "    <tr>\n",
              "      <th>58</th>\n",
              "      <td>mother children always know refers</td>\n",
              "    </tr>\n",
              "    <tr>\n",
              "      <th>59</th>\n",
              "      <td>prisoner prison man type person</td>\n",
              "    </tr>\n",
              "  </tbody>\n",
              "</table>\n",
              "</div>"
            ],
            "text/plain": [
              "                                          query\n",
              "40          engineer made need coworkers agreed\n",
              "41   friend grandfather still always fascinated\n",
              "42      grandfather truly comes raising parents\n",
              "43            saudi arabian man showed mercedes\n",
              "44              mommy children girl young child\n",
              "45     ethiopia full accomplished everyone know\n",
              "46               nurse took time hospital spoke\n",
              "47              bible book comes woman believed\n",
              "48                 brahmin people seen run town\n",
              "49               iraq political around may many\n",
              "50          ethiopia many people living country\n",
              "51            people ecuador speak earth choose\n",
              "52             italy people always chefs famous\n",
              "53                would family asked nurse time\n",
              "54               physicist began work long term\n",
              "55               people ethiopia lots image one\n",
              "56              bengali man friend know jungles\n",
              "57  policeman approached us helped neighborhood\n",
              "58           mother children always know refers\n",
              "59              prisoner prison man type person"
            ]
          },
          "metadata": {},
          "execution_count": 116
        }
      ]
    },
    {
      "cell_type": "code",
      "metadata": {
        "colab": {
          "base_uri": "https://localhost:8080/",
          "height": 663
        },
        "id": "oPNzWDzuUd47",
        "outputId": "b94ce514-6193-4c70-fada-1b4e62a90f82"
      },
      "source": [
        "top40_60link=[]\n",
        "for i in top40_60:\n",
        "  search = GoogleSearch({\"q\": i,\"num\": 500,\"api_key\": '0e25b203ddd91e2f26cc4253d5f45ffa55775bc8a6a7700c3600f989577ee66b'})\n",
        "  result = search.get_dict()\n",
        "  link=[]\n",
        "  for j in range(len(result['organic_results'])):\n",
        "    link.append(result['organic_results'][j]['link'])\n",
        "  top40_60link.append(link) \n",
        "\n",
        "top40_60query['url']=top40_60link\n",
        "top40_60query"
      ],
      "execution_count": null,
      "outputs": [
        {
          "output_type": "execute_result",
          "data": {
            "text/html": [
              "<div>\n",
              "<style scoped>\n",
              "    .dataframe tbody tr th:only-of-type {\n",
              "        vertical-align: middle;\n",
              "    }\n",
              "\n",
              "    .dataframe tbody tr th {\n",
              "        vertical-align: top;\n",
              "    }\n",
              "\n",
              "    .dataframe thead th {\n",
              "        text-align: right;\n",
              "    }\n",
              "</style>\n",
              "<table border=\"1\" class=\"dataframe\">\n",
              "  <thead>\n",
              "    <tr style=\"text-align: right;\">\n",
              "      <th></th>\n",
              "      <th>query</th>\n",
              "      <th>url</th>\n",
              "    </tr>\n",
              "  </thead>\n",
              "  <tbody>\n",
              "    <tr>\n",
              "      <th>40</th>\n",
              "      <td>engineer made need coworkers agreed</td>\n",
              "      <td>[https://www.nspe.org/resources/ethics/ethics-...</td>\n",
              "    </tr>\n",
              "    <tr>\n",
              "      <th>41</th>\n",
              "      <td>friend grandfather still always fascinated</td>\n",
              "      <td>[https://www.azcentral.com/story/opinion/op-ed...</td>\n",
              "    </tr>\n",
              "    <tr>\n",
              "      <th>42</th>\n",
              "      <td>grandfather truly comes raising parents</td>\n",
              "      <td>[https://www.helpguide.org/articles/parenting-...</td>\n",
              "    </tr>\n",
              "    <tr>\n",
              "      <th>43</th>\n",
              "      <td>saudi arabian man showed mercedes</td>\n",
              "      <td>[https://www.gulftoday.ae/news/2020/01/25/saud...</td>\n",
              "    </tr>\n",
              "    <tr>\n",
              "      <th>44</th>\n",
              "      <td>mommy children girl young child</td>\n",
              "      <td>[https://www.pinterest.com/pin/191825265357261...</td>\n",
              "    </tr>\n",
              "    <tr>\n",
              "      <th>45</th>\n",
              "      <td>ethiopia full accomplished everyone know</td>\n",
              "      <td>[https://www.bbc.com/news/world-africa-4356700...</td>\n",
              "    </tr>\n",
              "    <tr>\n",
              "      <th>46</th>\n",
              "      <td>nurse took time hospital spoke</td>\n",
              "      <td>[https://www.nytimes.com/2020/04/09/business/c...</td>\n",
              "    </tr>\n",
              "    <tr>\n",
              "      <th>47</th>\n",
              "      <td>bible book comes woman believed</td>\n",
              "      <td>[https://en.wikipedia.org/wiki/The_Woman%27s_B...</td>\n",
              "    </tr>\n",
              "    <tr>\n",
              "      <th>48</th>\n",
              "      <td>brahmin people seen run town</td>\n",
              "      <td>[https://en.wikipedia.org/wiki/Brahmin, https:...</td>\n",
              "    </tr>\n",
              "    <tr>\n",
              "      <th>49</th>\n",
              "      <td>iraq political around may many</td>\n",
              "      <td>[https://www.brookings.edu/blog/order-from-cha...</td>\n",
              "    </tr>\n",
              "    <tr>\n",
              "      <th>50</th>\n",
              "      <td>ethiopia many people living country</td>\n",
              "      <td>[https://worldpopulationreview.com/countries/e...</td>\n",
              "    </tr>\n",
              "    <tr>\n",
              "      <th>51</th>\n",
              "      <td>people ecuador speak earth choose</td>\n",
              "      <td>[https://www.adventure-life.com/ecuador/articl...</td>\n",
              "    </tr>\n",
              "    <tr>\n",
              "      <th>52</th>\n",
              "      <td>italy people always chefs famous</td>\n",
              "      <td>[https://nerdyfoodies.com/famous-italian-chefs...</td>\n",
              "    </tr>\n",
              "    <tr>\n",
              "      <th>53</th>\n",
              "      <td>would family asked nurse time</td>\n",
              "      <td>[https://milnepublishing.geneseo.edu/nursingca...</td>\n",
              "    </tr>\n",
              "    <tr>\n",
              "      <th>54</th>\n",
              "      <td>physicist began work long term</td>\n",
              "      <td>[https://en.wikipedia.org/wiki/History_of_phys...</td>\n",
              "    </tr>\n",
              "    <tr>\n",
              "      <th>55</th>\n",
              "      <td>people ethiopia lots image one</td>\n",
              "      <td>[https://www.alamy.com/stock-photo/ethiopian-p...</td>\n",
              "    </tr>\n",
              "    <tr>\n",
              "      <th>56</th>\n",
              "      <td>bengali man friend know jungles</td>\n",
              "      <td>[https://en.wikipedia.org/wiki/List_of_The_Jun...</td>\n",
              "    </tr>\n",
              "    <tr>\n",
              "      <th>57</th>\n",
              "      <td>policeman approached us helped neighborhood</td>\n",
              "      <td>[https://www.ojp.gov/pdffiles/commp.pdf, https...</td>\n",
              "    </tr>\n",
              "    <tr>\n",
              "      <th>58</th>\n",
              "      <td>mother children always know refers</td>\n",
              "      <td>[https://www.creativehealthyfamily.com/quotes-...</td>\n",
              "    </tr>\n",
              "    <tr>\n",
              "      <th>59</th>\n",
              "      <td>prisoner prison man type person</td>\n",
              "      <td>[https://www.corrections1.com/correctional-psy...</td>\n",
              "    </tr>\n",
              "  </tbody>\n",
              "</table>\n",
              "</div>"
            ],
            "text/plain": [
              "                                          query                                                url\n",
              "40          engineer made need coworkers agreed  [https://www.nspe.org/resources/ethics/ethics-...\n",
              "41   friend grandfather still always fascinated  [https://www.azcentral.com/story/opinion/op-ed...\n",
              "42      grandfather truly comes raising parents  [https://www.helpguide.org/articles/parenting-...\n",
              "43            saudi arabian man showed mercedes  [https://www.gulftoday.ae/news/2020/01/25/saud...\n",
              "44              mommy children girl young child  [https://www.pinterest.com/pin/191825265357261...\n",
              "45     ethiopia full accomplished everyone know  [https://www.bbc.com/news/world-africa-4356700...\n",
              "46               nurse took time hospital spoke  [https://www.nytimes.com/2020/04/09/business/c...\n",
              "47              bible book comes woman believed  [https://en.wikipedia.org/wiki/The_Woman%27s_B...\n",
              "48                 brahmin people seen run town  [https://en.wikipedia.org/wiki/Brahmin, https:...\n",
              "49               iraq political around may many  [https://www.brookings.edu/blog/order-from-cha...\n",
              "50          ethiopia many people living country  [https://worldpopulationreview.com/countries/e...\n",
              "51            people ecuador speak earth choose  [https://www.adventure-life.com/ecuador/articl...\n",
              "52             italy people always chefs famous  [https://nerdyfoodies.com/famous-italian-chefs...\n",
              "53                would family asked nurse time  [https://milnepublishing.geneseo.edu/nursingca...\n",
              "54               physicist began work long term  [https://en.wikipedia.org/wiki/History_of_phys...\n",
              "55               people ethiopia lots image one  [https://www.alamy.com/stock-photo/ethiopian-p...\n",
              "56              bengali man friend know jungles  [https://en.wikipedia.org/wiki/List_of_The_Jun...\n",
              "57  policeman approached us helped neighborhood  [https://www.ojp.gov/pdffiles/commp.pdf, https...\n",
              "58           mother children always know refers  [https://www.creativehealthyfamily.com/quotes-...\n",
              "59              prisoner prison man type person  [https://www.corrections1.com/correctional-psy..."
            ]
          },
          "metadata": {},
          "execution_count": 117
        }
      ]
    },
    {
      "cell_type": "code",
      "metadata": {
        "id": "UL6JKi5XV0Ks"
      },
      "source": [
        "top40_60query.to_csv(\"Top_40_60query_url.csv\",index=True)"
      ],
      "execution_count": null,
      "outputs": []
    },
    {
      "cell_type": "markdown",
      "source": [
        "**4th batch of query from 60-80**"
      ],
      "metadata": {
        "id": "9NQkdtj_fjIS"
      }
    },
    {
      "cell_type": "code",
      "metadata": {
        "colab": {
          "base_uri": "https://localhost:8080/",
          "height": 680
        },
        "id": "7buiytEIWjFQ",
        "outputId": "b2856945-d67d-49c6-d7ab-84edc8e946e9"
      },
      "source": [
        "\n",
        "top60_80query=qdf.iloc[60:80,:].copy()\n",
        "top60_80=list(top60_80query['query'])\n",
        "print(len(top60_80))\n",
        "top60_80query"
      ],
      "execution_count": null,
      "outputs": [
        {
          "output_type": "stream",
          "name": "stdout",
          "text": [
            "20\n"
          ]
        },
        {
          "output_type": "execute_result",
          "data": {
            "text/html": [
              "<div>\n",
              "<style scoped>\n",
              "    .dataframe tbody tr th:only-of-type {\n",
              "        vertical-align: middle;\n",
              "    }\n",
              "\n",
              "    .dataframe tbody tr th {\n",
              "        vertical-align: top;\n",
              "    }\n",
              "\n",
              "    .dataframe thead th {\n",
              "        text-align: right;\n",
              "    }\n",
              "</style>\n",
              "<table border=\"1\" class=\"dataframe\">\n",
              "  <thead>\n",
              "    <tr style=\"text-align: right;\">\n",
              "      <th></th>\n",
              "      <th>query</th>\n",
              "    </tr>\n",
              "  </thead>\n",
              "  <tbody>\n",
              "    <tr>\n",
              "      <th>60</th>\n",
              "      <td>courtroom prosecutor proved</td>\n",
              "    </tr>\n",
              "    <tr>\n",
              "      <th>61</th>\n",
              "      <td>schoolboy always saw wearing dinner</td>\n",
              "    </tr>\n",
              "    <tr>\n",
              "      <th>62</th>\n",
              "      <td>bartender good serving drinks pace</td>\n",
              "    </tr>\n",
              "    <tr>\n",
              "      <th>63</th>\n",
              "      <td>eritrean people known wow person</td>\n",
              "    </tr>\n",
              "    <tr>\n",
              "      <th>64</th>\n",
              "      <td>person sierra leon ancestors descended</td>\n",
              "    </tr>\n",
              "    <tr>\n",
              "      <th>65</th>\n",
              "      <td>civil servant job obviously work</td>\n",
              "    </tr>\n",
              "    <tr>\n",
              "      <th>66</th>\n",
              "      <td>arab religion inspires reading book</td>\n",
              "    </tr>\n",
              "    <tr>\n",
              "      <th>67</th>\n",
              "      <td>schoolgirl school every day gave</td>\n",
              "    </tr>\n",
              "    <tr>\n",
              "      <th>68</th>\n",
              "      <td>grandfather always grandchildren age sometimes</td>\n",
              "    </tr>\n",
              "    <tr>\n",
              "      <th>69</th>\n",
              "      <td>somalia country place women bedrock</td>\n",
              "    </tr>\n",
              "    <tr>\n",
              "      <th>70</th>\n",
              "      <td>job football player constant source</td>\n",
              "    </tr>\n",
              "    <tr>\n",
              "      <th>71</th>\n",
              "      <td>gentlemen doors room always go</td>\n",
              "    </tr>\n",
              "    <tr>\n",
              "      <th>72</th>\n",
              "      <td>sister always younger likely attitude</td>\n",
              "    </tr>\n",
              "    <tr>\n",
              "      <th>73</th>\n",
              "      <td>prosecutor case witness cases seemed</td>\n",
              "    </tr>\n",
              "    <tr>\n",
              "      <th>74</th>\n",
              "      <td>dad said brought musician home</td>\n",
              "    </tr>\n",
              "    <tr>\n",
              "      <th>75</th>\n",
              "      <td>cameroon people everyone area mostly</td>\n",
              "    </tr>\n",
              "    <tr>\n",
              "      <th>76</th>\n",
              "      <td>people jordan filled bengali weddings</td>\n",
              "    </tr>\n",
              "    <tr>\n",
              "      <th>77</th>\n",
              "      <td>mohammed living yemen lebanon</td>\n",
              "    </tr>\n",
              "    <tr>\n",
              "      <th>78</th>\n",
              "      <td>psychologist talked peer voice</td>\n",
              "    </tr>\n",
              "    <tr>\n",
              "      <th>79</th>\n",
              "      <td>psychologist friend known last found</td>\n",
              "    </tr>\n",
              "  </tbody>\n",
              "</table>\n",
              "</div>"
            ],
            "text/plain": [
              "                                             query\n",
              "60                     courtroom prosecutor proved\n",
              "61             schoolboy always saw wearing dinner\n",
              "62              bartender good serving drinks pace\n",
              "63                eritrean people known wow person\n",
              "64          person sierra leon ancestors descended\n",
              "65                civil servant job obviously work\n",
              "66             arab religion inspires reading book\n",
              "67                schoolgirl school every day gave\n",
              "68  grandfather always grandchildren age sometimes\n",
              "69             somalia country place women bedrock\n",
              "70             job football player constant source\n",
              "71                  gentlemen doors room always go\n",
              "72           sister always younger likely attitude\n",
              "73            prosecutor case witness cases seemed\n",
              "74                  dad said brought musician home\n",
              "75            cameroon people everyone area mostly\n",
              "76           people jordan filled bengali weddings\n",
              "77                   mohammed living yemen lebanon\n",
              "78                  psychologist talked peer voice\n",
              "79            psychologist friend known last found"
            ]
          },
          "metadata": {},
          "execution_count": 119
        }
      ]
    },
    {
      "cell_type": "code",
      "metadata": {
        "colab": {
          "base_uri": "https://localhost:8080/",
          "height": 663
        },
        "id": "mY1SzWnKW1kw",
        "outputId": "7c643492-3d5b-4694-abc5-fce6b666f370"
      },
      "source": [
        "top60_80link=[]\n",
        "for i in top60_80:\n",
        "  search = GoogleSearch({\"q\": i,\"num\": 500,\"api_key\": 'c759ff1bf1f0176aa8b0eed011bc9cd131230752d4738239e813e1146dd4fdd7'})\n",
        "  result = search.get_dict()\n",
        "  link=[]\n",
        "  for j in range(len(result['organic_results'])):\n",
        "    link.append(result['organic_results'][j]['link'])\n",
        "  top60_80link.append(link) \n",
        "\n",
        "top60_80query['url']=top60_80link\n",
        "top60_80query"
      ],
      "execution_count": null,
      "outputs": [
        {
          "output_type": "execute_result",
          "data": {
            "text/html": [
              "<div>\n",
              "<style scoped>\n",
              "    .dataframe tbody tr th:only-of-type {\n",
              "        vertical-align: middle;\n",
              "    }\n",
              "\n",
              "    .dataframe tbody tr th {\n",
              "        vertical-align: top;\n",
              "    }\n",
              "\n",
              "    .dataframe thead th {\n",
              "        text-align: right;\n",
              "    }\n",
              "</style>\n",
              "<table border=\"1\" class=\"dataframe\">\n",
              "  <thead>\n",
              "    <tr style=\"text-align: right;\">\n",
              "      <th></th>\n",
              "      <th>query</th>\n",
              "      <th>url</th>\n",
              "    </tr>\n",
              "  </thead>\n",
              "  <tbody>\n",
              "    <tr>\n",
              "      <th>60</th>\n",
              "      <td>courtroom prosecutor proved</td>\n",
              "      <td>[https://www.justice.gov/usao/justice-101/tria...</td>\n",
              "    </tr>\n",
              "    <tr>\n",
              "      <th>61</th>\n",
              "      <td>schoolboy always saw wearing dinner</td>\n",
              "      <td>[https://charlestownbridge.com/2016/02/26/old-...</td>\n",
              "    </tr>\n",
              "    <tr>\n",
              "      <th>62</th>\n",
              "      <td>bartender good serving drinks pace</td>\n",
              "      <td>[https://www.liquor.com/articles/how-to-speed-...</td>\n",
              "    </tr>\n",
              "    <tr>\n",
              "      <th>63</th>\n",
              "      <td>eritrean people known wow person</td>\n",
              "      <td>[https://www.everyculture.com/Cr-Ga/Eritrea.ht...</td>\n",
              "    </tr>\n",
              "    <tr>\n",
              "      <th>64</th>\n",
              "      <td>person sierra leon ancestors descended</td>\n",
              "      <td>[https://www.bbc.com/news/world-africa-4972646...</td>\n",
              "    </tr>\n",
              "    <tr>\n",
              "      <th>65</th>\n",
              "      <td>civil servant job obviously work</td>\n",
              "      <td>[https://www.theguardian.com/public-leaders-ne...</td>\n",
              "    </tr>\n",
              "    <tr>\n",
              "      <th>66</th>\n",
              "      <td>arab religion inspires reading book</td>\n",
              "      <td>[https://bookauthority.org/books/best-islamic-...</td>\n",
              "    </tr>\n",
              "    <tr>\n",
              "      <th>67</th>\n",
              "      <td>schoolgirl school every day gave</td>\n",
              "      <td>[https://www.pinterest.com/pin/177329304051103...</td>\n",
              "    </tr>\n",
              "    <tr>\n",
              "      <th>68</th>\n",
              "      <td>grandfather always grandchildren age sometimes</td>\n",
              "      <td>[https://www.verywellfamily.com/grandparents-a...</td>\n",
              "    </tr>\n",
              "    <tr>\n",
              "      <th>69</th>\n",
              "      <td>somalia country place women bedrock</td>\n",
              "      <td>[https://www.britannica.com/place/Somalia, htt...</td>\n",
              "    </tr>\n",
              "    <tr>\n",
              "      <th>70</th>\n",
              "      <td>job football player constant source</td>\n",
              "      <td>[https://www.monster.com/career-advice/article...</td>\n",
              "    </tr>\n",
              "    <tr>\n",
              "      <th>71</th>\n",
              "      <td>gentlemen doors room always go</td>\n",
              "      <td>[https://boards.straightdope.com/t/why-is-the-...</td>\n",
              "    </tr>\n",
              "    <tr>\n",
              "      <th>72</th>\n",
              "      <td>sister always younger likely attitude</td>\n",
              "      <td>[https://www.quora.com/How-do-I-cope-with-my-l...</td>\n",
              "    </tr>\n",
              "    <tr>\n",
              "      <th>73</th>\n",
              "      <td>prosecutor case witness cases seemed</td>\n",
              "      <td>[https://www.justice.gov/usao-edca/victim-witn...</td>\n",
              "    </tr>\n",
              "    <tr>\n",
              "      <th>74</th>\n",
              "      <td>dad said brought musician home</td>\n",
              "      <td>[https://www.youtube.com/watch?v=pD8mxge6kek, ...</td>\n",
              "    </tr>\n",
              "    <tr>\n",
              "      <th>75</th>\n",
              "      <td>cameroon people everyone area mostly</td>\n",
              "      <td>[https://www.worldbank.org/en/country/cameroon...</td>\n",
              "    </tr>\n",
              "    <tr>\n",
              "      <th>76</th>\n",
              "      <td>people jordan filled bengali weddings</td>\n",
              "      <td>[https://www.tourmyindia.com/blog/bengali-wedd...</td>\n",
              "    </tr>\n",
              "    <tr>\n",
              "      <th>77</th>\n",
              "      <td>mohammed living yemen lebanon</td>\n",
              "      <td>[https://abcnews.go.com/International/wireStor...</td>\n",
              "    </tr>\n",
              "    <tr>\n",
              "      <th>78</th>\n",
              "      <td>psychologist talked peer voice</td>\n",
              "      <td>[https://www.rethink.org/advice-and-informatio...</td>\n",
              "    </tr>\n",
              "    <tr>\n",
              "      <th>79</th>\n",
              "      <td>psychologist friend known last found</td>\n",
              "      <td>[https://careersinpsychology.org/how-therapist...</td>\n",
              "    </tr>\n",
              "  </tbody>\n",
              "</table>\n",
              "</div>"
            ],
            "text/plain": [
              "                                             query                                                url\n",
              "60                     courtroom prosecutor proved  [https://www.justice.gov/usao/justice-101/tria...\n",
              "61             schoolboy always saw wearing dinner  [https://charlestownbridge.com/2016/02/26/old-...\n",
              "62              bartender good serving drinks pace  [https://www.liquor.com/articles/how-to-speed-...\n",
              "63                eritrean people known wow person  [https://www.everyculture.com/Cr-Ga/Eritrea.ht...\n",
              "64          person sierra leon ancestors descended  [https://www.bbc.com/news/world-africa-4972646...\n",
              "65                civil servant job obviously work  [https://www.theguardian.com/public-leaders-ne...\n",
              "66             arab religion inspires reading book  [https://bookauthority.org/books/best-islamic-...\n",
              "67                schoolgirl school every day gave  [https://www.pinterest.com/pin/177329304051103...\n",
              "68  grandfather always grandchildren age sometimes  [https://www.verywellfamily.com/grandparents-a...\n",
              "69             somalia country place women bedrock  [https://www.britannica.com/place/Somalia, htt...\n",
              "70             job football player constant source  [https://www.monster.com/career-advice/article...\n",
              "71                  gentlemen doors room always go  [https://boards.straightdope.com/t/why-is-the-...\n",
              "72           sister always younger likely attitude  [https://www.quora.com/How-do-I-cope-with-my-l...\n",
              "73            prosecutor case witness cases seemed  [https://www.justice.gov/usao-edca/victim-witn...\n",
              "74                  dad said brought musician home  [https://www.youtube.com/watch?v=pD8mxge6kek, ...\n",
              "75            cameroon people everyone area mostly  [https://www.worldbank.org/en/country/cameroon...\n",
              "76           people jordan filled bengali weddings  [https://www.tourmyindia.com/blog/bengali-wedd...\n",
              "77                   mohammed living yemen lebanon  [https://abcnews.go.com/International/wireStor...\n",
              "78                  psychologist talked peer voice  [https://www.rethink.org/advice-and-informatio...\n",
              "79            psychologist friend known last found  [https://careersinpsychology.org/how-therapist..."
            ]
          },
          "metadata": {},
          "execution_count": 120
        }
      ]
    },
    {
      "cell_type": "code",
      "metadata": {
        "id": "j3KGsklecknx"
      },
      "source": [
        "top60_80query.to_csv(\"Top_60_80query_url.csv\",index=True)"
      ],
      "execution_count": null,
      "outputs": []
    },
    {
      "cell_type": "markdown",
      "source": [
        "**Last batch of query**"
      ],
      "metadata": {
        "id": "DN6tlLE0fsKc"
      }
    },
    {
      "cell_type": "code",
      "metadata": {
        "colab": {
          "base_uri": "https://localhost:8080/",
          "height": 680
        },
        "id": "Qnx0P1TsgfFq",
        "outputId": "ce30b3e6-f072-465a-e844-a0615a881202"
      },
      "source": [
        "#5th batch\n",
        "top80_100query=qdf.iloc[80:100,:].copy()\n",
        "top80_100=list(top80_100query['query'])\n",
        "print(len(top80_100))\n",
        "top80_100query"
      ],
      "execution_count": null,
      "outputs": [
        {
          "output_type": "stream",
          "name": "stdout",
          "text": [
            "20\n"
          ]
        },
        {
          "output_type": "execute_result",
          "data": {
            "text/html": [
              "<div>\n",
              "<style scoped>\n",
              "    .dataframe tbody tr th:only-of-type {\n",
              "        vertical-align: middle;\n",
              "    }\n",
              "\n",
              "    .dataframe tbody tr th {\n",
              "        vertical-align: top;\n",
              "    }\n",
              "\n",
              "    .dataframe thead th {\n",
              "        text-align: right;\n",
              "    }\n",
              "</style>\n",
              "<table border=\"1\" class=\"dataframe\">\n",
              "  <thead>\n",
              "    <tr style=\"text-align: right;\">\n",
              "      <th></th>\n",
              "      <th>query</th>\n",
              "    </tr>\n",
              "  </thead>\n",
              "  <tbody>\n",
              "    <tr>\n",
              "      <th>80</th>\n",
              "      <td>people iranian believe always involved</td>\n",
              "    </tr>\n",
              "    <tr>\n",
              "      <th>81</th>\n",
              "      <td>looks pictures iraq plumber dan</td>\n",
              "    </tr>\n",
              "    <tr>\n",
              "      <th>82</th>\n",
              "      <td>male women always often new</td>\n",
              "    </tr>\n",
              "    <tr>\n",
              "      <th>83</th>\n",
              "      <td>thought wanted came sports gary</td>\n",
              "    </tr>\n",
              "    <tr>\n",
              "      <th>84</th>\n",
              "      <td>mathematician man well class went</td>\n",
              "    </tr>\n",
              "    <tr>\n",
              "      <th>85</th>\n",
              "      <td>muslim religion everyone learning beliefs</td>\n",
              "    </tr>\n",
              "    <tr>\n",
              "      <th>86</th>\n",
              "      <td>gentlemen sat around club evening</td>\n",
              "    </tr>\n",
              "    <tr>\n",
              "      <th>87</th>\n",
              "      <td>plumber fix pipes informed need</td>\n",
              "    </tr>\n",
              "    <tr>\n",
              "      <th>88</th>\n",
              "      <td>assistant new coffee mentioned position</td>\n",
              "    </tr>\n",
              "    <tr>\n",
              "      <th>89</th>\n",
              "      <td>physicist lecture extremely paper published</td>\n",
              "    </tr>\n",
              "    <tr>\n",
              "      <th>90</th>\n",
              "      <td>musician played person know new</td>\n",
              "    </tr>\n",
              "    <tr>\n",
              "      <th>91</th>\n",
              "      <td>really assistant chemist think likes</td>\n",
              "    </tr>\n",
              "    <tr>\n",
              "      <th>92</th>\n",
              "      <td>producer show film seen today</td>\n",
              "    </tr>\n",
              "    <tr>\n",
              "      <th>93</th>\n",
              "      <td>eriteria faces many challenges corruption</td>\n",
              "    </tr>\n",
              "    <tr>\n",
              "      <th>94</th>\n",
              "      <td>ethiopia country looking hear always</td>\n",
              "    </tr>\n",
              "    <tr>\n",
              "      <th>95</th>\n",
              "      <td>japanese man woman men desk</td>\n",
              "    </tr>\n",
              "    <tr>\n",
              "      <th>96</th>\n",
              "      <td>russians really like comes views</td>\n",
              "    </tr>\n",
              "    <tr>\n",
              "      <th>97</th>\n",
              "      <td>performing artist child last night</td>\n",
              "    </tr>\n",
              "    <tr>\n",
              "      <th>98</th>\n",
              "      <td>saudi arabian people person government</td>\n",
              "    </tr>\n",
              "    <tr>\n",
              "      <th>99</th>\n",
              "      <td>saudi arabians usually</td>\n",
              "    </tr>\n",
              "  </tbody>\n",
              "</table>\n",
              "</div>"
            ],
            "text/plain": [
              "                                          query\n",
              "80       people iranian believe always involved\n",
              "81              looks pictures iraq plumber dan\n",
              "82                  male women always often new\n",
              "83              thought wanted came sports gary\n",
              "84            mathematician man well class went\n",
              "85    muslim religion everyone learning beliefs\n",
              "86            gentlemen sat around club evening\n",
              "87              plumber fix pipes informed need\n",
              "88      assistant new coffee mentioned position\n",
              "89  physicist lecture extremely paper published\n",
              "90              musician played person know new\n",
              "91         really assistant chemist think likes\n",
              "92                producer show film seen today\n",
              "93    eriteria faces many challenges corruption\n",
              "94         ethiopia country looking hear always\n",
              "95                  japanese man woman men desk\n",
              "96             russians really like comes views\n",
              "97           performing artist child last night\n",
              "98       saudi arabian people person government\n",
              "99                       saudi arabians usually"
            ]
          },
          "metadata": {},
          "execution_count": 124
        }
      ]
    },
    {
      "cell_type": "code",
      "metadata": {
        "colab": {
          "base_uri": "https://localhost:8080/",
          "height": 663
        },
        "id": "7IG_hg7LhKkY",
        "outputId": "51cbb501-2da9-4eca-8a00-d5f7be9b86aa"
      },
      "source": [
        "top80_100link=[]\n",
        "for i in top80_100:\n",
        "  search = GoogleSearch({\"q\": i,\"num\": 500,\"api_key\": 'f32a6960b2be4b522732bd4048f94648f75250b0e5a02fe2708665c305a1a613'})\n",
        "  result = search.get_dict()\n",
        "  link=[]\n",
        "  for j in range(len(result['organic_results'])):\n",
        "    link.append(result['organic_results'][j]['link'])\n",
        "  top80_100link.append(link) \n",
        "\n",
        "top80_100query['url']=top80_100link\n",
        "top80_100query"
      ],
      "execution_count": null,
      "outputs": [
        {
          "output_type": "execute_result",
          "data": {
            "text/html": [
              "<div>\n",
              "<style scoped>\n",
              "    .dataframe tbody tr th:only-of-type {\n",
              "        vertical-align: middle;\n",
              "    }\n",
              "\n",
              "    .dataframe tbody tr th {\n",
              "        vertical-align: top;\n",
              "    }\n",
              "\n",
              "    .dataframe thead th {\n",
              "        text-align: right;\n",
              "    }\n",
              "</style>\n",
              "<table border=\"1\" class=\"dataframe\">\n",
              "  <thead>\n",
              "    <tr style=\"text-align: right;\">\n",
              "      <th></th>\n",
              "      <th>query</th>\n",
              "      <th>url</th>\n",
              "    </tr>\n",
              "  </thead>\n",
              "  <tbody>\n",
              "    <tr>\n",
              "      <th>80</th>\n",
              "      <td>people iranian believe always involved</td>\n",
              "      <td>[https://theconversation.com/irans-secular-shi...</td>\n",
              "    </tr>\n",
              "    <tr>\n",
              "      <th>81</th>\n",
              "      <td>looks pictures iraq plumber dan</td>\n",
              "      <td>[https://www.facebook.com/PlumberDanWanganui/,...</td>\n",
              "    </tr>\n",
              "    <tr>\n",
              "      <th>82</th>\n",
              "      <td>male women always often new</td>\n",
              "      <td>[https://hbr.org/2010/09/why-men-still-get-mor...</td>\n",
              "    </tr>\n",
              "    <tr>\n",
              "      <th>83</th>\n",
              "      <td>thought wanted came sports gary</td>\n",
              "      <td>[https://theathletic.com/2874821/2021/10/11/i-...</td>\n",
              "    </tr>\n",
              "    <tr>\n",
              "      <th>84</th>\n",
              "      <td>mathematician man well class went</td>\n",
              "      <td>[https://www.topuniversities.com/courses/mathe...</td>\n",
              "    </tr>\n",
              "    <tr>\n",
              "      <th>85</th>\n",
              "      <td>muslim religion everyone learning beliefs</td>\n",
              "      <td>[https://www.pbs.org/wgbh/pages/frontline/teac...</td>\n",
              "    </tr>\n",
              "    <tr>\n",
              "      <th>86</th>\n",
              "      <td>gentlemen sat around club evening</td>\n",
              "      <td>[https://goldclubsf.com/, https://thebolditali...</td>\n",
              "    </tr>\n",
              "    <tr>\n",
              "      <th>87</th>\n",
              "      <td>plumber fix pipes informed need</td>\n",
              "      <td>[https://happyhiller.com/blog/common-plumbing-...</td>\n",
              "    </tr>\n",
              "    <tr>\n",
              "      <th>88</th>\n",
              "      <td>assistant new coffee mentioned position</td>\n",
              "      <td>[https://www.slcuk.com/wp-content/uploads/2021...</td>\n",
              "    </tr>\n",
              "    <tr>\n",
              "      <th>89</th>\n",
              "      <td>physicist lecture extremely paper published</td>\n",
              "      <td>[https://www.nature.com/articles/s41567-020-01...</td>\n",
              "    </tr>\n",
              "    <tr>\n",
              "      <th>90</th>\n",
              "      <td>musician played person know new</td>\n",
              "      <td>[https://www.stringkick.com/blog-lessons/find-...</td>\n",
              "    </tr>\n",
              "    <tr>\n",
              "      <th>91</th>\n",
              "      <td>really assistant chemist think likes</td>\n",
              "      <td>[https://news.stanford.edu/2019/08/19/what-its...</td>\n",
              "    </tr>\n",
              "    <tr>\n",
              "      <th>92</th>\n",
              "      <td>producer show film seen today</td>\n",
              "      <td>[https://www.hollywoodreporter.com/lists/holly...</td>\n",
              "    </tr>\n",
              "    <tr>\n",
              "      <th>93</th>\n",
              "      <td>eriteria faces many challenges corruption</td>\n",
              "      <td>[https://en.wikipedia.org/wiki/Corruption_in_E...</td>\n",
              "    </tr>\n",
              "    <tr>\n",
              "      <th>94</th>\n",
              "      <td>ethiopia country looking hear always</td>\n",
              "      <td>[https://www.youtube.com/watch?v=PjiE6GFYW_k, ...</td>\n",
              "    </tr>\n",
              "    <tr>\n",
              "      <th>95</th>\n",
              "      <td>japanese man woman men desk</td>\n",
              "      <td>[https://nextshark.com/japanese-woman-blasts-m...</td>\n",
              "    </tr>\n",
              "    <tr>\n",
              "      <th>96</th>\n",
              "      <td>russians really like comes views</td>\n",
              "      <td>[https://www.pewresearch.org/fact-tank/2018/10...</td>\n",
              "    </tr>\n",
              "    <tr>\n",
              "      <th>97</th>\n",
              "      <td>performing artist child last night</td>\n",
              "      <td>[https://www.scholastic.com/parents/family-lif...</td>\n",
              "    </tr>\n",
              "    <tr>\n",
              "      <th>98</th>\n",
              "      <td>saudi arabian people person government</td>\n",
              "      <td>[https://en.wikipedia.org/wiki/Politics_of_Sau...</td>\n",
              "    </tr>\n",
              "    <tr>\n",
              "      <th>99</th>\n",
              "      <td>saudi arabians usually</td>\n",
              "      <td>[https://en.wikipedia.org/wiki/Culture_of_Saud...</td>\n",
              "    </tr>\n",
              "  </tbody>\n",
              "</table>\n",
              "</div>"
            ],
            "text/plain": [
              "                                          query                                                url\n",
              "80       people iranian believe always involved  [https://theconversation.com/irans-secular-shi...\n",
              "81              looks pictures iraq plumber dan  [https://www.facebook.com/PlumberDanWanganui/,...\n",
              "82                  male women always often new  [https://hbr.org/2010/09/why-men-still-get-mor...\n",
              "83              thought wanted came sports gary  [https://theathletic.com/2874821/2021/10/11/i-...\n",
              "84            mathematician man well class went  [https://www.topuniversities.com/courses/mathe...\n",
              "85    muslim religion everyone learning beliefs  [https://www.pbs.org/wgbh/pages/frontline/teac...\n",
              "86            gentlemen sat around club evening  [https://goldclubsf.com/, https://thebolditali...\n",
              "87              plumber fix pipes informed need  [https://happyhiller.com/blog/common-plumbing-...\n",
              "88      assistant new coffee mentioned position  [https://www.slcuk.com/wp-content/uploads/2021...\n",
              "89  physicist lecture extremely paper published  [https://www.nature.com/articles/s41567-020-01...\n",
              "90              musician played person know new  [https://www.stringkick.com/blog-lessons/find-...\n",
              "91         really assistant chemist think likes  [https://news.stanford.edu/2019/08/19/what-its...\n",
              "92                producer show film seen today  [https://www.hollywoodreporter.com/lists/holly...\n",
              "93    eriteria faces many challenges corruption  [https://en.wikipedia.org/wiki/Corruption_in_E...\n",
              "94         ethiopia country looking hear always  [https://www.youtube.com/watch?v=PjiE6GFYW_k, ...\n",
              "95                  japanese man woman men desk  [https://nextshark.com/japanese-woman-blasts-m...\n",
              "96             russians really like comes views  [https://www.pewresearch.org/fact-tank/2018/10...\n",
              "97           performing artist child last night  [https://www.scholastic.com/parents/family-lif...\n",
              "98       saudi arabian people person government  [https://en.wikipedia.org/wiki/Politics_of_Sau...\n",
              "99                       saudi arabians usually  [https://en.wikipedia.org/wiki/Culture_of_Saud..."
            ]
          },
          "metadata": {},
          "execution_count": 125
        }
      ]
    },
    {
      "cell_type": "code",
      "metadata": {
        "id": "UICw1AjhlNso"
      },
      "source": [
        "top80_100query.to_csv(\"Top_80_100query_url.csv\",index=True)"
      ],
      "execution_count": null,
      "outputs": []
    },
    {
      "cell_type": "code",
      "metadata": {
        "colab": {
          "base_uri": "https://localhost:8080/"
        },
        "id": "hjAZj_Fjmkxv",
        "outputId": "b26ef8e3-434d-472e-e3bd-fceb9aa601a5"
      },
      "source": [
        "#read all the csv files as per query batch\n",
        "df1=pd.read_csv('Top_20_query_url.csv')\n",
        "print(df1.shape)\n",
        "df2=pd.read_csv('Top_20_40query_url.csv')\n",
        "print(df2.shape)\n",
        "df3=pd.read_csv('Top_40_60query_url.csv')\n",
        "print(df3.shape)\n",
        "df4=pd.read_csv('Top_60_80query_url.csv')\n",
        "print(df4.shape)\n",
        "df5=pd.read_csv('Top_80_100query_url.csv')\n",
        "print(df5.shape)\n"
      ],
      "execution_count": null,
      "outputs": [
        {
          "output_type": "stream",
          "name": "stdout",
          "text": [
            "(20, 3)\n",
            "(20, 3)\n",
            "(20, 3)\n",
            "(20, 3)\n",
            "(20, 3)\n"
          ]
        }
      ]
    },
    {
      "cell_type": "code",
      "metadata": {
        "colab": {
          "base_uri": "https://localhost:8080/",
          "height": 415
        },
        "id": "veiGv_EeoynW",
        "outputId": "8a7da077-2e41-469b-fe42-697e166c43c2"
      },
      "source": [
        "#concatenate all the dataframes together 20+20+20+20+20=100\n",
        "frames = [df1,df2,df3,df4,df5]  # Or perform operations on the DFs\n",
        "result = pd.concat(frames,ignore_index=True)\n",
        "result"
      ],
      "execution_count": null,
      "outputs": [
        {
          "output_type": "execute_result",
          "data": {
            "text/html": [
              "<div>\n",
              "<style scoped>\n",
              "    .dataframe tbody tr th:only-of-type {\n",
              "        vertical-align: middle;\n",
              "    }\n",
              "\n",
              "    .dataframe tbody tr th {\n",
              "        vertical-align: top;\n",
              "    }\n",
              "\n",
              "    .dataframe thead th {\n",
              "        text-align: right;\n",
              "    }\n",
              "</style>\n",
              "<table border=\"1\" class=\"dataframe\">\n",
              "  <thead>\n",
              "    <tr style=\"text-align: right;\">\n",
              "      <th></th>\n",
              "      <th>index</th>\n",
              "      <th>query</th>\n",
              "      <th>url</th>\n",
              "    </tr>\n",
              "  </thead>\n",
              "  <tbody>\n",
              "    <tr>\n",
              "      <th>0</th>\n",
              "      <td>0</td>\n",
              "      <td>columbian man lot experience known</td>\n",
              "      <td>['http://bogotastic.com/confessions-dating-col...</td>\n",
              "    </tr>\n",
              "    <tr>\n",
              "      <th>1</th>\n",
              "      <td>1</td>\n",
              "      <td>researcher butcher many politician historian</td>\n",
              "      <td>['https://en.wikipedia.org/wiki/Upton_Sinclair...</td>\n",
              "    </tr>\n",
              "    <tr>\n",
              "      <th>2</th>\n",
              "      <td>2</td>\n",
              "      <td>people persian hispanic many often</td>\n",
              "      <td>['https://en.wikipedia.org/wiki/Persians', 'ht...</td>\n",
              "    </tr>\n",
              "    <tr>\n",
              "      <th>3</th>\n",
              "      <td>3</td>\n",
              "      <td>man muslim hispanic arab norweigan</td>\n",
              "      <td>['https://en.wikipedia.org/wiki/Hispanic_and_L...</td>\n",
              "    </tr>\n",
              "    <tr>\n",
              "      <th>4</th>\n",
              "      <td>4</td>\n",
              "      <td>tailor made pants suits sewed</td>\n",
              "      <td>['https://www.mycustomtailor.com/women-bespoke...</td>\n",
              "    </tr>\n",
              "    <tr>\n",
              "      <th>...</th>\n",
              "      <td>...</td>\n",
              "      <td>...</td>\n",
              "      <td>...</td>\n",
              "    </tr>\n",
              "    <tr>\n",
              "      <th>95</th>\n",
              "      <td>95</td>\n",
              "      <td>japanese man woman men desk</td>\n",
              "      <td>['https://nextshark.com/japanese-woman-blasts-...</td>\n",
              "    </tr>\n",
              "    <tr>\n",
              "      <th>96</th>\n",
              "      <td>96</td>\n",
              "      <td>russians really like comes views</td>\n",
              "      <td>['https://www.pewresearch.org/fact-tank/2018/1...</td>\n",
              "    </tr>\n",
              "    <tr>\n",
              "      <th>97</th>\n",
              "      <td>97</td>\n",
              "      <td>performing artist child last night</td>\n",
              "      <td>['https://www.scholastic.com/parents/family-li...</td>\n",
              "    </tr>\n",
              "    <tr>\n",
              "      <th>98</th>\n",
              "      <td>98</td>\n",
              "      <td>saudi arabian people person government</td>\n",
              "      <td>['https://en.wikipedia.org/wiki/Politics_of_Sa...</td>\n",
              "    </tr>\n",
              "    <tr>\n",
              "      <th>99</th>\n",
              "      <td>99</td>\n",
              "      <td>saudi arabians usually</td>\n",
              "      <td>['https://en.wikipedia.org/wiki/Culture_of_Sau...</td>\n",
              "    </tr>\n",
              "  </tbody>\n",
              "</table>\n",
              "<p>100 rows × 3 columns</p>\n",
              "</div>"
            ],
            "text/plain": [
              "    index  ...                                                url\n",
              "0       0  ...  ['http://bogotastic.com/confessions-dating-col...\n",
              "1       1  ...  ['https://en.wikipedia.org/wiki/Upton_Sinclair...\n",
              "2       2  ...  ['https://en.wikipedia.org/wiki/Persians', 'ht...\n",
              "3       3  ...  ['https://en.wikipedia.org/wiki/Hispanic_and_L...\n",
              "4       4  ...  ['https://www.mycustomtailor.com/women-bespoke...\n",
              "..    ...  ...                                                ...\n",
              "95     95  ...  ['https://nextshark.com/japanese-woman-blasts-...\n",
              "96     96  ...  ['https://www.pewresearch.org/fact-tank/2018/1...\n",
              "97     97  ...  ['https://www.scholastic.com/parents/family-li...\n",
              "98     98  ...  ['https://en.wikipedia.org/wiki/Politics_of_Sa...\n",
              "99     99  ...  ['https://en.wikipedia.org/wiki/Culture_of_Sau...\n",
              "\n",
              "[100 rows x 3 columns]"
            ]
          },
          "metadata": {},
          "execution_count": 174
        }
      ]
    },
    {
      "cell_type": "code",
      "metadata": {
        "id": "QHx2g3P-006w"
      },
      "source": [
        "result"
      ],
      "execution_count": null,
      "outputs": []
    },
    {
      "cell_type": "code",
      "metadata": {
        "colab": {
          "base_uri": "https://localhost:8080/"
        },
        "id": "oCntzUOVpOVc",
        "outputId": "fc71a117-a0f4-4149-9805-76b7e7a6fa81"
      },
      "source": [
        "result.columns"
      ],
      "execution_count": null,
      "outputs": [
        {
          "output_type": "execute_result",
          "data": {
            "text/plain": [
              "Index(['index', 'query', 'url'], dtype='object')"
            ]
          },
          "metadata": {},
          "execution_count": 138
        }
      ]
    },
    {
      "cell_type": "code",
      "metadata": {
        "id": "3wj4Z0eEpzLa"
      },
      "source": [
        "result.to_csv(\"All_query_aggregatev1.csv\",index=False)"
      ],
      "execution_count": null,
      "outputs": []
    },
    {
      "cell_type": "code",
      "metadata": {
        "colab": {
          "base_uri": "https://localhost:8080/",
          "height": 202
        },
        "id": "yqqjnglirIuJ",
        "outputId": "5a206580-906b-4b6e-86a4-3fad1d0cbff3"
      },
      "source": [
        "result.head(5)"
      ],
      "execution_count": null,
      "outputs": [
        {
          "output_type": "execute_result",
          "data": {
            "text/html": [
              "<div>\n",
              "<style scoped>\n",
              "    .dataframe tbody tr th:only-of-type {\n",
              "        vertical-align: middle;\n",
              "    }\n",
              "\n",
              "    .dataframe tbody tr th {\n",
              "        vertical-align: top;\n",
              "    }\n",
              "\n",
              "    .dataframe thead th {\n",
              "        text-align: right;\n",
              "    }\n",
              "</style>\n",
              "<table border=\"1\" class=\"dataframe\">\n",
              "  <thead>\n",
              "    <tr style=\"text-align: right;\">\n",
              "      <th></th>\n",
              "      <th>index</th>\n",
              "      <th>query</th>\n",
              "      <th>url</th>\n",
              "      <th>length</th>\n",
              "    </tr>\n",
              "  </thead>\n",
              "  <tbody>\n",
              "    <tr>\n",
              "      <th>0</th>\n",
              "      <td>0</td>\n",
              "      <td>columbian man lot experience known</td>\n",
              "      <td>['http://bogotastic.com/confessions-dating-col...</td>\n",
              "      <td>8861</td>\n",
              "    </tr>\n",
              "    <tr>\n",
              "      <th>1</th>\n",
              "      <td>1</td>\n",
              "      <td>researcher butcher many politician historian</td>\n",
              "      <td>['https://en.wikipedia.org/wiki/Upton_Sinclair...</td>\n",
              "      <td>10081</td>\n",
              "    </tr>\n",
              "    <tr>\n",
              "      <th>2</th>\n",
              "      <td>2</td>\n",
              "      <td>people persian hispanic many often</td>\n",
              "      <td>['https://en.wikipedia.org/wiki/Persians', 'ht...</td>\n",
              "      <td>8030</td>\n",
              "    </tr>\n",
              "    <tr>\n",
              "      <th>3</th>\n",
              "      <td>3</td>\n",
              "      <td>man muslim hispanic arab norweigan</td>\n",
              "      <td>['https://en.wikipedia.org/wiki/Hispanic_and_L...</td>\n",
              "      <td>9361</td>\n",
              "    </tr>\n",
              "    <tr>\n",
              "      <th>4</th>\n",
              "      <td>4</td>\n",
              "      <td>tailor made pants suits sewed</td>\n",
              "      <td>['https://www.mycustomtailor.com/women-bespoke...</td>\n",
              "      <td>5614</td>\n",
              "    </tr>\n",
              "  </tbody>\n",
              "</table>\n",
              "</div>"
            ],
            "text/plain": [
              "   index  ... length\n",
              "0      0  ...   8861\n",
              "1      1  ...  10081\n",
              "2      2  ...   8030\n",
              "3      3  ...   9361\n",
              "4      4  ...   5614\n",
              "\n",
              "[5 rows x 4 columns]"
            ]
          },
          "metadata": {},
          "execution_count": 170
        }
      ]
    },
    {
      "cell_type": "code",
      "metadata": {
        "colab": {
          "base_uri": "https://localhost:8080/",
          "height": 35
        },
        "id": "KW9kOpXb0euC",
        "outputId": "4cbe8997-3c84-474b-af3c-c1cbd9a1bdb2"
      },
      "source": [
        "result['query'][0]"
      ],
      "execution_count": null,
      "outputs": [
        {
          "output_type": "execute_result",
          "data": {
            "application/vnd.google.colaboratory.intrinsic+json": {
              "type": "string"
            },
            "text/plain": [
              "'columbian man lot experience known'"
            ]
          },
          "metadata": {},
          "execution_count": 175
        }
      ]
    },
    {
      "cell_type": "code",
      "metadata": {
        "id": "jJQDLzdirT7J"
      },
      "source": [
        "def length(ur):\n",
        "  c=0\n",
        "  for i in ur.split(\",\"):\n",
        "    c=c+1\n",
        "  return c\n",
        "\n",
        "result['length']=result['url'].apply(length)"
      ],
      "execution_count": null,
      "outputs": []
    },
    {
      "cell_type": "code",
      "metadata": {
        "colab": {
          "base_uri": "https://localhost:8080/",
          "height": 356
        },
        "id": "USH-4WGg1Q31",
        "outputId": "64e0d8d2-0687-4af0-b4e8-f86b48966efe"
      },
      "source": [
        "result.head(10)"
      ],
      "execution_count": null,
      "outputs": [
        {
          "output_type": "execute_result",
          "data": {
            "text/html": [
              "<div>\n",
              "<style scoped>\n",
              "    .dataframe tbody tr th:only-of-type {\n",
              "        vertical-align: middle;\n",
              "    }\n",
              "\n",
              "    .dataframe tbody tr th {\n",
              "        vertical-align: top;\n",
              "    }\n",
              "\n",
              "    .dataframe thead th {\n",
              "        text-align: right;\n",
              "    }\n",
              "</style>\n",
              "<table border=\"1\" class=\"dataframe\">\n",
              "  <thead>\n",
              "    <tr style=\"text-align: right;\">\n",
              "      <th></th>\n",
              "      <th>index</th>\n",
              "      <th>query</th>\n",
              "      <th>url</th>\n",
              "      <th>length</th>\n",
              "    </tr>\n",
              "  </thead>\n",
              "  <tbody>\n",
              "    <tr>\n",
              "      <th>0</th>\n",
              "      <td>0</td>\n",
              "      <td>columbian man lot experience known</td>\n",
              "      <td>['http://bogotastic.com/confessions-dating-col...</td>\n",
              "      <td>98</td>\n",
              "    </tr>\n",
              "    <tr>\n",
              "      <th>1</th>\n",
              "      <td>1</td>\n",
              "      <td>researcher butcher many politician historian</td>\n",
              "      <td>['https://en.wikipedia.org/wiki/Upton_Sinclair...</td>\n",
              "      <td>99</td>\n",
              "    </tr>\n",
              "    <tr>\n",
              "      <th>2</th>\n",
              "      <td>2</td>\n",
              "      <td>people persian hispanic many often</td>\n",
              "      <td>['https://en.wikipedia.org/wiki/Persians', 'ht...</td>\n",
              "      <td>91</td>\n",
              "    </tr>\n",
              "    <tr>\n",
              "      <th>3</th>\n",
              "      <td>3</td>\n",
              "      <td>man muslim hispanic arab norweigan</td>\n",
              "      <td>['https://en.wikipedia.org/wiki/Hispanic_and_L...</td>\n",
              "      <td>87</td>\n",
              "    </tr>\n",
              "    <tr>\n",
              "      <th>4</th>\n",
              "      <td>4</td>\n",
              "      <td>tailor made pants suits sewed</td>\n",
              "      <td>['https://www.mycustomtailor.com/women-bespoke...</td>\n",
              "      <td>97</td>\n",
              "    </tr>\n",
              "    <tr>\n",
              "      <th>5</th>\n",
              "      <td>5</td>\n",
              "      <td>football player players game winning</td>\n",
              "      <td>['https://en.wikipedia.org/wiki/List_of_NFL_pl...</td>\n",
              "      <td>98</td>\n",
              "    </tr>\n",
              "    <tr>\n",
              "      <th>6</th>\n",
              "      <td>6</td>\n",
              "      <td>known lebanon place woman politician</td>\n",
              "      <td>['https://en.wikipedia.org/wiki/Category:Leban...</td>\n",
              "      <td>99</td>\n",
              "    </tr>\n",
              "    <tr>\n",
              "      <th>7</th>\n",
              "      <td>7</td>\n",
              "      <td>crimean people peninsula much always</td>\n",
              "      <td>['https://en.wikipedia.org/wiki/History_of_Cri...</td>\n",
              "      <td>97</td>\n",
              "    </tr>\n",
              "    <tr>\n",
              "      <th>8</th>\n",
              "      <td>8</td>\n",
              "      <td>afghanistan people person full reputation</td>\n",
              "      <td>['https://culturalatlas.sbs.com.au/afghan-cult...</td>\n",
              "      <td>97</td>\n",
              "    </tr>\n",
              "    <tr>\n",
              "      <th>9</th>\n",
              "      <td>9</td>\n",
              "      <td>ghanaian people met economy world</td>\n",
              "      <td>['https://www.worldbank.org/en/country/ghana/o...</td>\n",
              "      <td>98</td>\n",
              "    </tr>\n",
              "  </tbody>\n",
              "</table>\n",
              "</div>"
            ],
            "text/plain": [
              "   index  ... length\n",
              "0      0  ...     98\n",
              "1      1  ...     99\n",
              "2      2  ...     91\n",
              "3      3  ...     87\n",
              "4      4  ...     97\n",
              "5      5  ...     98\n",
              "6      6  ...     99\n",
              "7      7  ...     97\n",
              "8      8  ...     97\n",
              "9      9  ...     98\n",
              "\n",
              "[10 rows x 4 columns]"
            ]
          },
          "metadata": {},
          "execution_count": 190
        }
      ]
    },
    {
      "cell_type": "code",
      "metadata": {
        "id": "1hPXeTsq2mnT"
      },
      "source": [
        "result.to_csv(\"All_query_aggregatev1.csv\",index=False)"
      ],
      "execution_count": null,
      "outputs": []
    },
    {
      "cell_type": "code",
      "metadata": {
        "colab": {
          "base_uri": "https://localhost:8080/"
        },
        "id": "0jRvSWkC3FfV",
        "outputId": "cf8ec8db-3bff-41ec-8ae1-2e08eb32c6bc"
      },
      "source": [
        "result['length'].describe()"
      ],
      "execution_count": null,
      "outputs": [
        {
          "output_type": "execute_result",
          "data": {
            "text/plain": [
              "count    100.000000\n",
              "mean      91.240000\n",
              "std       16.522479\n",
              "min       22.000000\n",
              "25%       95.750000\n",
              "50%       97.000000\n",
              "75%       99.000000\n",
              "max      101.000000\n",
              "Name: length, dtype: float64"
            ]
          },
          "metadata": {},
          "execution_count": 192
        }
      ]
    },
    {
      "cell_type": "markdown",
      "metadata": {
        "id": "gN6nEu42etx9"
      },
      "source": [
        ""
      ]
    },
    {
      "cell_type": "code",
      "metadata": {
        "id": "LU_ubWC2bBuQ"
      },
      "source": [
        ""
      ],
      "execution_count": null,
      "outputs": []
    }
  ]
}